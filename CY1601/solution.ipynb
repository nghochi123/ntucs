{
 "cells": [
  {
   "cell_type": "markdown",
   "metadata": {},
   "source": [
    "# Runge Kutta methods\n",
    "\n",
    "In the last few exercises we explored Euler's method of finding numerical solutions to the Initial Value Problem:\n",
    " \n",
    "$$\\frac{dy}{dx}=f(x,y),\\quad y(x_0)=y_0.$$\n",
    " \n",
    "The method, giving us approximate function values $y_1^*,y_2^*,y_3^*,\\ldots$, corresponding to a given set of points $x_1,x_2,x_3\\ldots$ was summarized in the recurrent formula:\n",
    " \n",
    "$$y_0^*=y_0,\\quad y_k^*=y_{k-1}^*+f(x_{k-1},y_{k-1}^*)(x_{k}-x_{k-1}),\\quad k=1,2,\\ldots.$$\n",
    " \n",
    " \n",
    "While being easy to understand (we use the derivative provided by $f$ and the estimated function value $y_{k-1}^*$ at one point to guess the value $y_k^*$ at the next point), Euler's method is however not very precise and often you will need very small step sizes $x_k-x_{k-1}$ to get reasonable accuracy.\n",
    " \n",
    "Fortunately, there are better methods available. One commonly used family of methods are the Runge-Kutta methods. The basic idea behind these methods is the same as for Euler's method, but instead of only using the derivative value provided by $f$ at $(x_{k-1},y_{k-1}^*)$, these methods use weighted averages of values of $f$ *at a few different points near $(x_{k-1},y_{k-1}^*)$*. Exactly how and why this works, is outside the scope of this course, but feel free to look it up if you are interested (Googling \"Runge-Kutta\" should give you some info).\n",
    "\n",
    "Below is a function `rk4` that applies a \"fourth order\" Runge-Kutta method to the initial value problem above. You can use it exactly like you use the `euler` function from your previous exercise. You don't have to understand how it works, but as mentioned above - feel free to look it up."
   ]
  },
  {
   "cell_type": "code",
   "execution_count": 1,
   "metadata": {},
   "outputs": [],
   "source": [
    "import numpy as np\n",
    "import matplotlib.pyplot as plt"
   ]
  },
  {
   "cell_type": "code",
   "execution_count": 2,
   "metadata": {},
   "outputs": [],
   "source": [
    "def rk4(f,X,y0) :\n",
    "    \"\"\"The function 'rk4' takes three arguments:\n",
    "    A function f of two variables, an array X of x-values and an initial y-value y0.\n",
    "    It returns an array of corresponding y-values, starting with y0\"\"\"\n",
    "    l = len(X)              \n",
    "    y = np.zeros(l)         \n",
    "    y[0] = y0               \n",
    "    for k in range(1,l) :    \n",
    "        h = X[k]-X[k-1]\n",
    "        k1 = f(X[k-1],y[k-1])\n",
    "        k2 = f(X[k - 1] + h / 2, y[k - 1] + k1 * h / 2)\n",
    "        k3 = f(X[k - 1] + h / 2, y[k - 1] + k2 * h / 2)\n",
    "        k4 = f(X[k - 1] + h, y[k - 1] + k3 * h)\n",
    "        y[k] = y[k-1]+(k1+2*k2+2*k3+k4)/6*h\n",
    "    return y              "
   ]
  },
  {
   "cell_type": "markdown",
   "metadata": {},
   "source": [
    "## Exercise\n",
    "\n",
    "In this exercise we will just use an example to illustrate the effectiveness of Runge-Kutta methods as compared to Euler's method. Let's consider again the i.v.p.\n",
    "$$y'=y-x^2,\\quad y(0)=1,$$\n",
    "which we studied in the previous exercise. \n",
    "\n",
    "1. Take your function `euler` from the last exercise (you can copy and paste the function into a cell in this notebook) and use it to calculate an approximate solution for 7 equally spaced $x$-values from $0$ to $3$ (like we did in the last exercise).\n",
    "2. Do the same again, but using `rk4` (provided above) instead of `euler`.\n",
    "3. Plot both approximate solutions together with the exact solution, $$y(x)=x^2+2x+2-e^x,$$ all in the same plot. Use 1000 points for your plot of the exact solution.\n",
    "\n",
    "Plot the exact solution in blue (control string `'b'`), the 7 point Euler approximation as green points joined by line segments (control string `'g.-'`), and the 7 point Runge-Kutta approximation as red points joined by line segments (control string `'r.-'`)\n",
    "\n",
    "### To submit in LAMS.\n",
    "Submit the plot (one plot with three graphs)."
   ]
  },
  {
   "cell_type": "code",
   "execution_count": 3,
   "metadata": {},
   "outputs": [],
   "source": [
    "def euler(f, X, y0):\n",
    "    l = len(X)\n",
    "    Y = np.zeros(l)\n",
    "    Y[0] = y0\n",
    "    \n",
    "    for k in range(1, l):\n",
    "        Y[k] = Y[k-1] + f(X[k-1], Y[k-1]) * (X[k] - X[k-1])\n",
    "    \n",
    "    return Y"
   ]
  },
  {
   "cell_type": "code",
   "execution_count": 6,
   "metadata": {},
   "outputs": [
    {
     "data": {
      "image/png": "[encoded data removed]",
      "text/plain": [
       "<Figure size 432x288 with 1 Axes>"
      ]
     },
     "metadata": {
      "needs_background": "light"
     },
     "output_type": "display_data"
    }
   ],
   "source": [
    "def f(x, y):\n",
    "    return y - x**2\n",
    "\n",
    "def sol(x) :\n",
    "    return x**2+2*x+2-np.exp(x)\n",
    "\n",
    "x_approx = np.linspace(0, 3, 7)\n",
    "x_exact = np.linspace(0, 3, 1000)\n",
    "\n",
    "y0 = 1\n",
    "y_euler = euler(f, x_approx, y0)\n",
    "y_rk4 = rk4(f, x_approx, y0)\n",
    "y_exact = sol(x_exact)\n",
    "\n",
    "plt.plot(x_exact, y_exact, 'b', label='Exact solution')\n",
    "plt.plot(x_approx, y_euler, 'g.-', label='7 point approximation, Euler')\n",
    "plt.plot(x_approx, y_rk4, 'r.-', label='7 point approximation, RK4')\n",
    "\n",
    "plt.legend()\n",
    "\n",
    "plt.show()"
   ]
  },
  {
   "cell_type": "code",
   "execution_count": null,
   "metadata": {},
   "outputs": [],
   "source": []
  }
 ],
 "metadata": {
  "kernelspec": {
   "display_name": "Python 3",
   "language": "python",
   "name": "python3"
  },
  "language_info": {
   "codemirror_mode": {
    "name": "ipython",
    "version": 3
   },
   "file_extension": ".py",
   "mimetype": "text/x-python",
   "name": "python",
   "nbconvert_exporter": "python",
   "pygments_lexer": "ipython3",
   "version": "3.7.4"
  }
 },
 "nbformat": 4,
 "nbformat_minor": 4
}
