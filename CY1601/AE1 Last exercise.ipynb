{
 "cells": [
  {
   "cell_type": "markdown",
   "metadata": {},
   "source": [
    "## Guessing whether $c\\in M$\n",
    " \n",
    "In the previous exercise we saw that if we are given some $c\\in\\mathbb{C}$, then start calculating the corresponding sequence,\n",
    "$$z_1, z_2,z_3,\\ldots,$$\n",
    "where \n",
    "$$z_{n+1}=z_n^2+c,\\quad z_0=0,$$ \n",
    "and eventually reach some $n$ for which $|z_n|>2$, then we can conclude that $c\\not\\in M$ (using Lemma 1).\n",
    " \n",
    "But what if we calculate $z_1,z_2,\\ldots,z_N$ for a large value of $N$ and find that they all have modulus smaller than or equal to $2$, i.e. \n",
    " \n",
    "$$|z_n|\\leq 2,\\quad\\text{for all }n=1,2,\\ldots,N.$$\n",
    " \n",
    "Unfortunately, Lemma 1 can't help us here. It *might* be true that the sequence is bounded, but it might also be true that $|z_n|> 2$ for some $n>N$ that we haven't checked. To be sure that the sequence is bounded we would need some other argument (like what you probably did for $c=-1$ and $c=i$ in an earlier exercise), but for most values of $c$, coming up with such an argument is not that easy.\n",
    " \n",
    "For such a case, let us instead just *guess* that $c\\in M$. In other words, let's first decide on a large value $N$, then if for some $c$ it happens that \n",
    "$$|z_n|\\leq 2,\\quad\\text{for all }n=1,2,\\ldots,N,$$\n",
    "we will just stop calculating and *guess* that $c\\in M$.\n",
    " \n",
    "Your exercise which is the main exercise of this AE, is to create a Python function that does that job for us. You can edit the following cell until it works:"
   ]
  },
  {
   "cell_type": "code",
   "execution_count": 9,
   "metadata": {},
   "outputs": [],
   "source": [
    "def guess(c,N) :\n",
    "    \"\"\"Takes two arguments c and N. Guess if c is in M by iterating at most N times\"\"\"\n",
    "    z = 0  # Start with z = 0\n",
    "    n = 0  # At first we have done zero iterations.\n",
    "    # Finish the rest of this function yourself. It should keep on iterating the formula from the exercise\n",
    "    # until either z exceeds 2 in absolute value or the loop has been iterated the maximum number of times.\n",
    "    # In other words you need a wile loop that keeps on running as long as both conditions are not satisfied.\n",
    "    # After the loop has finished, the function should return the number of iterations that were performed.\n",
    "    while abs(z) <= 2 and n < N:\n",
    "        z = z**2 + c\n",
    "        n += 1\n",
    "    return n"
   ]
  },
  {
   "cell_type": "markdown",
   "metadata": {},
   "source": [
    "#### Some clarifications\n",
    "\n",
    "The code in the cell above is incomplete and it is your job to finish it. \n",
    "\n",
    "The function `guess(c,N)` should:\n",
    "- Take two arguments, `c` and `N` (this is already taken care of in the provided function header).\n",
    "- Start by setting `z=0` and `n=0` (also taken care of)\n",
    "- Contain a while loop that keeps on repeating until `abs(z)>2` or `n=N`. You will have to write this while loop.\n",
    "- *After* the loop has finished, the function should `return` the value of `n` that was reached (this will be either `N` or some smaller number).\n",
    "\n",
    "#### Further clarification and a hint\n",
    "\n",
    "Note that the goal is to create a function that either returns `N` or the smallest number `n<N` for which `abs(z)>2`.\n",
    " \n",
    "*Hint*: For the loop to keep running *until* `abs(z)>2` or `n=N`, means that it should keep running as long as both those conditions are not satisfied. In other words, your while condition can be a logical expression involving a logical `and`.\n",
    "\n",
    "*Hint*: A common source of error in Python is a forgotten `:`. Note that your `while` condition should end with a `:`\n",
    "\n",
    "*Advice*: Another way to solve the exercise is to use a `for` loop instead of a `while` loop, combined with a `break` statement (something you haven't been taught yet in this course but I sometimes see students do). Maybe this is a matter of taste, but I think such a solution is *much less elegant* than a `while` loop with an appropriate logical condition. So, at least for this exercise, please try to solve it with a `while` loop as suggested above. Pleose avoid using a `for` - `break` construction :) Thanks!\n",
    "\n",
    "*Note*: Note that your functon should just `return` a value, *not* `print` it (if you don't know what `print` means, just ignore this comment). A `print` statement in your code might be useful for debugging purposes, but your finished function should **not** include any `print` statements. An important reason for this is that in the last step of this exercise, your function will be called 921600 times (!) which means that you really don't want these function calls to generate output to the screen."
   ]
  },
  {
   "cell_type": "markdown",
   "metadata": {},
   "source": [
    "#### Testing your function\n",
    "\n",
    "After you have completed the function definition above, you should run the cell. If you get an error message, something is wrong, but even if there's no error reported there might still be mistakes, so you should *test* the function.\n",
    "\n",
    "For example, according to your previous calculations, with $c=0.9i$ it takes $8$ iterations before $|z_n|>2$. Hence, if the function works as it should, the command \n",
    "\n",
    "`guess(0.9j,1000)`\n",
    "\n",
    "should return the number `8`. On the other hand, since you know that $-1\\in M$ and $i\\in M$, the commands\n",
    "\n",
    "`guess(-1,1000)` and `guess(1j,1000)`\n",
    "\n",
    "should return $1000$.\n",
    "\n",
    "Try it below and check that it works! If you don't get the results that you should, something is wrong with your function, and you should go back to the cell above and fix it."
   ]
  },
  {
   "cell_type": "code",
   "execution_count": 2,
   "metadata": {},
   "outputs": [
    {
     "data": {
      "text/plain": [
       "8"
      ]
     },
     "execution_count": 2,
     "metadata": {},
     "output_type": "execute_result"
    }
   ],
   "source": [
    "guess(0.9j,1000)"
   ]
  },
  {
   "cell_type": "code",
   "execution_count": 6,
   "metadata": {},
   "outputs": [
    {
     "data": {
      "text/plain": [
       "1000"
      ]
     },
     "execution_count": 6,
     "metadata": {},
     "output_type": "execute_result"
    }
   ],
   "source": [
    "guess(-1,1000)"
   ]
  },
  {
   "cell_type": "code",
   "execution_count": 4,
   "metadata": {},
   "outputs": [
    {
     "data": {
      "text/plain": [
       "1000"
      ]
     },
     "execution_count": 4,
     "metadata": {},
     "output_type": "execute_result"
    }
   ],
   "source": [
    "guess(1j,1000)"
   ]
  },
  {
   "cell_type": "markdown",
   "metadata": {},
   "source": [
    "## Visualising the set M.\n",
    " \n",
    "When you've gotten your function `guess(c,N)` to work properly, it's time to use it for something fun. Let's try to draw the set $M$ !\n",
    " \n",
    "Don't worry! I have already given you a complete script for this (the cell below), all you have to do is to run it.\n",
    " \n",
    "The cell below will generate an 1280x720 pixel image, representing points $z=x+iy$ in the complex plane with $x\\in [-2.5,1.5]$ and $y\\in [ -1.5,1.5]$.\n",
    " \n",
    "For each such point $z$ (totally $1280\\cdot 720=921600$ of them), it will use your guess function (with `N=200`) and give that point a different colour depending on the value returned by `guess(z)`. In particular, if the returned value is `200`, i.e. the situation where we guess that $z\\in M$, that point will be black. Hence, an approximation of the set $M$ will be visible as a black region. Other points will have different colours depending on the returned value from guess (i.e. depending on how fast the sequence $(z_n)$ became bigger than $2$ in modulus).\n",
    "\n",
    "#### Note\n",
    "Since there are many calculations to perform, this cell will take some time to run before you see any result. On my computer it takes about 10 seconds."
   ]
  },
  {
   "cell_type": "code",
   "execution_count": 7,
   "metadata": {},
   "outputs": [],
   "source": [
    "from PIL import Image\n",
    "\n",
    "maxit = 200\n",
    "xres = 1280\n",
    "yres = 720\n",
    "\n",
    "# Parameters\n",
    "\n",
    "w = (-2.5, 1.5)  # real axis\n",
    "h = (-1.5, 1.5)  # imaginary axis\n",
    "\n",
    "img = Image.new('RGB', (xres, yres), \"black\")  # Create a new black image\n",
    "pixels = img.load()  # This is our pixel map\n",
    "xmax = img.size[0]\n",
    "ymax = img.size[1]\n",
    "for i in range(xmax):  # For every pixel:\n",
    "    for j in range(ymax):\n",
    "        z = complex(w[0] + i / xmax * (w[1] - w[0]), h[0] + j / ymax * (h[1] - h[0]))\n",
    "        g = guess(z, maxit)\n",
    "        col = min(255, int(round(g / 64 * 255)))\n",
    "        if g == maxit:\n",
    "            pixels[i, j] = (0, 0, 0)\n",
    "        else:\n",
    "            pixels[i, j] = (col, col, 100)  # Set the colour accordingly\n",
    "\n",
    "img.show()"
   ]
  },
  {
   "cell_type": "code",
   "execution_count": null,
   "metadata": {},
   "outputs": [],
   "source": []
  },
  {
   "cell_type": "code",
   "execution_count": null,
   "metadata": {},
   "outputs": [],
   "source": []
  }
 ],
 "metadata": {
  "kernelspec": {
   "display_name": "Python 3",
   "language": "python",
   "name": "python3"
  },
  "language_info": {
   "codemirror_mode": {
    "name": "ipython",
    "version": 3
   },
   "file_extension": ".py",
   "mimetype": "text/x-python",
   "name": "python",
   "nbconvert_exporter": "python",
   "pygments_lexer": "ipython3",
   "version": "3.6.6"
  }
 },
 "nbformat": 4,
 "nbformat_minor": 2
}
