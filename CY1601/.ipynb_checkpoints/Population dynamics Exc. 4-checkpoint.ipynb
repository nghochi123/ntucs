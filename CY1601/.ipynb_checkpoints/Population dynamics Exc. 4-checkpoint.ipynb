{
 "cells": [
  {
   "cell_type": "code",
   "execution_count": null,
   "id": "db420fe8",
   "metadata": {},
   "outputs": [],
   "source": [
    "import numpy as np\n",
    "import matplotlib.pyplot as plt"
   ]
  },
  {
   "cell_type": "markdown",
   "id": "ea7b2f48",
   "metadata": {},
   "source": [
    "## Theory review\n",
    "In the previous exercise you should have made the following observations about $f:[0,1]\\to [0,1]$ given by \n",
    "$$f(x)=r(1-x)x.$$\n",
    "\n",
    "With $r\\in [0,1)$, $f$ has only one fixed point, $x^*=0$ which is attracting.\n",
    "\n",
    "With $r\\in (1,3)$, $f$ has two fixed points, $x^*=0$ (repelling) and $x^*=(r-1)/r$ (attracting).\n",
    "\n",
    "With $r\\in (3,4)$, $f$ has two fixed points, $x^*=0$ (repelling) and $x^*=(r-1)/r$ (repelling)."
   ]
  },
  {
   "cell_type": "markdown",
   "id": "9d37c796",
   "metadata": {},
   "source": [
    "## Exercise.\n",
    "Let's examine the behaviour of the sequence $(q_n)$ given by \n",
    "$$q_0=\\text{initial value},\\quad q_n=r(1-q_{n-1})q_{n-1},\\quad n=1,2,3,\\ldots,$$\n",
    "for a few values of $r\\in (3,4)$, i.e. when both fixed points are repelling.\n",
    "\n",
    "Conduct numerical experiments similar to what you did before and see what happens if\n",
    "$$q_0=0.6, r=3.1$$\n",
    "$$q_0=0.6, r=3.5$$\n",
    "$$q_0=0.6, r=3.55$$\n",
    "$$q_0=0.6, r=3.6$$\n",
    "\n",
    "You can paste your function for computing the sequence in the cell below:"
   ]
  },
  {
   "cell_type": "code",
   "execution_count": null,
   "id": "19489ab3",
   "metadata": {},
   "outputs": [],
   "source": [
    "# Paste your `model` function (from Exc. 2) here:\n"
   ]
  },
  {
   "cell_type": "code",
   "execution_count": null,
   "id": "e4b1de8f",
   "metadata": {},
   "outputs": [],
   "source": []
  },
  {
   "cell_type": "markdown",
   "id": "b7378147",
   "metadata": {},
   "source": [
    "Then complete the cell below with relevant plot commands:"
   ]
  },
  {
   "cell_type": "code",
   "execution_count": null,
   "id": "fca99430",
   "metadata": {},
   "outputs": [],
   "source": [
    "plt.figure(figsize=(12,8), dpi= 100, facecolor='w', edgecolor='k')\n",
    "\n",
    "plt.subplot(2,2,1)\n",
    "# Plot the first 50 points of the sequence, with r=3.1, q0=0.6, remember to specify the format string 'o-'.\n",
    "\n",
    "plt.title('$r=3.1$')\n",
    "\n",
    "plt.subplot(2,2,2)\n",
    "# Now with r=3.5\n",
    "\n",
    "plt.title('$r=3.5$')\n",
    "\n",
    "plt.subplot(2,2,3)\n",
    "# With r=3.55\n",
    "\n",
    "plt.title('$r=3.55$')\n",
    "\n",
    "plt.subplot(2,2,4)\n",
    "# And finally with r=3.6\n",
    "\n",
    "plt.title('$r=3.6$')\n",
    "\n",
    "plt.show()"
   ]
  },
  {
   "cell_type": "markdown",
   "id": "ee6afe4c",
   "metadata": {},
   "source": [
    "## To submit in LAMS\n",
    "What do you see?\n",
    "Answer the question in LAMS."
   ]
  },
  {
   "cell_type": "code",
   "execution_count": null,
   "id": "db15624a",
   "metadata": {},
   "outputs": [],
   "source": []
  }
 ],
 "metadata": {
  "kernelspec": {
   "display_name": "Python 3 (ipykernel)",
   "language": "python",
   "name": "python3"
  },
  "language_info": {
   "codemirror_mode": {
    "name": "ipython",
    "version": 3
   },
   "file_extension": ".py",
   "mimetype": "text/x-python",
   "name": "python",
   "nbconvert_exporter": "python",
   "pygments_lexer": "ipython3",
   "version": "3.9.6"
  }
 },
 "nbformat": 4,
 "nbformat_minor": 5
}
