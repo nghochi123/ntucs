{
 "cells": [
  {
   "cell_type": "markdown",
   "id": "d057f7f9",
   "metadata": {},
   "source": [
    "Run the cell below. You'll need it later."
   ]
  },
  {
   "cell_type": "code",
   "execution_count": null,
   "id": "ac374c8b",
   "metadata": {},
   "outputs": [],
   "source": [
    "import numpy as np\n",
    "import matplotlib.pyplot as plt"
   ]
  },
  {
   "cell_type": "markdown",
   "id": "67879ab8",
   "metadata": {},
   "source": [
    "# Fixed points - Theory and Practice.\n",
    "\n",
    "In the previous exercise we discussed the population model:\n",
    "$$q_0=\\text{initial value},\\quad q_n=r(1-q_{n-1})q_{n-1},\\quad n=1,2,3,\\ldots,$$\n",
    "where the parameter $r$ should belong to the interval $[0,4]$, and where $q_n\\in [0,1]$ represents the population size divided by its maximum size.\n",
    "\n",
    "## Exercise 2(a) - Implementing the model\n",
    "Implement this model as a function `model(r,N,q0)`. The arguments of the function should be:\n",
    "- `r` = the parameter $r$ from the model.\n",
    "- `N` = a positive integer.\n",
    "- `q0` = the initial value $q_0$.\n",
    "\n",
    "The function should return a list `[q[0],q[1],q[2],...,q[N-1]]` containing the $N$ first entries in the sequernce $(q_n)$.\n",
    "\n",
    "You can modify the `vampires` function to do what we need."
   ]
  },
  {
   "cell_type": "code",
   "execution_count": null,
   "id": "b271d424",
   "metadata": {},
   "outputs": [],
   "source": [
    "def model(r,N,q0) :\n",
    "    # Write your code here."
   ]
  },
  {
   "cell_type": "code",
   "execution_count": null,
   "id": "ba935f9f",
   "metadata": {},
   "outputs": [],
   "source": []
  },
  {
   "cell_type": "markdown",
   "id": "c79adbdf",
   "metadata": {},
   "source": [
    "## A numerical experiment\n",
    "Let's see what happens if we plot the 10 first values of the sequence, using $r=2.5$, $q_0=0.1$."
   ]
  },
  {
   "cell_type": "code",
   "execution_count": null,
   "id": "8624a994",
   "metadata": {},
   "outputs": [],
   "source": [
    "plt.plot(model(2.5,10,0.1),'o-')\n",
    "plt.ylim(0,1)\n",
    "plt.show()"
   ]
  },
  {
   "cell_type": "markdown",
   "id": "d50da5f1",
   "metadata": {},
   "source": [
    "If your function is correct, the population should *stabilize* at a fixed size 0.6"
   ]
  },
  {
   "cell_type": "markdown",
   "id": "39a8098f",
   "metadata": {},
   "source": [
    "## Theoretical considerations\n",
    "The following might be familiar:\n",
    "\n",
    "**Definition:**\n",
    "Let $f(x)$ be a function with domain $A$. Saying that $x^*$ is a *fixed point* of $f$, means that $x^*\\in A$ and \n",
    "$$x^*=f(x^*).$$\n",
    "\n",
    "**Theorem**\n",
    "Consider a sequence $(x_n)$ satisfying the recurrent equation\n",
    "$$x_n=f(x_{n-1}),$$\n",
    "where $f$ is a *continuous* function.\n",
    "\n",
    "**If** $x_n\\to x^*$ as $n\\to\\infty$, **then** $x^*$ has to be a *fixed point* of $f$.\n",
    "\n",
    "**Proof:** Using the continuity of $f$ we have\n",
    "$$x^*=\\lim_{n\\to\\infty}x_n=\\lim_{n\\to\\infty} f(x_{n-1})=f\\left(\\lim_{n\\to\\infty}x_{n-1}\\right)=f(x^*).$$\n",
    "\n",
    "## Exercise 2(b)\n",
    "In our population dynamics example, we have studied the sequence $(q_n)$ satisfying \n",
    "$$q_n=f(q_{n-1}),$$\n",
    "Where $f:[0,1]\\to [0,1]$ is given by\n",
    "$$f(x)=r(1-x)x.$$\n",
    "What are the fixed points of $f$? Note that your answer might take a different form depending on the parameter $r\\in [0,4]$.\n",
    "\n",
    "Before answering it might also be a good idea to verify that the numerical experiment above is consistent with your answer, and maybe also experiment with other values of $r$."
   ]
  },
  {
   "cell_type": "markdown",
   "id": "4e225d4f",
   "metadata": {},
   "source": []
  },
  {
   "cell_type": "markdown",
   "id": "c6929ca1",
   "metadata": {},
   "source": [
    "## To submit in LAMS\n",
    "- The code for your `model` function.\n",
    "- The fixed points of $f$."
   ]
  },
  {
   "cell_type": "code",
   "execution_count": null,
   "id": "c4ea07e0",
   "metadata": {},
   "outputs": [],
   "source": []
  }
 ],
 "metadata": {
  "kernelspec": {
   "display_name": "Python 3 (ipykernel)",
   "language": "python",
   "name": "python3"
  },
  "language_info": {
   "codemirror_mode": {
    "name": "ipython",
    "version": 3
   },
   "file_extension": ".py",
   "mimetype": "text/x-python",
   "name": "python",
   "nbconvert_exporter": "python",
   "pygments_lexer": "ipython3",
   "version": "3.9.6"
  }
 },
 "nbformat": 4,
 "nbformat_minor": 5
}
