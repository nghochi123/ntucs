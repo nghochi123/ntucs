{
 "cells": [
  {
   "cell_type": "markdown",
   "metadata": {},
   "source": [
    "# Big Poincare section\n",
    "\n",
    "Because of the periodic nature of the oscillations for $\\gamma=0.2,0.28,0.37,0.65$ we only see a few red points, although we are using 100 different values of $t$ to plot the red points.  For example, with $\\gamma=0.37$, the oscillation is periodic with period $5T$ and since the red points represent multiples of $T$, we only see five distinct points (all the others overlap these five).\n",
    " \n",
    "By contrast, for the case $\\gamma=0.5$, since the oscillation is non periodic, there are 100 distinct points.\n",
    "\n",
    "Let's take a look at this case again:"
   ]
  },
  {
   "cell_type": "code",
   "execution_count": null,
   "metadata": {},
   "outputs": [],
   "source": [
    "%matplotlib inline\n",
    "\n",
    "import numpy as np\n",
    "import matplotlib.pyplot as plt\n",
    "from scipy.integrate import solve_ivp\n",
    "\n",
    "def F(t,Y) :\n",
    "    dydt = Y[1]\n",
    "    dvdt = -0.3*Y[1]+Y[0]-Y[0]**3+gamma*np.cos(1.2*t)\n",
    "    return (dydt,dvdt)\n",
    "\n",
    "\n",
    "T = 2*np.pi/1.2\n",
    "\n",
    "t = np.linspace(100*T,200*T,5000)\n",
    "t_poincare = np.arange(100*T,200*T,T)\n",
    "\n",
    "gamma = 0.5\n",
    "ysol_d = solve_ivp(F,[0,200*T],[1,0],t_eval=t,max_step=0.1)\n",
    "ysol_d_poincare = solve_ivp(F,[0,200*T],[1,0],t_eval=t_poincare,max_step=0.1)\n",
    "\n",
    "plt.plot(ysol_d.y[0],ysol_d.y[1])\n",
    "plt.plot(ysol_d_poincare.y[0],ysol_d_poincare.y[1],'ro')\n",
    "plt.title(r'$\\gamma$=0.5')\n",
    "\n",
    "plt.show()"
   ]
  },
  {
   "cell_type": "markdown",
   "metadata": {},
   "source": [
    "Looking closer though, they don't seem to be randomly spread, but rather grouped together in clusters. Is this a coincidence or is there a pattern? Let's see what happens if we do this for a much larger number of points!\n",
    "\n",
    "## Last Exercise\n",
    "\n",
    "Plot a new Poincare section, but *only* for the case $\\gamma=0.5$ for our initial value problem (with initial conditions $y(0)=1$, $y'(0)=0$). *Do not* create any phase plot, just the Poincare section, but our new Poincare section should contain many more points than we did above:\n",
    " \n",
    "Tell `solve_ivp` to solve the i.v.p. on the interval $[0,50000T]$ but only plot points for values of $t$, starting at $t=100T$, with an equal distance $T$ apart (so you're only looking at multiples of $T$), and lying in the interval $[100T,50000T])$. You can do this by passing a suitable array as the `t_eval` argument, where the array can be easily constructed using the `np.arange()` function.\n",
    " \n",
    "In case you forgot, `np.arange()` function works like `np.linspace()` but instead of specifying the number of points to return, it asks instead for the space between the points. \n",
    "\n",
    "More precisely, `np.arange(a,b,h)` returns a Numpy array of increasing values in the interval $[a,b)$ spaced a distance `h` apart and starting with `a`.\n",
    "\n",
    "## What to do\n",
    "Complete the code below (only one small detail is missing) which generates the Poincare section. This is your last exercise for this AE. Note that since we're solving the i.v.p. on such a long interval, the calculations for solving will take quite long to perform. On my computer it took about 5 minutes. You might want to try first on a much shorter interval just to check that your code seems to work. \n",
    "\n",
    "## To submit in LAMS\n",
    "Submit your final plot of the Poincare section as the answer to this exercise."
   ]
  },
  {
   "cell_type": "code",
   "execution_count": null,
   "metadata": {},
   "outputs": [],
   "source": [
    "%matplotlib qt\n",
    "\n",
    "import numpy as np\n",
    "import matplotlib.pyplot as plt\n",
    "from scipy.integrate import solve_ivp\n",
    "\n",
    "def F(t,Y) :\n",
    "    dydt = Y[1]\n",
    "    dvdt = -0.3*Y[1]+Y[0]-Y[0]**3+gamma*np.cos(1.2*t)\n",
    "    return (dydt,dvdt)\n",
    "\n",
    "gamma = 0.5\n",
    "\n",
    "T=2*np.pi/1.2\n",
    "\n",
    "# t = np.linspace(0,1,)\n",
    "# Create a suitable array t for us to use as t_eval below.\n",
    "# We want to plot the calculated solution values for values of t starting at 100T,\n",
    "# equally spaced a distance T from each other and all in the interval [100T,50000T)\n",
    "# The function np.arange() is useful here.\n",
    "\n",
    "# Complete the row below.\n",
    "t = np.linspace(100*T,50000*T,49900)\n",
    "\n",
    "ysol = solve_ivp(F,[0,50000*T],[1,0],t_eval=t,max_step=0.1)\n",
    "\n",
    "plt.clf()\n",
    "\n",
    "plt.plot(ysol.y[0],ysol.y[1],'.',markersize=1)\n",
    "\n",
    "plt.show()"
   ]
  },
  {
   "cell_type": "markdown",
   "metadata": {},
   "source": [
    "In case the plot does not open in a separate window, instead of re-running the entire cell and waiting ten more minutes, just run the plot commands below again."
   ]
  },
  {
   "cell_type": "code",
   "execution_count": null,
   "metadata": {},
   "outputs": [],
   "source": [
    "%matplotlib qt\n",
    "plt.clf()\n",
    "plt.plot(ysol.y[0],ysol.y[1],'.',markersize=1)\n",
    "plt.show()"
   ]
  },
  {
   "cell_type": "code",
   "execution_count": null,
   "metadata": {},
   "outputs": [],
   "source": []
  }
 ],
 "metadata": {
  "kernelspec": {
   "display_name": "Python 3",
   "language": "python",
   "name": "python3"
  },
  "language_info": {
   "codemirror_mode": {
    "name": "ipython",
    "version": 3
   },
   "file_extension": ".py",
   "mimetype": "text/x-python",
   "name": "python",
   "nbconvert_exporter": "python",
   "pygments_lexer": "ipython3",
   "version": "3.8.5"
  }
 },
 "nbformat": 4,
 "nbformat_minor": 2
}
