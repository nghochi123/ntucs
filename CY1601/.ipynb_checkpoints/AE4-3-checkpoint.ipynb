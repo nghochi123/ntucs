{
 "cells": [
  {
   "cell_type": "markdown",
   "metadata": {},
   "source": [
    "# Sensitivity to initial conditions\n",
    "\n",
    "As we saw in the previous phase plots, it is clear that the behaviour of the oscillator becomes (eventually) periodic for $\\gamma=0.2, 0.28, 0.37, 0.65$, while even a phase plot for $t\\in [100T,200T]$ does not reveal any periodicity when $\\gamma=0.5$. It can also be shown that indeed, the case $\\gamma=0.5$ leads to non periodic motion.\n",
    " \n",
    "As if that isn't enough, there is also another way in which the case $\\gamma=0.5$ shows irregularity. This has to do with how the systems react to changes in initial vales.\n",
    " \n",
    "Let's compare the two cases $\\gamma=0.37$ and $\\gamma=0.5$ !"
   ]
  },
  {
   "cell_type": "markdown",
   "metadata": {},
   "source": [
    "## Exercise\n",
    "Calculate and plot solutions for our differential equation for the two cases $\\gamma=0.37$ and $\\gamma=0.5$ on the interval $t\\in [0,30T]$.\n",
    " \n",
    "The cell below creates one plot for each value of $\\gamma$ (i.e. two plots). Each plot contains three graphs, one for each of the following sets of initial conditions:\n",
    " \n",
    "$$y(0)=1, y'(0)=0,\\quad y(0)=0.9999, y'(0)=0,\\quad y(0)=0.3, y'(0)=0.$$\n",
    "\n",
    "The cell below contains all the code for this. Just run it, and then answer the (simple) question that follows."
   ]
  },
  {
   "cell_type": "code",
   "execution_count": 1,
   "metadata": {},
   "outputs": [],
   "source": [
    "%matplotlib qt\n",
    "\n",
    "import numpy as np\n",
    "import matplotlib.pyplot as plt\n",
    "from scipy.integrate import solve_ivp\n",
    "\n",
    "def F(t,Y) :\n",
    "    dydt = Y[1]\n",
    "    dvdt = -0.3*Y[1]+Y[0]-Y[0]**3+gamma*np.cos(1.2*t)\n",
    "    return (dydt,dvdt)\n",
    "\n",
    "T= 2*np.pi/1.2\n",
    "t = np.linspace(0,30*T,5000)\n",
    "\n",
    "gamma = 0.37\n",
    "ysol_c = solve_ivp(F,[0,30*T],[1,0],t_eval=t,max_step=0.01)\n",
    "ysol_c1 = solve_ivp(F,[0,30*T],[0.9999,0],t_eval=t,max_step=0.01)\n",
    "ysol_c2 = solve_ivp(F,[0,30*T],[0.3,0],t_eval=t,max_step=0.01)\n",
    "\n",
    "\n",
    "gamma = 0.5\n",
    "ysol_d = solve_ivp(F,[0,30*T],[1,0],t_eval=t,max_step=0.01)\n",
    "ysol_d1 = solve_ivp(F,[0,30*T],[0.9999,0],t_eval=t,max_step=0.01)\n",
    "ysol_d2 = solve_ivp(F,[0,30*T],[0.3,0],t_eval=t,max_step=0.01)\n",
    "\n",
    "plt.subplot(211)\n",
    "plt.title(r'$\\gamma=0.37$')\n",
    "plt.plot(ysol_c.t,ysol_c.y[0],label='y(0)=1')\n",
    "plt.plot(ysol_c1.t,ysol_c1.y[0],label='y(0)=0.9999')\n",
    "plt.plot(ysol_c2.t,ysol_c2.y[0],label='y(0)=0.3')\n",
    "plt.legend()\n",
    "plt.xticks(np.arange(0,31*T,T),[])\n",
    "plt.subplot(212)\n",
    "plt.title(r'$\\gamma=0.5$')\n",
    "plt.plot(ysol_d.t,ysol_d.y[0],label='y(0)=1')\n",
    "plt.plot(ysol_d1.t,ysol_d1.y[0],label='y(0)=0.9999')\n",
    "plt.plot(ysol_d2.t,ysol_d2.y[0],label='y(0)=0.3')\n",
    "plt.legend()\n",
    "plt.xticks(np.arange(0,31*T,T),np.arange(0,31,1))\n",
    "\n",
    "plt.show()"
   ]
  },
  {
   "cell_type": "markdown",
   "metadata": {},
   "source": [
    "## To submit in LAMS\n",
    "\n",
    "The plot opens in a separate window. Maximize the window and study the plots. In particular, note how the two different oscillators react to changes in initial condition (all graphs have $y'(0)=0$ but each plot contains three graphs with more or less different values of $y(0)$).\n",
    "\n",
    "Then answer the question posed in LAMS."
   ]
  },
  {
   "cell_type": "code",
   "execution_count": null,
   "metadata": {},
   "outputs": [],
   "source": []
  }
 ],
 "metadata": {
  "kernelspec": {
   "display_name": "Python 3",
   "language": "python",
   "name": "python3"
  },
  "language_info": {
   "codemirror_mode": {
    "name": "ipython",
    "version": 3
   },
   "file_extension": ".py",
   "mimetype": "text/x-python",
   "name": "python",
   "nbconvert_exporter": "python",
   "pygments_lexer": "ipython3",
   "version": "3.8.5"
  }
 },
 "nbformat": 4,
 "nbformat_minor": 2
}
