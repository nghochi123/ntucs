{
 "cells": [
  {
   "cell_type": "markdown",
   "metadata": {},
   "source": [
    "# Application Exercise 3 - Numerical solution of differential equations"
   ]
  },
  {
   "cell_type": "markdown",
   "metadata": {},
   "source": [
    "For this AE we will again need NumPy and Matplotlib.Pyplot."
   ]
  },
  {
   "cell_type": "code",
   "execution_count": null,
   "metadata": {},
   "outputs": [],
   "source": [
    "import numpy as np\n",
    "import matplotlib.pyplot as plt"
   ]
  },
  {
   "cell_type": "markdown",
   "metadata": {},
   "source": [
    "In the lectures we studied the first order linear differential equation\n",
    "$$\\frac{dy}{dx}=f(x,y)=y-x^2,$$\n",
    "where we also saw that the general solution to this differential equation is \n",
    "\n",
    "$$y=x^2+2x+2+Ce^x$$\n",
    "\n",
    "With the initial condition $y(0)=1$, we get $C=-1$, and the particular solution\n",
    "\n",
    "$$y=x^2+2x+2-e^x.$$\n",
    "\n",
    "The two cells below will plot a part of the direction field, the initial point $(0,1)$ (red) and the solution curve for the initial value problem above (blue).\n",
    "\n",
    "Note that the solution curve follows the direction field (as it should).\n",
    "\n",
    "You don't have to understand how the direction field is plotted, but feel free to look into it if you're interested."
   ]
  },
  {
   "cell_type": "code",
   "execution_count": null,
   "metadata": {},
   "outputs": [],
   "source": [
    "def sol(x) :\n",
    "    return x**2+2*x+2-np.exp(x)\n",
    "\n",
    "def f(x,y) :\n",
    "    return y-x**2"
   ]
  },
  {
   "cell_type": "code",
   "execution_count": null,
   "metadata": {},
   "outputs": [],
   "source": [
    "X,Y = np.meshgrid(np.arange(0,3,0.2),np.arange(1,3,0.2))\n",
    "U = np.ones(np.shape(X))\n",
    "V = f(X,Y)\n",
    "plt.quiver(X,Y,U,V)\n",
    "\n",
    "xx = np.linspace(0,3,1000)\n",
    "s = sol(xx) \n",
    "plt.plot(xx,s,'b')\n",
    "\n",
    "plt.plot(0,1,'or')\n",
    "\n",
    "plt.axis('equal')\n",
    "plt.ylim(1,3)\n",
    "\n",
    "plt.show()"
   ]
  },
  {
   "cell_type": "markdown",
   "metadata": {},
   "source": [
    "Now, let's say that we *don't know* how to solve the differential equation\n",
    "$$\\frac{dy}{dx}=f(x,y)=y-x^2.$$\n",
    "That might seem silly, since we *do* know how to solve this d.e., but on the other hand there are *many other* differential equations that we don't know how to solve exactly, so it's a situation we are likely to find ourselves in sooner or later.\n",
    "\n",
    "If we don't know how to solve the d.e. looking at the direction field might give us an idea how to find an *approximate* solution: Since the slope $\\frac{dy}{dx}$ of the solution curve through the point $(x,y)$, is given by \n",
    "$$f(x,y)=y-x^2,$$\n",
    "this tells us what the tangent line is at this point."
   ]
  },
  {
   "cell_type": "markdown",
   "metadata": {},
   "source": [
    "So, let's start with our initial values $x=0, y=1$, and let's just follow the tangent line. If we move just a short distance along the tangent line, we shouldn't have strayed too far from the actual solution curve. \n",
    "\n",
    "Let's take $\\Delta x=0.5$. The correspoinding $y$-increment is \n",
    "$$\\Delta y=\\frac{dy}{dx}\\Delta x=f(x,y)\\Delta x.$$\n",
    "\n",
    "So, here's our starting point (from the initial condition) and our $\\Delta x$:"
   ]
  },
  {
   "cell_type": "code",
   "execution_count": null,
   "metadata": {},
   "outputs": [],
   "source": [
    "x = 0\n",
    "y = 1\n",
    "d = 0.5"
   ]
  },
  {
   "cell_type": "markdown",
   "metadata": {},
   "source": [
    "We add $\\Delta y=f(x,y)\\Delta x$ to $y$, and then increase $x$ with the amount $\\Delta x$. \n",
    "\n",
    "(Note that the order in which we do this matters, why?)."
   ]
  },
  {
   "cell_type": "code",
   "execution_count": null,
   "metadata": {},
   "outputs": [],
   "source": [
    "y = y+f(x,y)*d\n",
    "x = x+d\n",
    "print(x,y)"
   ]
  },
  {
   "cell_type": "markdown",
   "metadata": {},
   "source": [
    "We get the new point $(x,y)=(0.5,1.5)$. Let's create a new plot with this point included."
   ]
  },
  {
   "cell_type": "code",
   "execution_count": null,
   "metadata": {
    "scrolled": true
   },
   "outputs": [],
   "source": [
    "X,Y = np.meshgrid(np.arange(0,3,0.2),np.arange(1,3,0.2))\n",
    "U = np.ones(np.shape(X))\n",
    "V = f(X,Y)\n",
    "plt.quiver(X,Y,U,V)\n",
    "\n",
    "xx = np.linspace(0,3,1000)\n",
    "s = sol(xx) \n",
    "plt.plot(xx,s,'b')\n",
    "\n",
    "plt.plot([0,0.5],[1,1.5],'o-r')\n",
    "\n",
    "plt.axis('equal')\n",
    "plt.ylim(1,3)\n",
    "\n",
    "plt.show()"
   ]
  },
  {
   "cell_type": "markdown",
   "metadata": {},
   "source": [
    "Now with $(0.5,1.5)$ as our starting point, let's repeat the procedure:"
   ]
  },
  {
   "cell_type": "code",
   "execution_count": null,
   "metadata": {},
   "outputs": [],
   "source": [
    "y = y+f(x,y)*d\n",
    "x = x+d\n",
    "print(x,y)"
   ]
  },
  {
   "cell_type": "markdown",
   "metadata": {},
   "source": [
    "Ok, we got $(1,2.125)$. Let's include this in our plot as well."
   ]
  },
  {
   "cell_type": "code",
   "execution_count": null,
   "metadata": {},
   "outputs": [],
   "source": [
    "X,Y = np.meshgrid(np.arange(0,3,0.2),np.arange(1,3,0.2))\n",
    "U = np.ones(np.shape(X))\n",
    "V = f(X,Y)\n",
    "plt.quiver(X,Y,U,V)\n",
    "\n",
    "xx = np.linspace(0,3,1000)\n",
    "s = sol(xx) \n",
    "plt.plot(xx,s)\n",
    "\n",
    "plt.plot([0,0.5,1],[1,1.5,2.125],'o-r')\n",
    "\n",
    "plt.axis('equal')\n",
    "plt.ylim(1,3)\n",
    "\n",
    "plt.show()"
   ]
  },
  {
   "cell_type": "markdown",
   "metadata": {},
   "source": [
    "## Exercise\n",
    "\n",
    "Repeat the above procedure and calculate the next four points (i.e. with $x$-coordinates $1.5, 2, 2.5, 3$). You might feel tempted to write a loop for this, but that's the objective of the next exercise, and you'll get some help there. So, for now, it's ok to just do the calculations \"manually\", which you can easily do by repeatedly executing the cell below."
   ]
  },
  {
   "cell_type": "code",
   "execution_count": null,
   "metadata": {},
   "outputs": [],
   "source": [
    "y = y+f(x,y)*d\n",
    "x = x+d\n",
    "print(x,y)"
   ]
  },
  {
   "cell_type": "markdown",
   "metadata": {},
   "source": [
    "Take note of the coordinates you get and create a new plot with all those points added. The plot should contain all the elements of the above, plot, i.e. the direction field, the graph of the exact solution and the three points $(0,1)$, $(0.5,1.5)$, $(1,2.125)$, but you should add the next four points, using the same style as before, i.e. red large points joined by line segments (format string `'o-r'`).\n",
    "\n",
    "You can simply re-use the code above, and just add the missing points. The last point (the one with $x=3$) will fall outside the $y$-axis range specified by the line `plt.ylim(1,3)`, but that's OK.\n",
    "\n",
    "#### Submit the last *approximated* $y$-value in LAMS (the one corresponding to $x=3$).\n",
    "#### Submit the plot you just created in LAMS."
   ]
  },
  {
   "cell_type": "code",
   "execution_count": null,
   "metadata": {},
   "outputs": [],
   "source": []
  },
  {
   "cell_type": "code",
   "execution_count": null,
   "metadata": {},
   "outputs": [],
   "source": []
  }
 ],
 "metadata": {
  "kernelspec": {
   "display_name": "Python 3",
   "language": "python",
   "name": "python3"
  },
  "language_info": {
   "codemirror_mode": {
    "name": "ipython",
    "version": 3
   },
   "file_extension": ".py",
   "mimetype": "text/x-python",
   "name": "python",
   "nbconvert_exporter": "python",
   "pygments_lexer": "ipython3",
   "version": "3.8.5"
  }
 },
 "nbformat": 4,
 "nbformat_minor": 2
}
