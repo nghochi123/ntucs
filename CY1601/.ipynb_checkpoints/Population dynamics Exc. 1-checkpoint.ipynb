{
 "cells": [
  {
   "cell_type": "markdown",
   "id": "7d7d0e2d",
   "metadata": {},
   "source": [
    "# Population dynamics\n",
    "\n",
    "Let's consider organisms or creatures that reproduce and look at some ways we can model the size of the population.\n",
    "\n",
    "### Example from tutorial\n",
    "In Tutorial 1 we modeled a population of vampires and saw that under certain conditions the vampire population $p_n$ at day $n$ grows like a Fibonacci sequence:\n",
    "$$p_0=1,p_1=2,\\quad p_{n}=p_{n-1}+p_{n-2},\\quad n=2,3,\\ldots.$$\n",
    "\n",
    "Let's illustrate the population growth with a plot. I've written all the code for that below. Just run the cells and look at the result."
   ]
  },
  {
   "cell_type": "code",
   "execution_count": null,
   "id": "bc0bb18c",
   "metadata": {},
   "outputs": [],
   "source": [
    "import numpy as np\n",
    "import matplotlib.pyplot as plt"
   ]
  },
  {
   "cell_type": "code",
   "execution_count": null,
   "id": "f94ed5e9",
   "metadata": {},
   "outputs": [],
   "source": [
    "def vampires(N) :\n",
    "    p = np.ones(N)  # Create an array of length N with all entries equal to 1.\n",
    "    p[1]=2           # Note that p[0] is already 1, but let's set p[1]=2 (according to the model)\n",
    "    for n in range(2,N) :   # Then calculate p[n] for n=2,3,...,N-1\n",
    "        p[n]=p[n-1]+p[n-2]\n",
    "    return p        # Return the array p"
   ]
  },
  {
   "cell_type": "markdown",
   "id": "7749f845",
   "metadata": {},
   "source": [
    "Now, if we want an array with the vampire population for the first 10 days ($n=0,1,\\ldots,9$) we can just call our function"
   ]
  },
  {
   "cell_type": "code",
   "execution_count": null,
   "id": "035aeed9",
   "metadata": {},
   "outputs": [],
   "source": [
    "vampires(10)"
   ]
  },
  {
   "cell_type": "markdown",
   "id": "c8a37e4a",
   "metadata": {},
   "source": [
    "And we can make nice plots if we want. Don't worry too much about what the `subplot` function does. Just run the cell and see what happens. \n",
    "\n",
    "You might want to take note though that in our introduction we said that you should supply *two* arrays to the `plot` function, one array with $x$-coordinates and one array with corresponding $y$-coordinates. If you only supply *one* array, `plot` assumes that those are $y$-coordinates, and assumes that the $x$-coordinates should be `[0,1,2,...]`. \n",
    "\n",
    "In other words:\n",
    "`plt.plot([3,2,8])` yields the same output as `plt.plot([0,1,2],[3,2,8])`. Try it if you want."
   ]
  },
  {
   "cell_type": "code",
   "execution_count": null,
   "id": "4ac7ba8d",
   "metadata": {},
   "outputs": [],
   "source": [
    "plt.figure(figsize=(12,8), dpi= 200, facecolor='w', edgecolor='k')  # This makes the plot a bit bigger\n",
    "                                                                    # than the standard size.\n",
    "\n",
    "plt.subplot(1,2,1)\n",
    "plt.plot(vampires(10),'o-')\n",
    "plt.title(\"Vampire population, days 0--9\")\n",
    "plt.xlabel(\"Day\")\n",
    "plt.ylabel(\"No. of vampires\")\n",
    "\n",
    "plt.subplot(1,2,2)\n",
    "plt.plot(vampires(50),'o-')\n",
    "plt.title(\"Vampire population, days 0--49\")\n",
    "plt.xlabel(\"Day\")\n",
    "plt.ylabel(\"No. of vampires\")\n",
    "\n",
    "plt.show()"
   ]
  },
  {
   "cell_type": "markdown",
   "id": "aa5a402e",
   "metadata": {},
   "source": [
    "As you can see, after night 50, the population is predicted to be more than $2\\cdot 10^{10}$ which is more than the current human population. Since vampires can only be created by turning existing humans, this model is flawed."
   ]
  },
  {
   "cell_type": "markdown",
   "id": "61f9e654",
   "metadata": {},
   "source": [
    "### Creating a new model"
   ]
  },
  {
   "cell_type": "markdown",
   "id": "503a8bae",
   "metadata": {},
   "source": [
    "Let's start over again from scratch and try to build a new model with an upper bound on the population size. \n",
    "\n",
    "#### First step, a simple growth model without bound.\n",
    "To keep it simple let's start with the premise that the population on day (or year, or minute, or other suitable time interval) $n$, depends only on the population on day $n-1$, and grows by a factor $r\\geq 0$, i.e.\n",
    "$$p_n=rp_{n-1}.$$\n",
    "This model suffers from the same flaw as our vampire model above. You can easily see that \n",
    "$$p_1=rp_0,\\quad p_2=rp_1=r\\cdot rp_0,\\quad p_3=rp_2=r\\cdot r\\cdot rp_0,\\ldots,$$\n",
    "i.e.\n",
    "$$p_n=r^np_0,\\quad n=0,1,2,\\ldots.$$\n",
    "In other words, the population grows exponentially, which is unsustainable in the long run.\n",
    "\n",
    "Let's try to modify this model to also account for limited resources!"
   ]
  },
  {
   "cell_type": "markdown",
   "id": "7dcb1a62",
   "metadata": {},
   "source": [
    "#### Set a maximum population size and change variable\n",
    "Suppose our population can't grow larger than some maximum size $p_{\\text{max}}$ and let\n",
    "$$q_n=\\frac{p_n}{p_{\\text{max}}}.$$\n",
    "Note that since $p_n\\in [0,p_{\\text{max}}]$, we must have\n",
    "$$q_n\\in [0,1].$$\n",
    "\n",
    "#### Introduce a damping factor in our model\n",
    "Next, let's change our model from $q_n=rq_{n-1}$ to\n",
    "$$q_n=r(1-q_{n-1})q_{n-1}.$$\n",
    "Note that the additional factor $(1-q_{n-1})$ reduces the rate of growth towards zero as $q_n$ approaches the maximum value $1$. This factor can be seen as taking into account the fact that available resources (and hence growth) decrease as the population nears its maximum.\n",
    "\n",
    "For this to work however, we need some restrictions on $r$ for the model to make sense. We have already observed that we need $r\\geq 0$, but to guarantee that $q_n\\in [0,1]$ we need the range of $f(x)=r(1-x)x$ to be contained in $[0,1]$.\n",
    "\n",
    "# Exercise (to submit in LAMS).\n",
    "\n",
    "What is the largest admissable value of $r$ that will still guarantee that $\\mathrm{range}(f)\\subset [0,1]$?\n"
   ]
  },
  {
   "cell_type": "code",
   "execution_count": null,
   "id": "249c8507",
   "metadata": {},
   "outputs": [],
   "source": []
  }
 ],
 "metadata": {
  "kernelspec": {
   "display_name": "Python 3 (ipykernel)",
   "language": "python",
   "name": "python3"
  },
  "language_info": {
   "codemirror_mode": {
    "name": "ipython",
    "version": 3
   },
   "file_extension": ".py",
   "mimetype": "text/x-python",
   "name": "python",
   "nbconvert_exporter": "python",
   "pygments_lexer": "ipython3",
   "version": "3.9.6"
  }
 },
 "nbformat": 4,
 "nbformat_minor": 5
}
