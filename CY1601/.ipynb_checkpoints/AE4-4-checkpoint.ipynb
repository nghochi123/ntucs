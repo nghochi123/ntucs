{
 "cells": [
  {
   "cell_type": "markdown",
   "metadata": {},
   "source": [
    "# Poincare sections\n",
    "\n",
    "We have seen so far that the case $\\gamma=0.5$ leads to very irregular behaviour of the oscillator\n",
    " \n",
    "- The oscillations are non periodic.\n",
    "- The oscillations have a sensitive dependence on initial conditions, making long term predictions (based on measurements and not exact values) difficult.\n",
    "\n",
    "Although not a precise description, the above two points are typical of what is called *chaotic* behaviour. The exact mathematical definition of a chaotic system is very technical and outside the scope of most undergraduate courses, but this system is an example.\n",
    " \n",
    "However, despite the irregular behaviour we have observed above, there is also some very nice looking order hidden underneath. We just have to find out how to reveal it:\n",
    " \n",
    "Returning to the phase plots, suppose we only look at the state $(y,y')$ at regular time intervals, more precisely once every period $T$ of the external force, i.e. at times. \n",
    " \n",
    "$$t=t_0+nT=t_0+2\\pi n/1.2,\\quad n=0,1,2,3,\\ldots.$$\n",
    " \n",
    "Such a plot is referred to as a Poincare section.\n",
    " \n",
    "Of course, in practice we can only plot finitely many points, i.e.\n",
    "\n",
    "$$t=t_0+nT=t_0+2\\pi n/1.2,\\quad n=0,1,2,3,\\ldots, N,$$\n",
    "\n",
    "gives us a plot with $N+1$ points.\n",
    " \n",
    "To get a clearer picture, we will choose $t_0$ large enough such that any initial (but temporary) irregular motion has died out before we start plotting.\n",
    " \n",
    "The cell below creates phase plots (blue curve) together with the Poincare section using $t_0=100T, N=99$ (100 red points), for the cases we have previously observed.\n",
    "\n",
    "You don't have to change anything. Just run the cell."
   ]
  },
  {
   "cell_type": "code",
   "execution_count": 1,
   "metadata": {},
   "outputs": [],
   "source": [
    "%matplotlib qt\n",
    "\n",
    "import numpy as np\n",
    "import matplotlib.pyplot as plt\n",
    "from scipy.integrate import solve_ivp\n",
    "\n",
    "def F(t,Y) :\n",
    "    dydt = Y[1]\n",
    "    dvdt = -0.3*Y[1]+Y[0]-Y[0]**3+gamma*np.cos(1.2*t)\n",
    "    return (dydt,dvdt)\n",
    "\n",
    "\n",
    "T = 2*np.pi/1.2\n",
    "\n",
    "t = np.linspace(100*T,200*T,5000)\n",
    "t_poincare = np.arange(100*T,200*T,T)\n",
    "\n",
    "gamma = 0.2\n",
    "ysol_a = solve_ivp(F,[0,200*T],[1,0],t_eval=t,max_step=0.1)\n",
    "ysol_a_poincare = solve_ivp(F,[0,200*T],[1,0],t_eval=t_poincare,max_step=0.1)\n",
    "\n",
    "gamma = 0.28\n",
    "ysol_b = solve_ivp(F,[0,200*T],[1,0],t_eval=t,max_step=0.1)\n",
    "ysol_b_poincare = solve_ivp(F,[0,200*T],[1,0],t_eval=t_poincare,max_step=0.1)\n",
    "\n",
    "gamma = 0.37\n",
    "ysol_c = solve_ivp(F,[0,200*T],[1,0],t_eval=t,max_step=0.1)\n",
    "ysol_c_poincare = solve_ivp(F,[0,200*T],[1,0],t_eval=t_poincare,max_step=0.1)\n",
    "\n",
    "gamma = 0.5\n",
    "ysol_d = solve_ivp(F,[0,200*T],[1,0],t_eval=t,max_step=0.1)\n",
    "ysol_d_poincare = solve_ivp(F,[0,200*T],[1,0],t_eval=t_poincare,max_step=0.1)\n",
    "\n",
    "gamma = 0.65\n",
    "ysol_e = solve_ivp(F,[0,200*T],[1,0],t_eval=t,max_step=0.1)\n",
    "ysol_e_poincare = solve_ivp(F,[0,200*T],[1,0],t_eval=t_poincare,max_step=0.1)\n",
    "\n",
    "\n",
    "plt.subplot(231)\n",
    "plt.plot(ysol_a.y[0],ysol_a.y[1],label='Phase plot')\n",
    "plt.plot(ysol_a_poincare.y[0],ysol_a_poincare.y[1],'ro',label=r'Poincare section $t=100+nT$')\n",
    "plt.title(r'$\\gamma$=0.2')\n",
    "plt.legend()\n",
    "\n",
    "plt.subplot(232)\n",
    "plt.plot(ysol_b.y[0],ysol_b.y[1])\n",
    "plt.plot(ysol_b_poincare.y[0],ysol_b_poincare.y[1],'ro')\n",
    "plt.title(r'$\\gamma$=0.28')\n",
    "\n",
    "plt.subplot(233)\n",
    "plt.plot(ysol_c.y[0],ysol_c.y[1])\n",
    "plt.plot(ysol_c_poincare.y[0],ysol_c_poincare.y[1],'ro')\n",
    "plt.title(r'$\\gamma$=0.37')\n",
    "\n",
    "plt.subplot(234)\n",
    "plt.plot(ysol_d.y[0],ysol_d.y[1])\n",
    "plt.plot(ysol_d_poincare.y[0],ysol_d_poincare.y[1],'ro')\n",
    "plt.title(r'$\\gamma$=0.5')\n",
    "\n",
    "plt.subplot(235)\n",
    "plt.plot(ysol_e.y[0],ysol_e.y[1])\n",
    "plt.plot(ysol_e_poincare.y[0],ysol_e_poincare.y[1],'ro')\n",
    "plt.title(r'$\\gamma$=0.65')\n",
    "\n",
    "plt.show()"
   ]
  },
  {
   "cell_type": "markdown",
   "metadata": {},
   "source": [
    "## Exercise\n",
    "For our Poincare sections, we generated 100 different $t$-values\n",
    "$$t=100T, 101T, 102T,\\ldots,199T.$$\n",
    "and calculated (approximately) the corresponding 100 points\n",
    "$$(y(100T),y'(100T)),y(101T),y'(101T)),\\ldots,y(199T),y'(199T)),$$\n",
    "for our Poincare sections. We plotted those as red points.\n",
    "\n",
    "Yet, for $\\gamma=0.37$ we only see five red points in the plot, not 100. Why is that so?\n",
    "\n",
    "Submit your answer in LAMS. One or two sentences is enough."
   ]
  },
  {
   "cell_type": "code",
   "execution_count": null,
   "metadata": {},
   "outputs": [],
   "source": []
  },
  {
   "cell_type": "code",
   "execution_count": null,
   "metadata": {},
   "outputs": [],
   "source": []
  },
  {
   "cell_type": "code",
   "execution_count": null,
   "metadata": {},
   "outputs": [],
   "source": []
  },
  {
   "cell_type": "code",
   "execution_count": null,
   "metadata": {},
   "outputs": [],
   "source": []
  },
  {
   "cell_type": "code",
   "execution_count": null,
   "metadata": {},
   "outputs": [],
   "source": []
  },
  {
   "cell_type": "code",
   "execution_count": null,
   "metadata": {},
   "outputs": [],
   "source": []
  },
  {
   "cell_type": "code",
   "execution_count": null,
   "metadata": {},
   "outputs": [],
   "source": []
  },
  {
   "cell_type": "code",
   "execution_count": null,
   "metadata": {},
   "outputs": [],
   "source": []
  },
  {
   "cell_type": "code",
   "execution_count": null,
   "metadata": {},
   "outputs": [],
   "source": []
  },
  {
   "cell_type": "code",
   "execution_count": null,
   "metadata": {},
   "outputs": [],
   "source": []
  },
  {
   "cell_type": "code",
   "execution_count": null,
   "metadata": {},
   "outputs": [],
   "source": []
  }
 ],
 "metadata": {
  "kernelspec": {
   "display_name": "Python 3",
   "language": "python",
   "name": "python3"
  },
  "language_info": {
   "codemirror_mode": {
    "name": "ipython",
    "version": 3
   },
   "file_extension": ".py",
   "mimetype": "text/x-python",
   "name": "python",
   "nbconvert_exporter": "python",
   "pygments_lexer": "ipython3",
   "version": "3.8.5"
  }
 },
 "nbformat": 4,
 "nbformat_minor": 2
}
