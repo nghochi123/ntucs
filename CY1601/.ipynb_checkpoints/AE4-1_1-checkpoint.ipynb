{
 "cells": [
  {
   "cell_type": "markdown",
   "metadata": {},
   "source": [
    "# Some basic plots\n",
    "\n",
    "In this exercise we will study the system previously described. At time $t=0$ we will release the rod *from rest* at position $y(0)=1$. In other words we will study the initial value problem:\n",
    "\n",
    "$$y''+0.3y'-y+y^3=\\gamma\\cos(1.2t),\\quad y(0)=1,\\quad y'(0)=0.$$\n",
    "\n",
    "The $y^3$-term turns this equation into a *non-linear* d.e. and it is also a d.e. that we are not able to solve exactly. Instead, we will look at numerical approximation obtained by the `scipy.integrate.solve_ivp` function.\n",
    "\n",
    "In order to use the solve_ivp function to solve the above i.v.p., we must first rewrite it to a system of first order equations. To save you the trouble, here's the system you get:\n",
    "\n",
    "$$\\begin{cases}\n",
    "\\frac{dy}{dt} &= v\\\\\n",
    "\\frac{dv}{dt} &= -0.3v+y-y^3+\\gamma\\cos(1.2t)\\\\\n",
    "y(0) &= 1\\\\\n",
    "v(0) &= 0\n",
    "\\end{cases}$$\n",
    "\n",
    "We will plot numerical solutions to the above system for a few different values of $\\gamma$."
   ]
  },
  {
   "cell_type": "markdown",
   "metadata": {},
   "source": [
    "## Drawing some plots\n",
    "\n",
    "The i.v.p. above contains a parameter $\\gamma$ that represents the amplitude of the external force.\n",
    "\n",
    "The cell below, uses the `solve_ivp` function to calculate numerical solutions for the following different values of $\\gamma$:\n",
    "\n",
    "$$\\gamma=0.2,\\quad\\gamma=0.28,\\quad\\gamma=0.37,\\quad\\gamma=0.5,\\quad\\gamma=0.65.$$\n",
    "\n",
    "All code has already been written, so all you have to do here is to run the cell. \n",
    "The cell plots the different graphs, not in the same coordinate system but as separate plots arranged in a  grid. This can be done with subplots and the template demonstrates how this is done.\n",
    "\n",
    "The plot opens in a separate window which you might want to maximise to see clearly. Study the graphs and then answer the question below."
   ]
  },
  {
   "cell_type": "code",
   "execution_count": 1,
   "metadata": {},
   "outputs": [],
   "source": [
    "%matplotlib qt\n",
    "\n",
    "import numpy as np\n",
    "import matplotlib.pyplot as plt\n",
    "from scipy.integrate import solve_ivp\n",
    "\n",
    "\n",
    "def F(t,Y) :\n",
    "    dydt = Y[1]\n",
    "    dvdt = -0.3*Y[1]+Y[0]-Y[0]**3+gamma*np.cos(1.2*t)\n",
    "    return (dydt,dvdt)\n",
    "\n",
    "T = 2*np.pi/1.2\n",
    "t = np.linspace(0,30*T,5000)\n",
    "\n",
    "gamma = 0.2\n",
    "ysol_a = solve_ivp(F,[0,30*T],[1,0],t_eval=t,max_step=0.1)\n",
    "\n",
    "gamma = 0.28\n",
    "ysol_b = solve_ivp(F,[0,30*T],[1,0],t_eval=t,max_step=0.1)\n",
    "\n",
    "gamma = 0.37\n",
    "ysol_c = solve_ivp(F,[0,30*T],[1,0],t_eval=t,max_step=0.1)\n",
    "\n",
    "gamma = 0.5\n",
    "ysol_d = solve_ivp(F,[0,30*T],[1,0],t_eval=t,max_step=0.1)\n",
    "\n",
    "gamma = 0.65\n",
    "ysol_e = solve_ivp(F,[0,30*T],[1,0],t_eval=t,max_step=0.1)\n",
    "\n",
    "\n",
    "\n",
    "plt.clf()\n",
    "\n",
    "plt.subplot(511)\n",
    "plt.xticks(np.arange(0,31*T,T),[])\n",
    "plt.plot(ysol_a.t,ysol_a.y[0])\n",
    "plt.title(r'$\\gamma$=0.2')\n",
    "plt.subplot(512)\n",
    "plt.xticks(np.arange(0,31*T,T),[])\n",
    "plt.plot(ysol_b.t,ysol_b.y[0])\n",
    "plt.title(r'$\\gamma$=0.28')\n",
    "plt.subplot(513)\n",
    "plt.xticks(np.arange(0,31*T,T),[])\n",
    "plt.plot(ysol_c.t,ysol_c.y[0])\n",
    "plt.title(r'$\\gamma$=0.37')\n",
    "plt.subplot(514)\n",
    "plt.xticks(np.arange(0,31*T,T),[])\n",
    "plt.plot(ysol_d.t,ysol_d.y[0])\n",
    "plt.title(r'$\\gamma$=0.5')\n",
    "plt.xticks(np.arange(0,31*T,T),[])\n",
    "plt.subplot(515)\n",
    "plt.xticks(np.arange(0,31*T,T),np.arange(0,31,1))\n",
    "plt.xlabel('t/T')\n",
    "plt.plot(ysol_e.t,ysol_e.y[0])\n",
    "plt.title(r'$\\gamma$=0.65')\n",
    "\n",
    "plt.subplots_adjust(hspace=0.4)\n",
    "\n",
    "plt.show()"
   ]
  },
  {
   "cell_type": "markdown",
   "metadata": {},
   "source": [
    "### To submit in LAMS:\n",
    "\n",
    "Looking at the graphs, you should be able to see that for some amplitudes  of the external force, the displacement  assumes only positive values, while for other amplitudes, we have both positive and negative displacements. Why do you think this is so? A few sentences will do. We are not looking for a mathematical answer. Just explain (in physical terms) what happens to the oscillator."
   ]
  },
  {
   "cell_type": "code",
   "execution_count": null,
   "metadata": {},
   "outputs": [],
   "source": []
  }
 ],
 "metadata": {
  "kernelspec": {
   "display_name": "Python 3",
   "language": "python",
   "name": "python3"
  },
  "language_info": {
   "codemirror_mode": {
    "name": "ipython",
    "version": 3
   },
   "file_extension": ".py",
   "mimetype": "text/x-python",
   "name": "python",
   "nbconvert_exporter": "python",
   "pygments_lexer": "ipython3",
   "version": "3.7.4"
  }
 },
 "nbformat": 4,
 "nbformat_minor": 2
}
