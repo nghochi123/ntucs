{
 "cells": [
  {
   "cell_type": "markdown",
   "metadata": {},
   "source": [
    "## Escape radius\n",
    "\n",
    "Consider again the recursively defined sequence\n",
    "$$z_0=0,\\quad z_n=z_{n-1}^2+c,\\quad n=1,2,3,\\ldots,$$\n",
    "and the set\n",
    "$$M=\\{c\\in\\mathbb{C}:\\text{the sequence above is bounded}\\}.$$\n",
    "\n",
    "The following lemma can be proved:\n",
    "\n",
    "#### Lemma 1\n",
    "*If* for some $n=n_0$ we have $|z_{n_0}|>2$, *then* $|z_n|\\to\\infty$ as $n\\to\\infty$. In particular $c\\not\\in M$.\n",
    "\n",
    "##### Proof of Lemma 1\n",
    "See separate document (to be published after AE) if you're interested.\n",
    "\n",
    "#### Example\n",
    "Let's take $c=1$. We get (as you probably have calculated already in the previous exercise):\n",
    "$$z_0=0,\\quad z_1=0^2+1=1,\\quad z_2=1^2+1=2,\\quad z_3=2^2+1=5,\\ldots.$$\n",
    "Since $|z_3|>2$, then, using Lemma 1, we can conclude that $c=1\\not\\in M$."
   ]
  },
  {
   "cell_type": "markdown",
   "metadata": {},
   "source": [
    "#### Repeating the formula in Python\n",
    "\n",
    "Although, the above calculation could be easily done by hand, it's not so easy for other values of $c$. So, instead of doing it by hand, let's look at a straightforward way to do the same calculations with Python:\n",
    "\n",
    "We'll start by setting `z=0` and `c=1` (run the cell below):"
   ]
  },
  {
   "cell_type": "code",
   "execution_count": 1,
   "metadata": {},
   "outputs": [],
   "source": [
    "z=0\n",
    "c=1"
   ]
  },
  {
   "cell_type": "markdown",
   "metadata": {},
   "source": [
    "Now run the next cell. Note that the first line assigns a new value to `z`, which is the next value in the sequence. The second command then calculates the modulus of `z`, which is also the output of this cell."
   ]
  },
  {
   "cell_type": "code",
   "execution_count": 2,
   "metadata": {},
   "outputs": [
    {
     "data": {
      "text/plain": [
       "1"
      ]
     },
     "execution_count": 2,
     "metadata": {},
     "output_type": "execute_result"
    }
   ],
   "source": [
    "z=z**2+c\n",
    "abs(z)"
   ]
  },
  {
   "cell_type": "markdown",
   "metadata": {},
   "source": [
    "If everything worked out, the output should be `1` which is the value of $|z_1|$ according to the calculation we did by hand above.\n",
    "\n",
    "Now, run the cell above *again* (*only* the cell directly above, not the one before that). This should assign the next value $z_2$ to `z` and output its modulus, which should be `2`.  \n",
    "\n",
    "Then repeat the commands in the above cell by running it a few times more and see what happens!"
   ]
  },
  {
   "cell_type": "markdown",
   "metadata": {},
   "source": [
    "#### Exploring other values of $c$\n",
    "In the previous exercise, you saw (probably by hand calculation) that $i\\in M$. Based on this, maybe you would also expect that $0.9i\\in M$ (it seems to make sense that if the sequence stays bounded for some $c$, then for some $c$ with *smaller* modulus, it should also stay bounded). Interestingly enough, this is *not* the case; this intuition is misleading.\n",
    "\n",
    "Instead, letting $c=0.9i$ and calculating $z_1,z_2,\\ldots$, you'll see that after a number of iterations you'll end up with $|z_n|>2$, so by the above Lemma, $0.9i\\not\\in M$."
   ]
  },
  {
   "cell_type": "markdown",
   "metadata": {},
   "source": [
    "## Exercise\n",
    "With $c=0.9i$, *how many* iterations does it take before $|z_n|>2$, i.e. what is the *smallest* number $n$ for which $|z_n|>2$?\n",
    "\n",
    "This is too complicated to evaluate by hand, but you can easily find out by editing the first cell above and then repeatedly execute the second. Just count how many times you have to repeat the formula to get $|z_n|>2$.\n",
    "\n",
    "Recall that in Python, the imaginary unit is denoted by `j`, so $0.9i$ is entered as `0.9j`.\n",
    "\n",
    "When you have found the answer, submit it via LAMS."
   ]
  },
  {
   "cell_type": "code",
   "execution_count": 9,
   "metadata": {},
   "outputs": [],
   "source": [
    "c = 0.9j\n",
    "count = 0\n",
    "while abs(z) <= 2:\n",
    "    z = z**2 + c\n",
    "    print(z)\n",
    "    count = count + 1\n",
    "print(count)"
   ]
  },
  {
   "cell_type": "code",
   "execution_count": null,
   "metadata": {},
   "outputs": [],
   "source": []
  }
 ],
 "metadata": {
  "kernelspec": {
   "display_name": "Python 3",
   "language": "python",
   "name": "python3"
  },
  "language_info": {
   "codemirror_mode": {
    "name": "ipython",
    "version": 3
   },
   "file_extension": ".py",
   "mimetype": "text/x-python",
   "name": "python",
   "nbconvert_exporter": "python",
   "pygments_lexer": "ipython3",
   "version": "3.6.6"
  }
 },
 "nbformat": 4,
 "nbformat_minor": 2
}
