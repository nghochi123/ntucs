{
 "cells": [
  {
   "cell_type": "markdown",
   "id": "690eb87c",
   "metadata": {},
   "source": [
    "## Summary of last exercise\n",
    "\n",
    "In the last exercise you should have seen that with $r\\in [0,4]$, the fixed points of $f:[0,1]\\to [0,1]$ given by\n",
    "$$f(x)=r(1-x)x,$$\n",
    "are\n",
    "$$0\\text{ for }r\\in [0,1],\\quad 0\\text{ and }\\frac{r-1}{r}\\text{ for }r\\in [1,4].$$\n",
    "You should also have observed that with $r=2.5$, $q_0=0.1$, it looks like the sequence $(q_n)$ given by\n",
    "$$q_n=f(q_{n-1})\\quad\\text{for }n=1,2,3,\\ldots,$$\n",
    "converges to the fixed point \n",
    "$$q^*=\\frac{r-1}{r}=\\frac{\\frac{5}{2}-1}{\\frac{5}{2}}=\\frac{3}{5}=0.6$$"
   ]
  },
  {
   "cell_type": "markdown",
   "id": "f74feddc",
   "metadata": {},
   "source": [
    "## Some theory\n",
    "\n",
    "\n",
    "Consider $f:A\\to A$ and the sequence\n",
    "$$x_0=\\text{initial pt.},\\quad x_n=f(x_{n-1}).$$\n",
    "Let $x^*\\in A$ be a fixed point of $f$.\n",
    "\n",
    "**Definition 1**\n",
    "We say that $x^*$ is *attracting* if there exists $\\delta>0$ such that for $x_0\\in (x^*-\\delta,x^*+\\delta)\\cap A$, the sequence $(x_n)$ converges to $x^*$. \n",
    "\n",
    "In other words, $x^*$ is attracting if with $x_0$ sufficiently close to $x^*$, the sequence converges to $x^*$.\n",
    "\n",
    "**Definition 2**\n",
    "We say that $x^*$ is *repelling* if there exists $\\delta>0$ such that for $x_0\\in (x^*-\\delta,x^*+\\delta)\\cap A$, there exists $n$ such that $x_n \\not\\in (x^*-\\delta,x^*+\\delta)$.\n",
    "\n",
    "In other words, $x^*$ is repelling if with $x_0$ sufficiently close to $x^*$, the sequence is eventually pushed away from $x^*$.\n",
    "\n",
    "Here's a useful theorem:\n",
    "\n",
    "**Theorem**\n",
    "Suppose $f:A\\to A$ is differentiable with a continuous derivative $f'$, and suppose $x^*$ is a fixed point of $f$.\n",
    "\n",
    "If $|f'(x^*)|<1$, then $x^*$ is attracting.\n",
    "\n",
    "If $|f'(x^*)|>1$, then $x^*$ is repelling.\n",
    "\n",
    "\n",
    "Note that the theorem gives no information when $|f'(x^*)|=1$."
   ]
  },
  {
   "cell_type": "markdown",
   "id": "0af6abbd",
   "metadata": {},
   "source": [
    "## Exercise\n",
    "Let $f:[0,1]\\to [0,1]$ be given by\n",
    "$$f(x)=r(1-x)x.$$\n",
    "\n",
    "For what values of $r\\in [0,4]$ does the theorem tell us that $x^*=0$ is attracting, and for what values of $r\\in [0,4]$ does it tell us that $x^*=0$ is repelling?\n",
    "\n",
    "For what values of $r\\in [1,4]$ does the theorem tell us that $x^*=(r-1)/r$ is attracting, and for what values of $r\\in [1,4]$ does it tell us that $x^*=(r-1)/r$ is repelling?\n"
   ]
  },
  {
   "cell_type": "code",
   "execution_count": null,
   "id": "3acc857d",
   "metadata": {},
   "outputs": [],
   "source": []
  }
 ],
 "metadata": {
  "kernelspec": {
   "display_name": "Python 3 (ipykernel)",
   "language": "python",
   "name": "python3"
  },
  "language_info": {
   "codemirror_mode": {
    "name": "ipython",
    "version": 3
   },
   "file_extension": ".py",
   "mimetype": "text/x-python",
   "name": "python",
   "nbconvert_exporter": "python",
   "pygments_lexer": "ipython3",
   "version": "3.9.6"
  }
 },
 "nbformat": 4,
 "nbformat_minor": 5
}
