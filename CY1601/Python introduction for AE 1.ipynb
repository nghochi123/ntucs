{
 "cells": [
  {
   "cell_type": "markdown",
   "metadata": {},
   "source": [
    "# Running Python in a Jupyter Notebook\n",
    "\n",
    "The document you're currently viewing is a \"Jupyter Notebook\". Jupyter notebooks give you an interactive interface to different programming languages. In this case Python.\n",
    "\n",
    "In this introduction you will learn some basics of Python by running (and sometimes editing) cells with Python code (the blueish \"boxes\" below). When a cell is run, all the Python code in that cell is executed, and you do this by selecting the cell and pressing Shift+Enter (alternatively, click the \"Run\" button above).\n",
    "\n",
    "This introduction will mostly just ask you to run a bunch of code cells to see what happens, but sometimes you will also be asked to edit the contents of the cell. Don't feel limited by this however. *Every* cell is editable and interactive, so feel free to change things just to see what happens. Changes you make are autosaved, but should you mess things up, you can always undo your changes (select the cell and Ctrl-Z) or in the worst case, download the notebook again.\n",
    "\n",
    "Note that *every* cell is editable. Even the instructions you are reading now. It might happen that you by mistake start editing the instructions (happens if you double click the text) in which case the formatting will look funny. To exit the edit mode, just run the cell (Shift+Enter) and it should look right again."
   ]
  },
  {
   "cell_type": "markdown",
   "metadata": {},
   "source": [
    "# First steps, Python as a calculator"
   ]
  },
  {
   "cell_type": "markdown",
   "metadata": {},
   "source": [
    "Although not really the point, one thing you can do In the Python is simple calculations. Just enter an arithmetic expression in a cell, run it by pressing Shift-Enter (or the Run button above), and Python will calculate it if it can. The cells below already have some arithmetic expressions in them. Select each cell, run it and see what happens!"
   ]
  },
  {
   "cell_type": "code",
   "execution_count": 1,
   "metadata": {},
   "outputs": [
    {
     "data": {
      "text/plain": [
       "2"
      ]
     },
     "execution_count": 1,
     "metadata": {},
     "output_type": "execute_result"
    }
   ],
   "source": [
    "1+1"
   ]
  },
  {
   "cell_type": "code",
   "execution_count": 2,
   "metadata": {},
   "outputs": [
    {
     "data": {
      "text/plain": [
       "25"
      ]
     },
     "execution_count": 2,
     "metadata": {},
     "output_type": "execute_result"
    }
   ],
   "source": [
    "1+3*2**3"
   ]
  },
  {
   "cell_type": "markdown",
   "metadata": {},
   "source": [
    "The second example might look a bit funny. The symbol * is (unsurprisingly)\n",
    "used to denote multiplication, while ** denotes exponentiation. In other words, the Python expression $\\texttt{1+3*2**3}$ corresponds to the mathematical expression $1+3\\cdot 2^3$ which of course evaluates to 25.\n",
    "\n",
    "If you want to, go ahead and change the content of the cells above, run them again and see what happens. Feel free to experiment!\n",
    "\n",
    "A point to note that is important for AE 1, is that Python can also handle complex numbers. Just use `j` for the imaginary unit. Try running the cells below and see what happens!"
   ]
  },
  {
   "cell_type": "code",
   "execution_count": 3,
   "metadata": {},
   "outputs": [
    {
     "data": {
      "text/plain": [
       "(-1+0j)"
      ]
     },
     "execution_count": 3,
     "metadata": {},
     "output_type": "execute_result"
    }
   ],
   "source": [
    "1j**2"
   ]
  },
  {
   "cell_type": "code",
   "execution_count": 4,
   "metadata": {},
   "outputs": [
    {
     "data": {
      "text/plain": [
       "(-2+1j)"
      ]
     },
     "execution_count": 4,
     "metadata": {},
     "output_type": "execute_result"
    }
   ],
   "source": [
    "(1+2j)*1j"
   ]
  },
  {
   "cell_type": "markdown",
   "metadata": {},
   "source": [
    "In the first example above, we calculated $i^2$ which is $−1$. To enter $i$ we had\n",
    "to type $\\texttt{1j}$. In the second example we calculated $(1 + 2i)\\cdot i$ which evaluates as\n",
    "\n",
    "$(1 + 2i)\\cdot i = i + 2i^2 = −2 + i.$\n",
    "\n",
    "If you are used to other mathematical or statistical software such as Matlab\n",
    "or R, you might find that Python appears (at first glance) to have very limited mathematical capabilities. For example, in Matlab you could type `sin(1)` and\n",
    "immediately get an approximate value of $\\sin 1$, but if you try the same in Python it doesn’t seem to work (run the cell below and you'll get an error message). Don’t worry though. There’s a huge library of mathematical functions (including of course all the standard trigonometric functions) available in Python. We just have to learn how to access them, and we will do so in AE2."
   ]
  },
  {
   "cell_type": "code",
   "execution_count": 5,
   "metadata": {},
   "outputs": [
    {
     "ename": "NameError",
     "evalue": "name 'sin' is not defined",
     "output_type": "error",
     "traceback": [
      "\u001b[1;31m---------------------------------------------------------------------------\u001b[0m",
      "\u001b[1;31mNameError\u001b[0m                                 Traceback (most recent call last)",
      "\u001b[1;32m<ipython-input-5-025f39ddbe02>\u001b[0m in \u001b[0;36m<module>\u001b[1;34m\u001b[0m\n\u001b[1;32m----> 1\u001b[1;33m \u001b[0msin\u001b[0m\u001b[1;33m(\u001b[0m\u001b[1;36m1\u001b[0m\u001b[1;33m)\u001b[0m\u001b[1;33m\u001b[0m\u001b[0m\n\u001b[0m",
      "\u001b[1;31mNameError\u001b[0m: name 'sin' is not defined"
     ]
    }
   ],
   "source": [
    "sin(1)"
   ]
  },
  {
   "cell_type": "markdown",
   "metadata": {},
   "source": [
    "# Using variables"
   ]
  },
  {
   "cell_type": "markdown",
   "metadata": {},
   "source": [
    "You can use the `=` symbol to assign values to variable names and use them in\n",
    "your calculations. Run the cell below and see what happens!"
   ]
  },
  {
   "cell_type": "code",
   "execution_count": 6,
   "metadata": {},
   "outputs": [
    {
     "data": {
      "text/plain": [
       "5"
      ]
     },
     "execution_count": 6,
     "metadata": {},
     "output_type": "execute_result"
    }
   ],
   "source": [
    "a=3\n",
    "b=2\n",
    "a+b"
   ]
  },
  {
   "cell_type": "markdown",
   "metadata": {},
   "source": [
    "It is important to note that in Python, the `=` symbol should be thought of as an *assignment* operator and not as a mathematical equal sign. What this means is that when Python encounters the `=` symbol, it takes what’s on the right side of the symbol, evaluates it, and assigns it to the variable name on its left side. \n",
    "\n",
    "The following manipulations illustrate how it works (and how it is different from mathematical equality). Run the cells below in the order they are written (start with the topmost and proceed downwards), but before you do so, try to guess what the output should be!"
   ]
  },
  {
   "cell_type": "code",
   "execution_count": 7,
   "metadata": {},
   "outputs": [
    {
     "data": {
      "text/plain": [
       "2"
      ]
     },
     "execution_count": 7,
     "metadata": {},
     "output_type": "execute_result"
    }
   ],
   "source": [
    "k=1\n",
    "k=k+1\n",
    "k  #This line generates the current value of k as output"
   ]
  },
  {
   "cell_type": "code",
   "execution_count": 8,
   "metadata": {},
   "outputs": [
    {
     "data": {
      "text/plain": [
       "4"
      ]
     },
     "execution_count": 8,
     "metadata": {},
     "output_type": "execute_result"
    }
   ],
   "source": [
    "k=k+2\n",
    "k"
   ]
  },
  {
   "cell_type": "code",
   "execution_count": 9,
   "metadata": {},
   "outputs": [
    {
     "data": {
      "text/plain": [
       "3.0"
      ]
     },
     "execution_count": 9,
     "metadata": {},
     "output_type": "execute_result"
    }
   ],
   "source": [
    "k=(k+5)/3\n",
    "k"
   ]
  },
  {
   "cell_type": "markdown",
   "metadata": {},
   "source": [
    "Is each step above, Python takes the current value of the right hand side and assigns it to the left hand side. First we assign the value $1$ to $k$. Then we take the current value $(1+1)$ of $k+1$ and assign it to $k$ so it becomes $2$. \n",
    "\n",
    "In the next step we take the current value $(2+2)$ of $k+2$ and assign it to $k$ which is now $4$.\n",
    "\n",
    "Of course, if you run any of the cells more than once, or in a different order, different things will happen. Feel free to experiment and see what happens!\n",
    "\n",
    "The examples above illustrates that the `=` symbol should not be thought of as mathematical equality (the mathematical equation $k = k + 1$ has no solutions). Instead we should think of it as *assigning* the value on the right to the variable on the left."
   ]
  },
  {
   "cell_type": "markdown",
   "metadata": {},
   "source": [
    "# Logical expressions"
   ]
  },
  {
   "cell_type": "markdown",
   "metadata": {},
   "source": [
    "While programming in Python, we will often want to test whether different conditions are true or false. In particular, we would like to check whether certain equalities or inequalities are satisfied. In Python, the comparison operators `< > <= >= ==` correspond to the mathematical relations $< \\ > \\ \\leq \\ \\geq \\ =$. Note that\n",
    "since in Python `=` is used to assign values, we must use a different symbol `==` to represent equality. \n",
    "\n",
    "Python will test the condition you give, return `True` if it\n",
    "is true and return `False` if it is false. Try running each cell below and see what happens (but please try to guess what the result should be before you run it)."
   ]
  },
  {
   "cell_type": "code",
   "execution_count": 10,
   "metadata": {},
   "outputs": [
    {
     "data": {
      "text/plain": [
       "True"
      ]
     },
     "execution_count": 10,
     "metadata": {},
     "output_type": "execute_result"
    }
   ],
   "source": [
    "2+3 == 7-2"
   ]
  },
  {
   "cell_type": "code",
   "execution_count": 11,
   "metadata": {},
   "outputs": [
    {
     "data": {
      "text/plain": [
       "False"
      ]
     },
     "execution_count": 11,
     "metadata": {},
     "output_type": "execute_result"
    }
   ],
   "source": [
    "2+3 == 7"
   ]
  },
  {
   "cell_type": "code",
   "execution_count": 12,
   "metadata": {},
   "outputs": [
    {
     "data": {
      "text/plain": [
       "True"
      ]
     },
     "execution_count": 12,
     "metadata": {},
     "output_type": "execute_result"
    }
   ],
   "source": [
    "2+3 < 7"
   ]
  },
  {
   "cell_type": "code",
   "execution_count": 13,
   "metadata": {},
   "outputs": [
    {
     "data": {
      "text/plain": [
       "False"
      ]
     },
     "execution_count": 13,
     "metadata": {},
     "output_type": "execute_result"
    }
   ],
   "source": [
    "2+3 >= 7"
   ]
  },
  {
   "cell_type": "markdown",
   "metadata": {},
   "source": [
    "We can combine two logical expressions into one using the `and`, and `or` logical\n",
    "expressions. The expression `P and Q` returns `True` if both `P` and `Q` are true, and\n",
    "returns `False` otherwise. Run the cells below to see how it works. And, as usual, feel free to experiment."
   ]
  },
  {
   "cell_type": "code",
   "execution_count": 14,
   "metadata": {},
   "outputs": [
    {
     "data": {
      "text/plain": [
       "True"
      ]
     },
     "execution_count": 14,
     "metadata": {},
     "output_type": "execute_result"
    }
   ],
   "source": [
    "2<3 and 4<5"
   ]
  },
  {
   "cell_type": "code",
   "execution_count": 15,
   "metadata": {},
   "outputs": [
    {
     "data": {
      "text/plain": [
       "False"
      ]
     },
     "execution_count": 15,
     "metadata": {},
     "output_type": "execute_result"
    }
   ],
   "source": [
    "2<3 and 4==5"
   ]
  },
  {
   "cell_type": "code",
   "execution_count": 16,
   "metadata": {},
   "outputs": [
    {
     "data": {
      "text/plain": [
       "False"
      ]
     },
     "execution_count": 16,
     "metadata": {},
     "output_type": "execute_result"
    }
   ],
   "source": [
    "2>3 and 4<5"
   ]
  },
  {
   "cell_type": "code",
   "execution_count": 17,
   "metadata": {},
   "outputs": [
    {
     "data": {
      "text/plain": [
       "False"
      ]
     },
     "execution_count": 17,
     "metadata": {},
     "output_type": "execute_result"
    }
   ],
   "source": [
    "2>3 and 4==5"
   ]
  },
  {
   "cell_type": "markdown",
   "metadata": {},
   "source": [
    "The expression `P or Q` returns `True` if `P` or `Q` (or both) are true. It returns `False` only if `P` and `Q` are both false. Try the following!"
   ]
  },
  {
   "cell_type": "code",
   "execution_count": 18,
   "metadata": {},
   "outputs": [
    {
     "data": {
      "text/plain": [
       "True"
      ]
     },
     "execution_count": 18,
     "metadata": {},
     "output_type": "execute_result"
    }
   ],
   "source": [
    "2<3 or 4<5"
   ]
  },
  {
   "cell_type": "code",
   "execution_count": 19,
   "metadata": {},
   "outputs": [
    {
     "data": {
      "text/plain": [
       "True"
      ]
     },
     "execution_count": 19,
     "metadata": {},
     "output_type": "execute_result"
    }
   ],
   "source": [
    "2<3 or 4==5"
   ]
  },
  {
   "cell_type": "code",
   "execution_count": 20,
   "metadata": {},
   "outputs": [
    {
     "data": {
      "text/plain": [
       "True"
      ]
     },
     "execution_count": 20,
     "metadata": {},
     "output_type": "execute_result"
    }
   ],
   "source": [
    "2>3 or 4<5"
   ]
  },
  {
   "cell_type": "code",
   "execution_count": 21,
   "metadata": {},
   "outputs": [
    {
     "data": {
      "text/plain": [
       "False"
      ]
     },
     "execution_count": 21,
     "metadata": {},
     "output_type": "execute_result"
    }
   ],
   "source": [
    "2>3 or 4==5"
   ]
  },
  {
   "cell_type": "markdown",
   "metadata": {},
   "source": [
    "The `not` operator negates the expression that follows. E.g.:"
   ]
  },
  {
   "cell_type": "code",
   "execution_count": 22,
   "metadata": {},
   "outputs": [
    {
     "data": {
      "text/plain": [
       "True"
      ]
     },
     "execution_count": 22,
     "metadata": {},
     "output_type": "execute_result"
    }
   ],
   "source": [
    "not False"
   ]
  },
  {
   "cell_type": "code",
   "execution_count": 23,
   "metadata": {},
   "outputs": [
    {
     "data": {
      "text/plain": [
       "False"
      ]
     },
     "execution_count": 23,
     "metadata": {},
     "output_type": "execute_result"
    }
   ],
   "source": [
    "not True"
   ]
  },
  {
   "cell_type": "code",
   "execution_count": 24,
   "metadata": {},
   "outputs": [
    {
     "data": {
      "text/plain": [
       "False"
      ]
     },
     "execution_count": 24,
     "metadata": {},
     "output_type": "execute_result"
    }
   ],
   "source": [
    "not 2+3 == 7-2"
   ]
  },
  {
   "cell_type": "code",
   "execution_count": 25,
   "metadata": {},
   "outputs": [
    {
     "data": {
      "text/plain": [
       "True"
      ]
     },
     "execution_count": 25,
     "metadata": {},
     "output_type": "execute_result"
    }
   ],
   "source": [
    "not 2+3 == 7"
   ]
  },
  {
   "cell_type": "markdown",
   "metadata": {},
   "source": [
    "# Functions in Python\n",
    "In Python, a function is essentially a block of instructions that carry out a\n",
    "specific task. To perform the task, the function usually (but not necessarily) needs some\n",
    "input (one or several \"arguments\") and it usualy (but not necessarily) returns some kind of result."
   ]
  },
  {
   "cell_type": "markdown",
   "metadata": {},
   "source": [
    "### Using built in functions\n",
    "A multitude of functions can be accessed directly in Python. For example, if we\n",
    "want to extract the smallest out of a collection of values, we can use the built in\n",
    "`min` function. Run the cells below to see how it works!"
   ]
  },
  {
   "cell_type": "code",
   "execution_count": 26,
   "metadata": {},
   "outputs": [
    {
     "data": {
      "text/plain": [
       "2"
      ]
     },
     "execution_count": 26,
     "metadata": {},
     "output_type": "execute_result"
    }
   ],
   "source": [
    "min(2,3)"
   ]
  },
  {
   "cell_type": "code",
   "execution_count": 27,
   "metadata": {},
   "outputs": [
    {
     "data": {
      "text/plain": [
       "5"
      ]
     },
     "execution_count": 27,
     "metadata": {},
     "output_type": "execute_result"
    }
   ],
   "source": [
    "a=5\n",
    "b=7\n",
    "min(a,b)"
   ]
  },
  {
   "cell_type": "code",
   "execution_count": 28,
   "metadata": {},
   "outputs": [
    {
     "data": {
      "text/plain": [
       "-3"
      ]
     },
     "execution_count": 28,
     "metadata": {},
     "output_type": "execute_result"
    }
   ],
   "source": [
    "min(1,-3,a,b)"
   ]
  },
  {
   "cell_type": "markdown",
   "metadata": {},
   "source": [
    "As illustrated, the `min` function takes one or several values as input and returns\n",
    "the smallest of those values. In the various Application Exercises that follow,\n",
    "we will encounter many other built in functions."
   ]
  },
  {
   "cell_type": "markdown",
   "metadata": {},
   "source": [
    "### Making your own functions, simple example\n",
    "\n",
    "If we need a function that is not already built in we can, with a little effort,\n",
    "make it ourselves.\n",
    "\n",
    "Let's say that we want to be able to type `square(x)` in order to calculate $x^2$ (this is of course silly since we can easily do this by typing $\\texttt{x**2}$, but let's consider this as an easy example). There is no built in function called $\\texttt{square}$ so if you run the cell below (try it!) you'll get an error message."
   ]
  },
  {
   "cell_type": "code",
   "execution_count": 31,
   "metadata": {},
   "outputs": [
    {
     "data": {
      "text/plain": [
       "9"
      ]
     },
     "execution_count": 31,
     "metadata": {},
     "output_type": "execute_result"
    }
   ],
   "source": [
    "square(3)"
   ]
  },
  {
   "cell_type": "markdown",
   "metadata": {},
   "source": [
    "Ok, that (of course) didn't work, but now let's do the following.\n",
    "\n",
    "Run the cell below!"
   ]
  },
  {
   "cell_type": "code",
   "execution_count": 30,
   "metadata": {},
   "outputs": [],
   "source": [
    "def square(x) :\n",
    "    \"\"\"Returns the square of its argument\"\"\"\n",
    "    y=x**2\n",
    "    return(y)"
   ]
  },
  {
   "cell_type": "markdown",
   "metadata": {},
   "source": [
    "Ok, after running it, nothing happened (it seems)!\n",
    "\n",
    "But... now try running the previous cell (the one where with `square(3)` and which returned an error message) again.\n",
    "\n",
    "If everything works, this cell now returns `9`. If you want, go ahead and try other values!"
   ]
  },
  {
   "cell_type": "markdown",
   "metadata": {},
   "source": [
    "### Making your own functions, the general structure\n",
    "The general syntax for creating your own function in Python is the following.\n",
    "\n",
    "    def function_name(parameters) :\n",
    "        \"\"\"docstring\"\"\"\n",
    "        instructions```    \n",
    "\n",
    "To clarify\n",
    "1. The function header (first row) of a function declaration must start with\n",
    "the keyword def, followed by the name of your function and brackets\n",
    "containing any parameter names for arguments passed to the function (if the function takes more than one parameter - these are separated by commas, if it takes no parameters - just leave the brackets empty),\n",
    "and finally end with a colon. In our example (the cell above) we defined a function\n",
    "called square taking one argument that is assigned the parameter name\n",
    "`x`.\n",
    "2. Following the function header comes an optional docstring. The docstring\n",
    "is a text within triple quotation marks that describes in normal language\n",
    "what the function does. You don’t have to provide a docstring with your\n",
    "function, but it is good practice to do so.\n",
    "3. After the docstring comes one or several rows of code (instructions) that\n",
    "perform the actual task of the function. These rows must have the same\n",
    "indentation level, conventionally 4 spaces, relative to the function header.\n",
    "All lines with the same or larger indentation level are considered to be\n",
    "part of the function.\n",
    "4. Typically, a function will return something as well. In our example (the cell above) the function returns the value of the variable `y` which has been assigned the value of `x**2`. In other words, this function returns the value of `x**2`.\n",
    "\n",
    "After a function has been defined, you can use it in Python like any other. For example, you can try running the cells below and see what happens."
   ]
  },
  {
   "cell_type": "code",
   "execution_count": 32,
   "metadata": {},
   "outputs": [
    {
     "data": {
      "text/plain": [
       "13"
      ]
     },
     "execution_count": 32,
     "metadata": {},
     "output_type": "execute_result"
    }
   ],
   "source": [
    "square(-2)+square(3)\n"
   ]
  },
  {
   "cell_type": "code",
   "execution_count": 33,
   "metadata": {},
   "outputs": [
    {
     "data": {
      "text/plain": [
       "5.0"
      ]
     },
     "execution_count": 33,
     "metadata": {},
     "output_type": "execute_result"
    }
   ],
   "source": [
    "x = square(3)\n",
    "y = square(4)\n",
    "(x+y)**0.5"
   ]
  },
  {
   "cell_type": "markdown",
   "metadata": {},
   "source": [
    "### Exercise\n",
    "In the cell below, create a function called `hypothenuse` that takes two arguments and returns the square root of the sum of their squares. I have already created a function header for you, so all you have to do is write the rest of the function. \n",
    "\n",
    "In the cell below, is the function header. Edit the cell and fill in the rest of the function. Then run the cell."
   ]
  },
  {
   "cell_type": "code",
   "execution_count": 34,
   "metadata": {},
   "outputs": [],
   "source": [
    "def hypothenuse(x,y) :\n",
    "    return (x**2 + y**2)**0.5\n",
    "    "
   ]
  },
  {
   "cell_type": "markdown",
   "metadata": {},
   "source": [
    "If this is the first time you try to write a function in Python, you will probably make some mistake(s) and get an error message. Just keep trying until running the cell above gives no error message. \n",
    "\n",
    "*Hint 1*: You can calculate square roots by taking a suitable power.\n",
    "\n",
    "*Hint 2*: One more line of code is enough. Just `return` the appropriate value. \n",
    "\n",
    "*Hint 3*: Python uses indentation of code to tell where the function code begins and ends (and as we will se later, other chunks of code called code blocks). In this example, all lines of code following the function header should be indented by the same number of blank spaces (typically 4). This will probably be done automatically once you start editing the cell above, but if you mess it up, you will get an error message.\n",
    "\n",
    "If you really can't get it to work, you'll find a solution at the end of this notebook.\n",
    "\n",
    "Finally *test* your function by running the two cells below!"
   ]
  },
  {
   "cell_type": "code",
   "execution_count": 35,
   "metadata": {},
   "outputs": [
    {
     "data": {
      "text/plain": [
       "5.0"
      ]
     },
     "execution_count": 35,
     "metadata": {},
     "output_type": "execute_result"
    }
   ],
   "source": [
    "hypothenuse(3,4)"
   ]
  },
  {
   "cell_type": "code",
   "execution_count": 36,
   "metadata": {},
   "outputs": [
    {
     "data": {
      "text/plain": [
       "6.4031242374328485"
      ]
     },
     "execution_count": 36,
     "metadata": {},
     "output_type": "execute_result"
    }
   ],
   "source": [
    "hypothenuse(4,5)"
   ]
  },
  {
   "cell_type": "markdown",
   "metadata": {},
   "source": [
    "If your function works properly, the first cell should return `5.0` while the second should return `6.4031242374328485`. If this doesn't work, try to edit the code for the `hypothenuse` function until it works."
   ]
  },
  {
   "cell_type": "markdown",
   "metadata": {},
   "source": [
    "## While loops\n",
    "Suppose we don't know that\n",
    "\n",
    "$$1+2+\\ldots+n=\\frac{n(n+1)}{2}$$\n",
    "\n",
    "In that case we could write a Python function that calculates the sum above in the straightforward manner, just by performing the necessary additions. This function below, using a `while` loop (we will explain later how it works), does the trick (If you have some programming experience, you’ll probably realize that a `for` loop would be easier to use in this case, but this is just an example for illustration purpose):"
   ]
  },
  {
   "cell_type": "code",
   "execution_count": 37,
   "metadata": {},
   "outputs": [],
   "source": [
    "def addup(n) :\n",
    "    \"\"\" Adds all integers starting with 1 and ending with n \"\"\"\n",
    "    k=1\n",
    "    s=0\n",
    "    while k <= n :\n",
    "        s=s+k\n",
    "        k=k+1\n",
    "    return s"
   ]
  },
  {
   "cell_type": "markdown",
   "metadata": {},
   "source": [
    "Run the cell above so the function gets defined. Then try it out by running the cells below."
   ]
  },
  {
   "cell_type": "code",
   "execution_count": 38,
   "metadata": {},
   "outputs": [
    {
     "data": {
      "text/plain": [
       "1"
      ]
     },
     "execution_count": 38,
     "metadata": {},
     "output_type": "execute_result"
    }
   ],
   "source": [
    "addup(1)"
   ]
  },
  {
   "cell_type": "code",
   "execution_count": 39,
   "metadata": {},
   "outputs": [
    {
     "data": {
      "text/plain": [
       "6"
      ]
     },
     "execution_count": 39,
     "metadata": {},
     "output_type": "execute_result"
    }
   ],
   "source": [
    "addup(3)"
   ]
  },
  {
   "cell_type": "code",
   "execution_count": 40,
   "metadata": {},
   "outputs": [
    {
     "data": {
      "text/plain": [
       "5050"
      ]
     },
     "execution_count": 40,
     "metadata": {},
     "output_type": "execute_result"
    }
   ],
   "source": [
    "addup(100)"
   ]
  },
  {
   "cell_type": "markdown",
   "metadata": {},
   "source": [
    "Let’s take a closer look at the `addup` function and how it works:\n",
    "\n",
    "The code was:\n",
    "\n",
    "    def addup(n) :\n",
    "        \"\"\" Adds all integers starting with 1 and ending with n \"\"\"\n",
    "        k=1\n",
    "        s=0\n",
    "        while k <= n :\n",
    "            s=s+k\n",
    "            k=k+1\n",
    "        return s\n",
    "\n",
    "And this is how it works:\n",
    "1. The function header defines a function called `addup` taking one argument\n",
    "`n`.\n",
    "2. In the two first lines (after the docstring) we set the variables `k=1` and\n",
    "`s=0`. In this example `k` will act as a counter and `s` will be the calculated\n",
    "sum (the value that the function eventually returns).\n",
    "3. The next code block, starting with `while k<=n :` followed by two indented lines, is a `while`-loop. It keeps executing the indented lines, repeatedly over and over again, as long as the condition `k<=n` is satisfied.\n",
    "\n",
    "*IMPORTANT* Note the indentation of the code. The two lines after the `while` statement are indented relative to the rest of the code. The indented code (and *only* the indented code) gets executed repeatedly as long as the `while`-condition is satisfied. When (eventually) the condition is no longer satisfied, the Pyhon proceeds with the code *after* the indented lines. \n",
    "4. Finally (*after* the `while`-loop has finished), the function returns the value of `s`.\n",
    "\n",
    "To understand in detail how it works, suppose we call the function with `n=3` like we did in one of the cells above. Let us step by step go through how the steps of the functions were executed in that case:\n",
    "\n",
    "1. The first line of code: `k=1`. The counter `k` is set to `1`.\n",
    "2. `s=0`. The sum `s` is set to be `0`.\n",
    "3. `while k<=n :`. Python checks the condition. Since currently `k=1` and `n=3`,\n",
    "the condition is `True` and Python proceeds to execute the following\n",
    "indented lines.\n",
    "4. `s=s+k`. We update the value of the sum `s` to be the current value of `s+k`, which is\n",
    "0 + 1 = 1.\n",
    "5. `k=k+1`. We update the value of our counter `k` by adding `1` to its current value, so now\n",
    "`k` has the new value `2`.\n",
    "6. After executing the last indented line, Python jumps back to the start of\n",
    "the loop.\n",
    "7. `while k<=n :`. Python checks the condition again. Since currently `k=2` and `n=3`,\n",
    "the condition is `True` and Python proceeds to execute the commands\n",
    "in the loop.\n",
    "8. `s=s+k`. We update the value of `s` to be the current value of `s+k`, which is\n",
    "1 + 2 = 3.\n",
    "9. `k=k+1`. We update the value of `k` by adding `1`, so now `k` has the value 3.\n",
    "10. Python jumps back to the start of the loop.\n",
    "11. `while k<=n :`. Python checks the condition. Since currently `k=3` and\n",
    "`n=3`, the condition is `True` and the commands in the loop are executed\n",
    "again.\n",
    "12. `s=s+k`. We update the value of `s` to be the current value of `s+k`, which is\n",
    "3 + 3 = 6.\n",
    "13. `k=k+1`. We update the value of `k` by adding `1`, so now `k=4`.\n",
    "14. Python jumps back to the start of the loop.\n",
    "15. `while k<=n :`. Python checks the condition. Since currently `k=4` and\n",
    "`n=3`, the condition is `False` and Python skips to the next line (if\n",
    "any) after the last indented line.\n",
    "16. The next line after the loop returns the current value of `s` which is `6`.\n",
    "\n",
    "If the steps above seem overwhelming to process, just note that we start by\n",
    "setting s=0, then successively we add 1, 2 and 3 to s, so when the process exits,\n",
    "we have s=6."
   ]
  },
  {
   "cell_type": "markdown",
   "metadata": {},
   "source": [
    "### Example\n",
    "\n",
    "Let's do one more example. This one is a little bit more complicated, but if you can undestand how it works, you will be ready for Application Exercise 1.\n",
    "\n",
    "Let\n",
    "$$s_n=4\\cdot\\sum_{k=0}^n \\frac{(-1)^k}{2k+1}=4\\cdot\\left(1-\\frac{1}{3}+\\frac{1}{5}+\\ldots +\\frac{(-1)^n}{2n+1}\\right).$$\n",
    "It is possible to show (you will learn about this later) that\n",
    "$$\\lim_{n\\to\\infty}s_n=\\pi,$$\n",
    "which gives us a method (although, rather inefficient) to approximate $\\pi$: \n",
    "#### Calculate $s_n$ for a large enough value of $n$ and we should get a good approximation of $\\pi$.\n",
    "Even better, noting that\n",
    "$$s_n=\\sum_{k=0}^n (-1)^k a_k,\\quad\\text{where }a_k=\\frac{4}{2k+1},$$\n",
    "there's a result that tells us that\n",
    "$$|s_n-\\pi|<a_{n+1},$$\n",
    "in other words, if we approximate $\\pi$ with $s_n$, the absolute error is smaller than the modulus of the first omitted term, i.e. smaller than \n",
    "$$a_{n+1}=\\frac{4}{2n+3}.$$\n",
    "Let's implement this in Python. Let's create a function which returns an approximate value of $\\pi$ with absolute error smaller than 0.0005.\n",
    "\n",
    "Here is such a function (run the cell so that the function gets defined):"
   ]
  },
  {
   "cell_type": "code",
   "execution_count": 43,
   "metadata": {},
   "outputs": [],
   "source": [
    "def findpi(error) :\n",
    "    \"\"\"Return an approximate value of pi\"\"\"\n",
    "    k=0                         # Start with k=0.\n",
    "    s=4                         # Let s be the value of the first term.\n",
    "    while 4/(2*k+3) >= error :  # Loop as long as the next term has modulus at least equal to the allowed error.\n",
    "        k=k+1                   # Step up the counter k\n",
    "        s=s+(-1)**k*4/(2*k+1)   # Add the k:th term to s\n",
    "    return s                    # After the loop is done, return the value of s"
   ]
  },
  {
   "cell_type": "markdown",
   "metadata": {},
   "source": [
    "Note that we can add comments to our code using the `#`-symbol. Everything after the `#`-symbol is ignored by Python so you can write whatever you want (typically clarifying comments), without affecting your code.\n",
    "\n",
    "Now, let's call the function (run the following cell). Note that the function takes no argument, so we just call it as `findpi()` with nothing between the brackets."
   ]
  },
  {
   "cell_type": "code",
   "execution_count": 45,
   "metadata": {},
   "outputs": [
    {
     "data": {
      "text/plain": [
       "3.1413426535937043"
      ]
     },
     "execution_count": 45,
     "metadata": {},
     "output_type": "execute_result"
    }
   ],
   "source": [
    "findpi(0.0005)"
   ]
  },
  {
   "cell_type": "markdown",
   "metadata": {},
   "source": [
    "Looks ok. The first three decimals are correct, as they should be. The remaining decimals are wrong, but the error is within the allowed limit."
   ]
  },
  {
   "cell_type": "markdown",
   "metadata": {},
   "source": [
    "### Exercise\n",
    "\n",
    "Note that the function `findpi()` takes no argument. Your last exercise before we do Application Exercise 1, is to modify the function above (edit the cell where the function is defined and then re-run that cell so your edits take effect). After you are done editing, the function should now take one argument (you can call it what you want) and it should return an approximation of $\\pi$ with error smaller than that argument.\n",
    "\n",
    "*Hint*: You only have to change the code in two places to make this work.\n",
    "\n",
    "Next let's try your code by running the two cells below. "
   ]
  },
  {
   "cell_type": "code",
   "execution_count": 46,
   "metadata": {},
   "outputs": [
    {
     "data": {
      "text/plain": [
       "3.141590153589744"
      ]
     },
     "execution_count": 46,
     "metadata": {},
     "output_type": "execute_result"
    }
   ],
   "source": [
    "findpi(0.000005)"
   ]
  },
  {
   "cell_type": "code",
   "execution_count": 47,
   "metadata": {},
   "outputs": [
    {
     "data": {
      "text/plain": [
       "3.141592403589655"
      ]
     },
     "execution_count": 47,
     "metadata": {},
     "output_type": "execute_result"
    }
   ],
   "source": [
    "findpi(0.0000005)"
   ]
  },
  {
   "cell_type": "markdown",
   "metadata": {},
   "source": [
    "If your code is correct, the first cell should produce the output `3.141590153589744`, while the second should give you `3.141592403589655`.\n",
    "\n",
    "If that works - Great! If not, try to find out what went wrong.\n",
    "\n",
    "A final comment: If you try calling the function with an even smaller argument, you'll probably find that it takes very long for the command to execute (the cell is marked with a star as long as the code is running). This is because the method we are using is actually very inefficient, so calculating $\\pi$ this way requires a lot of work for your computer."
   ]
  },
  {
   "cell_type": "markdown",
   "metadata": {},
   "source": [
    "# You are now ready for AE1\n",
    "\n",
    "---"
   ]
  },
  {
   "cell_type": "markdown",
   "metadata": {},
   "source": [
    "# Answers to exercises:\n",
    "\n",
    "#### Exercise 1\n",
    "For the first exercise (the `hypothenuse` function), the following code will do the job:\n",
    "\n",
    "    def hypothenuse(x,y) :\n",
    "        return (x**2+y**2)**0.5\n",
    "\n",
    "    \n",
    "#### Exercise 2\n",
    "The following function takes an error bound as argument and returns an approximation of $\\pi$ within that error:\n",
    "\n",
    "    def findpi(error) :\n",
    "        \"\"\"Return an approximate value of pi with error smaller than the argument\"\"\"\n",
    "        k=0                         # Start with k=0.\n",
    "        s=4                         # Let s be the value of the first term.\n",
    "        while 4/(2*k+3) >= error :  # Loop as long as neded.\n",
    "            k=k+1                   # Step up the counter k\n",
    "            s=s+(-1)**k*4/(2*k+1)   # Add the k:th term to s\n",
    "        return s                    # After the loop is done, return the value of s"
   ]
  },
  {
   "cell_type": "code",
   "execution_count": null,
   "metadata": {},
   "outputs": [],
   "source": []
  }
 ],
 "metadata": {
  "kernelspec": {
   "display_name": "Python 3",
   "language": "python",
   "name": "python3"
  },
  "language_info": {
   "codemirror_mode": {
    "name": "ipython",
    "version": 3
   },
   "file_extension": ".py",
   "mimetype": "text/x-python",
   "name": "python",
   "nbconvert_exporter": "python",
   "pygments_lexer": "ipython3",
   "version": "3.6.6"
  }
 },
 "nbformat": 4,
 "nbformat_minor": 2
}
