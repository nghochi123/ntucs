{
 "cells": [
  {
   "cell_type": "markdown",
   "metadata": {},
   "source": [
    "# AE 2 - Network 3\n",
    "\n",
    "To save you some work, here is the matrix for Network 3, i.e.\n",
    "$$M=\\begin{bmatrix}\n",
    "0 & 1/2 & 1/2 & 1/2 & 0 & 0\\\\\n",
    "1/2 & 0 & 1/2 & 0 & 0 & 0\\\\\n",
    "1/2 & 1/2 & 0 & 0 & 0 & 0\\\\\n",
    "0 & 0 & 0 & 0 & 0 & 0 \\\\\n",
    "0 & 0 & 0 & 1/2 & 0 & 1\\\\\n",
    "0 & 0 & 0 & 0 & 1 & 0\n",
    "\\end{bmatrix}.$$"
   ]
  },
  {
   "cell_type": "code",
   "execution_count": 261,
   "metadata": {},
   "outputs": [
    {
     "name": "stdout",
     "output_type": "stream",
     "text": [
      "[[0.  0.5 0.5 0.5 0.  0. ]\n",
      " [0.5 0.  0.5 0.  0.  0. ]\n",
      " [0.5 0.5 0.  0.  0.  0. ]\n",
      " [0.  0.  0.  0.  0.  0. ]\n",
      " [0.  0.  0.  0.5 0.  1. ]\n",
      " [0.  0.  0.  0.  1.  0. ]]\n"
     ]
    }
   ],
   "source": [
    "import numpy as np\n",
    "M = np.array([[0,0.5,0.5,0.5,0,0],[0.5,0,0.5,0,0,0],[0.5,0.5,0,0,0,0],[0,0,0,0,0,0],[0,0,0,0.5,0,1],[0,0,0,0,1,0]])\n",
    "print(M)"
   ]
  },
  {
   "cell_type": "code",
   "execution_count": 262,
   "metadata": {},
   "outputs": [
    {
     "data": {
      "text/plain": [
       "array([[0.025, 0.45 , 0.45 , 0.45 , 0.025, 0.025],\n",
       "       [0.45 , 0.025, 0.45 , 0.025, 0.025, 0.025],\n",
       "       [0.45 , 0.45 , 0.025, 0.025, 0.025, 0.025],\n",
       "       [0.025, 0.025, 0.025, 0.025, 0.025, 0.025],\n",
       "       [0.025, 0.025, 0.025, 0.45 , 0.025, 0.875],\n",
       "       [0.025, 0.025, 0.025, 0.025, 0.875, 0.025]])"
      ]
     },
     "execution_count": 262,
     "metadata": {},
     "output_type": "execute_result"
    }
   ],
   "source": [
    "V = M * 0.85 + 1/40\n",
    "V"
   ]
  },
  {
   "cell_type": "markdown",
   "metadata": {},
   "source": [
    "As usual, you might want to experiment with some random surfers, such as"
   ]
  },
  {
   "cell_type": "code",
   "execution_count": 263,
   "metadata": {},
   "outputs": [],
   "source": [
    "p = np.array([[100],[100],[100],[100],[100],[100]])"
   ]
  },
  {
   "cell_type": "markdown",
   "metadata": {},
   "source": [
    "and see what happens when you repeat the formula:"
   ]
  },
  {
   "cell_type": "code",
   "execution_count": 284,
   "metadata": {},
   "outputs": [
    {
     "name": "stdout",
     "output_type": "stream",
     "text": [
      "[[117.14912281]\n",
      " [112.6754386 ]\n",
      " [112.6754386 ]\n",
      " [ 15.        ]\n",
      " [122.97297297]\n",
      " [119.52702703]]\n"
     ]
    }
   ],
   "source": [
    "for i in range(1000):\n",
    "    p = np.matmul(V,p)\n",
    "print(p)"
   ]
  },
  {
   "cell_type": "markdown",
   "metadata": {},
   "source": [
    "And you might be interested in eigenvectors with eigenvalue 1."
   ]
  },
  {
   "cell_type": "code",
   "execution_count": 285,
   "metadata": {},
   "outputs": [],
   "source": [
    "l,P = np.linalg.eig(V)"
   ]
  },
  {
   "cell_type": "code",
   "execution_count": 286,
   "metadata": {},
   "outputs": [
    {
     "name": "stdout",
     "output_type": "stream",
     "text": [
      "[ 1.    0.85  0.   -0.85 -0.43 -0.42]\n"
     ]
    }
   ],
   "source": [
    "print(np.round(l,2))"
   ]
  },
  {
   "cell_type": "code",
   "execution_count": 287,
   "metadata": {},
   "outputs": [
    {
     "name": "stdout",
     "output_type": "stream",
     "text": [
      "[[-0.45  0.37  0.35  0.    0.82  0.16]\n",
      " [-0.43  0.37 -0.35 -0.   -0.41 -0.77]\n",
      " [-0.43  0.37 -0.35  0.   -0.41  0.61]\n",
      " [-0.06  0.    0.71  0.    0.    0.  ]\n",
      " [-0.47 -0.55 -0.   -0.71  0.    0.  ]\n",
      " [-0.46 -0.55 -0.35  0.71 -0.    0.  ]]\n"
     ]
    }
   ],
   "source": [
    "print(np.round(P,2))"
   ]
  },
  {
   "cell_type": "markdown",
   "metadata": {},
   "source": [
    "For the second part of this exercise (involving the Google matrix), the following matrix might be useful:"
   ]
  },
  {
   "cell_type": "code",
   "execution_count": 7,
   "metadata": {},
   "outputs": [
    {
     "name": "stdout",
     "output_type": "stream",
     "text": [
      "[[0.16666667 0.16666667 0.16666667 0.16666667 0.16666667 0.16666667]\n",
      " [0.16666667 0.16666667 0.16666667 0.16666667 0.16666667 0.16666667]\n",
      " [0.16666667 0.16666667 0.16666667 0.16666667 0.16666667 0.16666667]\n",
      " [0.16666667 0.16666667 0.16666667 0.16666667 0.16666667 0.16666667]\n",
      " [0.16666667 0.16666667 0.16666667 0.16666667 0.16666667 0.16666667]\n",
      " [0.16666667 0.16666667 0.16666667 0.16666667 0.16666667 0.16666667]]\n"
     ]
    }
   ],
   "source": [
    "V = 1/6*np.ones((6,6))\n",
    "print(V)"
   ]
  },
  {
   "cell_type": "markdown",
   "metadata": {},
   "source": [
    "The last calculations, you can do yourself:"
   ]
  },
  {
   "cell_type": "code",
   "execution_count": 27,
   "metadata": {},
   "outputs": [
    {
     "name": "stdout",
     "output_type": "stream",
     "text": [
      "[[0.33333333 0.33333333 0.33333333 0.16666667 0.         0.        ]\n",
      " [0.33333333 0.33333333 0.33333333 0.16666667 0.         0.        ]\n",
      " [0.33333333 0.33333333 0.33333333 0.16666667 0.         0.        ]\n",
      " [0.         0.         0.         0.         0.         0.        ]\n",
      " [0.         0.         0.         0.         1.         0.        ]\n",
      " [0.         0.         0.         0.5        0.         1.        ]]\n"
     ]
    }
   ],
   "source": [
    "M = np.matmul(M,M)\n",
    "print(M)"
   ]
  },
  {
   "cell_type": "code",
   "execution_count": 175,
   "metadata": {},
   "outputs": [],
   "source": [
    "l, P= np.linalg.eig(M)"
   ]
  },
  {
   "cell_type": "code",
   "execution_count": 176,
   "metadata": {},
   "outputs": [
    {
     "data": {
      "text/plain": [
       "array([-0.5,  1. , -0.5,  1. , -1. ,  0. ])"
      ]
     },
     "execution_count": 176,
     "metadata": {},
     "output_type": "execute_result"
    }
   ],
   "source": [
    "l"
   ]
  },
  {
   "cell_type": "code",
   "execution_count": 178,
   "metadata": {},
   "outputs": [
    {
     "name": "stdout",
     "output_type": "stream",
     "text": [
      "[[-0.82  0.58  0.23  0.    0.    0.35]\n",
      " [ 0.41  0.58 -0.79  0.    0.   -0.35]\n",
      " [ 0.41  0.58  0.57  0.    0.   -0.35]\n",
      " [ 0.    0.    0.    0.    0.    0.71]\n",
      " [ 0.    0.    0.    0.71  0.71  0.  ]\n",
      " [ 0.    0.    0.    0.71 -0.71 -0.35]]\n"
     ]
    }
   ],
   "source": [
    "print(np.round(P,2))"
   ]
  },
  {
   "cell_type": "code",
   "execution_count": null,
   "metadata": {},
   "outputs": [],
   "source": []
  }
 ],
 "metadata": {
  "kernelspec": {
   "display_name": "Python 3 (ipykernel)",
   "language": "python",
   "name": "python3"
  },
  "language_info": {
   "codemirror_mode": {
    "name": "ipython",
    "version": 3
   },
   "file_extension": ".py",
   "mimetype": "text/x-python",
   "name": "python",
   "nbconvert_exporter": "python",
   "pygments_lexer": "ipython3",
   "version": "3.10.0"
  }
 },
 "nbformat": 4,
 "nbformat_minor": 4
}
