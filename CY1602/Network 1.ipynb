{
 "cells": [
  {
   "cell_type": "markdown",
   "metadata": {},
   "source": [
    "# AE 2 - Network 1\n",
    "\n",
    "To save you some work, here is the matrix $M$ from the first exercise."
   ]
  },
  {
   "cell_type": "code",
   "execution_count": 23,
   "metadata": {},
   "outputs": [],
   "source": [
    "import numpy as np\n",
    "M = np.array([[0,1/3,1,1/2,0],[1/3,0,0,0,0],[0,1/3,0,0,1],[1/3,0,0,0,0],[1/3,1/3,0,1/2,0]])"
   ]
  },
  {
   "cell_type": "markdown",
   "metadata": {},
   "source": [
    "If you want to calculate an integer power of $M$ you can do it like this. Below we have calculated $M^2$:"
   ]
  },
  {
   "cell_type": "code",
   "execution_count": 2,
   "metadata": {},
   "outputs": [
    {
     "data": {
      "text/plain": [
       "array([[0.27777778, 0.33333333, 0.        , 0.        , 1.        ],\n",
       "       [0.        , 0.11111111, 0.33333333, 0.16666667, 0.        ],\n",
       "       [0.44444444, 0.33333333, 0.        , 0.5       , 0.        ],\n",
       "       [0.        , 0.11111111, 0.33333333, 0.16666667, 0.        ],\n",
       "       [0.27777778, 0.11111111, 0.33333333, 0.16666667, 0.        ]])"
      ]
     },
     "execution_count": 2,
     "metadata": {},
     "output_type": "execute_result"
    }
   ],
   "source": [
    "np.linalg.matrix_power(M,2)"
   ]
  },
  {
   "cell_type": "markdown",
   "metadata": {},
   "source": [
    "If you want to experiment with some random surfers, you can start with some initial population, e.g."
   ]
  },
  {
   "cell_type": "code",
   "execution_count": 3,
   "metadata": {},
   "outputs": [],
   "source": [
    "p = np.array([[100],[100],[100],[100],[100]])"
   ]
  },
  {
   "cell_type": "markdown",
   "metadata": {},
   "source": [
    "(Please feel free to try some other initial `p`).\n",
    "\n",
    "Then you can calculate the recursive sequence $\\mathbf{p}_j=M\\mathbf{p}_{j-1}$, simply by repeatedly running the cell below, over and over, and observe how its output changes (and how it converges)."
   ]
  },
  {
   "cell_type": "code",
   "execution_count": 4,
   "metadata": {},
   "outputs": [
    {
     "name": "stdout",
     "output_type": "stream",
     "text": [
      "[[183.33333333]\n",
      " [ 33.33333333]\n",
      " [133.33333333]\n",
      " [ 33.33333333]\n",
      " [116.66666667]]\n"
     ]
    }
   ],
   "source": [
    "p = np.matmul(M,p)\n",
    "print(p)"
   ]
  },
  {
   "cell_type": "markdown",
   "metadata": {},
   "source": [
    "Alternatively (or both) you might alse want to calculate the eigenvectors of $M$ with eigenvalue 1. To get the eigenvalues and eigenvectors we can run"
   ]
  },
  {
   "cell_type": "code",
   "execution_count": 5,
   "metadata": {},
   "outputs": [
    {
     "name": "stdout",
     "output_type": "stream",
     "text": [
      "Eigenvalues = \n",
      " [ 1.  +0.j   -0.21+0.66j -0.21-0.66j -0.58+0.j   -0.  +0.j  ] \n",
      "\n",
      "Corresponging basis vectors for eigenspace = \n",
      " [[ 0.69+0.j   -0.05-0.58j -0.05+0.58j  0.76+0.j   -0.  +0.j  ]\n",
      " [ 0.23+0.j   -0.26+0.11j -0.26-0.11j -0.44+0.j   -0.8 +0.j  ]\n",
      " [ 0.5 +0.j    0.61+0.j    0.61-0.j   -0.08+0.j   -0.  +0.j  ]\n",
      " [ 0.23+0.j   -0.26+0.11j -0.26-0.11j -0.44+0.j    0.53+0.j  ]\n",
      " [ 0.42+0.j   -0.04+0.37j -0.04-0.37j  0.19+0.j    0.27+0.j  ]]\n"
     ]
    }
   ],
   "source": [
    "l,P = np.linalg.eig(M)\n",
    "print(\"Eigenvalues = \\n\",np.round(l,2),\"\\n\")\n",
    "print(\"Corresponging basis vectors for eigenspace = \\n\",np.round(P,2))"
   ]
  },
  {
   "cell_type": "markdown",
   "metadata": {},
   "source": [
    "The above tells us that the eigenspace associated with the eigenvalue 1 is:\n",
    "\n",
    "$$\\mathbf{x}\\approx t(0.69,0.23,0.5,0.23,0.42),\\quad t\\in\\mathbb{R}.$$\n",
    "\n",
    "(we could multiply the given basis vector with -1, because anyway the eigenspace consists of all *multiples* of the same vector)."
   ]
  },
  {
   "cell_type": "code",
   "execution_count": 14,
   "metadata": {},
   "outputs": [],
   "source": [
    "for i in range(10000):\n",
    "   M = np.matmul(M, M)"
   ]
  },
  {
   "cell_type": "code",
   "execution_count": 26,
   "metadata": {},
   "outputs": [
    {
     "data": {
      "text/plain": [
       "array([[0.3120237 , 0.32333105, 0.34979424, 0.29835391, 0.37328532],\n",
       "       [0.11659808, 0.10834857, 0.12442844, 0.1213706 , 0.08230453],\n",
       "       [0.23449169, 0.25474394, 0.20833333, 0.24151235, 0.28120713],\n",
       "       [0.11659808, 0.10834857, 0.12442844, 0.1213706 , 0.08230453],\n",
       "       [0.22028845, 0.20522786, 0.19301555, 0.21739255, 0.18089849]])"
      ]
     },
     "execution_count": 26,
     "metadata": {},
     "output_type": "execute_result"
    }
   ],
   "source": [
    "M = np.matmul(M,M)\n",
    "M"
   ]
  },
  {
   "cell_type": "code",
   "execution_count": null,
   "metadata": {},
   "outputs": [],
   "source": []
  },
  {
   "cell_type": "code",
   "execution_count": null,
   "metadata": {},
   "outputs": [],
   "source": []
  }
 ],
 "metadata": {
  "kernelspec": {
   "display_name": "Python 3 (ipykernel)",
   "language": "python",
   "name": "python3"
  },
  "language_info": {
   "codemirror_mode": {
    "name": "ipython",
    "version": 3
   },
   "file_extension": ".py",
   "mimetype": "text/x-python",
   "name": "python",
   "nbconvert_exporter": "python",
   "pygments_lexer": "ipython3",
   "version": "3.10.0"
  }
 },
 "nbformat": 4,
 "nbformat_minor": 4
}
