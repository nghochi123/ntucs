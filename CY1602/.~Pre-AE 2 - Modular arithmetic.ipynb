{
 "cells": [
  {
   "cell_type": "markdown",
   "metadata": {},
   "source": [
    "# Modular Arithmetic\n",
    "\n",
    "#### Definition:\n",
    " \n",
    "Let $n$ be a positive integer. We say that two integers $x$, $y$ are congruent modulo $n$ and we write\n",
    " \n",
    "$$x\\equiv y\\pmod{n},$$\n",
    " \n",
    "if $x-y$ is divisible by $n$ , i.e. if there exists an integer $k$ such that\n",
    " \n",
    "$$x-y=kn.$$\n",
    "\n",
    "This is actually something you do a lot without thinking too much about it. For example, if it's 11 o'clock, three hours later you would typically say that it's 2 o'clock, not 14 o'clock. This is because when counting hours of the day, we usually count modulo 12, and $11+3=14\\equiv 2\\pmod{12}$. \n",
    " "
   ]
  },
  {
   "cell_type": "markdown",
   "metadata": {},
   "source": [
    "#### Examples:\n",
    " \n",
    "$$3\\equiv 15\\pmod 6,\\quad\\text{because }3-15=-12\\text{ is divisble by }6.$$\n",
    "$$32\\not\\equiv 26\\pmod{5},\\quad\\text{because }32-26=6\\text{ is not divisible by }5.$$\n",
    " \n",
    "### Some tricks for doing modular arithmetic:\n",
    " \n",
    "Addition, subtraction and multiplication work nicely and commute with \"taking modulo\". What we mean by this is that it doesn't matter whether or not you calculate moulo before or after performing these operations. For example:\n",
    " \n",
    "$$25\\cdot 3=75=2\\cdot 26+23\\equiv 23\\pmod{26}.$$\n",
    "$$25\\cdot 3\\equiv (-1)\\cdot 3=-3\\equiv 23\\pmod{26}.$$\n",
    " \n",
    "Note that although we just calculated the same thing twice, the second calculation is a lot easier to do by hand.\n",
    " \n",
    "### Modular arithmetic and integer division:\n",
    " \n",
    "Remember when you first learned about division before you learned about rational numbers. What you (probably) learned was how to divide two integers and calculate their *quotient* and their *remainder*. For example, if you were asked to divide $13$ by $3$, you were probably told that the quotient is $4$ and the remainder is $1$, because\n",
    "\n",
    "$$13=4\\cdot 3+1.$$\n",
    " \n",
    "This is more formally known as the \"division algorithm\", which is based on the following result:\n",
    " \n",
    "#### Theorem:\n",
    "Suppose $x$ is an integer and $n$ is a nonzero integer. Then there exist *unique* integers $k$ and $r$ such that\n",
    "\n",
    "$$x=kn+r,\\quad\\text{and }r\\in\\{0,\\ldots,n-1\\}.$$\n",
    "\n",
    "Here $k$ is called the *quotient* and $r$ the *remainder* as we divide $x$ by $n$.\n",
    " \n",
    "#### Interpretation by modular arithmetic \n",
    "Note that for a positive integer $n$ and any integer $x$, the above theorem tells us that there exists exactly one integer $r$ such that \n",
    "\n",
    "$$r\\equiv x\\pmod{n},\\quad\\text{and }r\\in\\{0,\\ldots,n-1\\}.$$\n",
    " \n",
    "### Modular arithmetic in Python\n",
    "In Python, there are built in operators for calculating the quotient and remainder for integer division. We use the `//` operator for quotient and the `%` operator for remainder.\n",
    "\n",
    "Let's try to calculate the quotient and remainder obtained from dividing 13 by 3:"
   ]
  },
  {
   "cell_type": "code",
   "execution_count": null,
   "metadata": {},
   "outputs": [],
   "source": [
    "13 // 3"
   ]
  },
  {
   "cell_type": "code",
   "execution_count": null,
   "metadata": {},
   "outputs": [],
   "source": [
    "13 % 3"
   ]
  },
  {
   "cell_type": "markdown",
   "metadata": {},
   "source": [
    "Note that the last result tells us that $13\\equiv 1\\pmod{3}$.\n",
    "\n",
    "Now, feel free to experiment with the `//` and `%` operators."
   ]
  },
  {
   "cell_type": "code",
   "execution_count": null,
   "metadata": {},
   "outputs": [],
   "source": []
  },
  {
   "cell_type": "markdown",
   "metadata": {},
   "source": [
    "## Manipulating congruences (important)\n",
    "\n",
    "First let's take a look at a theorem:\n",
    "\n",
    "#### Theorem\n",
    "For $x,y,c\\in\\mathbb{Z}$, $n\\in\\mathbb{N}$ we have\n",
    "$$x\\equiv y\\pmod{n}\\quad\\Rightarrow\\quad cx\\equiv cy\\pmod{n}.$$\n",
    "##### Proof:\n",
    "For $x,y,c\\in\\mathbb{Z}$, $n\\in\\mathbb{N}$,\n",
    "$$x\\equiv y\\pmod{n}\\quad\\Rightarrow\\quad x-y=kn\\quad\\text{for some }k\\in\\mathbb{Z}$$\n",
    "$$\\quad\\Rightarrow\\quad cx-cy=ckn=ckn=jn,\\quad\\text{where }j=ck\\in\\mathbb{Z}\\quad\\Rightarrow\\quad cx\\equiv cy\\pmod{n}.$$\n",
    "\n",
    "The theorem above tells us that we can *multiply* two sides of a congruence (modulo $n$) and the congruence still holds (still modulo $n$). However, the reverse implication does not hold; you *can't divide* both sides and expect the congruence to hold. For example:\n",
    "$$6\\equiv 9\\mod{3}\\qquad\\text{but}\\qquad 2\\not\\equiv 3\\mod{3}.$$\n",
    "This has consequences if we want to solve congruence equations. For example, let's say that we want to find *all* integers $x$ such that \n",
    "$$2x\\equiv 4\\pmod{6}.$$\n",
    "It would be tempting to just divide both sides by $2$ and say that \n",
    "$$x\\equiv 2\\pmod{6},$$\n",
    "but this does not provide us with all solutions to the first congruence. For example $x=5$ satisfies the first congruence, *but it does not satisfy the second*. \n",
    "\n",
    "Now, let's say you want to find all integers $x$ such that \n",
    "$$4x\\equiv 2\\pmod{7}.$$\n",
    "We have already seen above that dividing two sides of a congruence is a bad idea and in this case it is even more obvious that we can't divide both sides with $4$ since that would lead to a non integer right hand side, while we're looking for *integer* solutions.  \n",
    "Things are however not as bad as they look if we think about what division actually is:\n",
    "\n",
    "### Multiplicative inverse\n",
    "If we were just looking for *real* solutions to the *equation*\n",
    "$$4x=2,$$\n",
    "we would just divide both sides with $4$ to obtain\n",
    "$$x=1/2.$$\n",
    "But let's instead think of division as multiplication with inverse. For $a\\in\\mathbb{R}$, $a\\neq 0$, the inverse $a^{-1}\\in\\mathbb{R}$ is a number with the property that \n",
    "$$a^{-1}a=1.$$\n",
    "In our simple example above, we solved the equation $4x=2$ by multiplying both sides with the inverse of $4$, so how about we approach the *congruence*\n",
    "$$4x\\equiv 2\\pmod{7},$$\n",
    "the same way. The theorem above says that it's ok to multiply both side of a congruence with an integer, so let's see if we can find an inverse of $a=4$ modulo $7$, i.e. can we find another integer $a^{-1}$ such that \n",
    "$$aa^{-1}=4a^{-1}\\equiv 1\\pmod{7}.$$\n",
    "If you think about it just a little bit you'll soon realise that $a^{-1}\\equiv 2$ fits the bill (why?). In other words, we can say that \n",
    "$$4^{-1}\\equiv 2\\pmod{7}.$$\n",
    "And here's the great thing! The theorem above tells us that we *can* multiply both sides of a congruence with an integer, and the congruence will still hold. In other words, to solve the congruence \n",
    "$$4x\\equiv 2\\pmod{7},$$\n",
    "we should *multiply both sides with $4^{-1}=2$* and obtain\n",
    "$$\\underbrace{2\\cdot 4}_{\\equiv 1}x\\equiv 2\\cdot 2\\pmod{7},$$\n",
    "i.e.\n",
    "$$x\\equiv 4\\pmod{7}.$$\n",
    "Note that we can get the original congruence back by multiplying both sides with $4$, so the two congruences are indeed equivalent."
   ]
  },
  {
   "cell_type": "markdown",
   "metadata": {},
   "source": [
    "## Matrices and modular arithmetic\n",
    "\n",
    "Motvated by the discussion above, we say that for an *integer* $a$, an **inverse of $a$ modulo $n$** is an integer $a^{-1}$ such that \n",
    "$$a^{-1}a\\equiv 1\\pmod{n}.$$\n",
    "\n",
    "Similarly, for a matrix $A$ *with integer entries*, we say that an **inverse of $A$ module $n$** is an integer matrix $A^{-1}$ with the property that \n",
    "$$A^{-1}A\\equiv I\\pmod{n}.$$\n",
    "\n",
    "You will be faced with the problem of, given an integer matrix $A$, find, if possible, an inverse of $A$ $\\pmod{n}$. There is no built in function in the Python libraries for this (afaik), so you'll have to do some work by hand, but you can use Python to **check your work**. Let's say that \n",
    "$$K=\\begin{bmatrix}\n",
    "  1  & 0 & 12\\\\\n",
    " 25  & 2 &  1\\\\\n",
    "  0  & 1 & 1 \n",
    "\\end{bmatrix}\\pmod{26},$$\n",
    "and by your calculations you **think** that an inverse $\\pmod{26}$ is \n",
    "$$K^{-1}\\equiv\\begin{bmatrix}\n",
    "  7 & 6 & 14\\\\\n",
    "  7 & 7 & 13\\\\\n",
    " -7 & -7 & 14\n",
    "\\end{bmatrix}\\pmod{26}.$$\n",
    "You can check this with Python:"
   ]
  },
  {
   "cell_type": "code",
   "execution_count": null,
   "metadata": {},
   "outputs": [],
   "source": [
    "import numpy as np\n",
    "\n",
    "K = np.array([[1,0,12],[25,2,1],[0,1,1]])\n",
    "Kinv = np.array([[7,6,14],[7,7,13],[-7,-7,14]])\n",
    "print(K)\n",
    "print(Kinv)\n",
    "print(Kinv @ K %26)"
   ]
  },
  {
   "cell_type": "markdown",
   "metadata": {},
   "source": [
    "Calculating the matrix product $\\pmod{26}$ gives us the identity matrix, so our $K^{-1}$ is correct."
   ]
  },
  {
   "cell_type": "code",
   "execution_count": null,
   "metadata": {},
   "outputs": [],
   "source": []
  }
 ],
 "metadata": {
  "kernelspec": {
   "display_name": "Python 3 (ipykernel)",
   "language": "python",
   "name": "python3"
  },
  "language_info": {
   "codemirror_mode": {
    "name": "ipython",
    "version": 3
   },
   "file_extension": ".py",
   "mimetype": "text/x-python",
   "name": "python",
   "nbconvert_exporter": "python",
   "pygments_lexer": "ipython3",
   "version": "3.10.2"
  }
 },
 "nbformat": 4,
 "nbformat_minor": 2
}
