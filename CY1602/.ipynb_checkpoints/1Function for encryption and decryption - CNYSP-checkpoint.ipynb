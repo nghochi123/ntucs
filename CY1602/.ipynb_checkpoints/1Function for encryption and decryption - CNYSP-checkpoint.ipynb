{
 "cells": [
  {
   "cell_type": "markdown",
   "metadata": {},
   "source": [
    "# Decryption\n",
    "\n",
    "The next exercise is to *decrypt* a message. Your main job is to figure out *how* to do that and what you have learned in the preparatory material, in particular matrix inverse in modular arithmetic, will come in useful. Once you have figured out how (this will involve some calculation by hand), the function below will help you with the actual decryption.\n",
    "\n",
    "Let's first run the cell below so the function gets defined, then we'll look at what the function does!"
   ]
  },
  {
   "cell_type": "code",
   "execution_count": 2,
   "metadata": {},
   "outputs": [],
   "source": [
    "import numpy as np\n",
    "def crypt(Q,message) :\n",
    "    \"\"\"crypt(Q,message) will encrypt / decrypt message, by multiplying with Q, modulo 26.\"\"\"\n",
    "\n",
    "    # Check that Q is square\n",
    "    if np.shape(Q)[0] != np.shape(Q)[1] :\n",
    "        raise Exception('Sorry, Q has to be a square matrix')\n",
    "\n",
    "    # Let n be the size (number of rows) of the square matrix Q\n",
    "    n = np.shape(Q)[0]\n",
    "\n",
    "    # Turn the original message into an array of numbers (numoriginal) according to table.\n",
    "    numoriginal = np.array([ord(c) for c in message])-97\n",
    "\n",
    "    # Let l be the number of characters in the message.\n",
    "    l = len(numoriginal)\n",
    "\n",
    "    # Check that the original message consists of only lowercase English letters\n",
    "    if  not( (0 <= numoriginal).all() and (numoriginal <= 25).all()) :\n",
    "        raise Exception('Sorry, only lowercase English letters allowed in this exercise.')\n",
    "\n",
    "    # Check that the message has length divisible by n\n",
    "    if l % n != 0 :\n",
    "        raise Exception('Sorry, the length of your message must be divisible by % d.' % n)\n",
    "\n",
    "    # Initiate a zero matrix P of correct size (n times l/n).\n",
    "    P = np.zeros((n,l // n))\n",
    "\n",
    "    # Arrange the numbers from numoriginal into the columns of P\n",
    "    for k in range(0,l) :\n",
    "        P[k % n, k // n] = numoriginal[k]\n",
    "\n",
    "    # Encrypt/decrypt P  by multiplying with Q modulo 26\n",
    "    C = np.matmul(Q,P) % 26\n",
    "\n",
    "    # Initiate a zero array numnew of length l and arrange the numbers from C into that array.\n",
    "    numnew = np.zeros(l)\n",
    "    for k in range(0,l) :\n",
    "        numnew[k] = C[k % n, k // n]\n",
    "\n",
    "    # Convert the new list of numbers into to a string of characters\n",
    "    asciinew = numnew + 97\n",
    "    new = ''.join([chr(int(c)) for c in asciinew])\n",
    "\n",
    "    # Return the result\n",
    "    return new"
   ]
  },
  {
   "cell_type": "markdown",
   "metadata": {},
   "source": [
    "The function `crypt(Q,message)` will convert the string `message` consisting of lowercase english letters, convert it to numbers according to our table, do the matrix multiplication with `Q` modulo 26 as described before, convert back to letters and return the new string of letters. In other words, if `Q` is your encryption key, the function will encrypt the message for you, but using a different `Q` you can also use the function for decryption.\n",
    "\n",
    "Let's illustrate how it works by (again) encrypting the message \"wahlau\". Then it's up to you to do the decryption exercise."
   ]
  },
  {
   "cell_type": "code",
   "execution_count": 10,
   "metadata": {},
   "outputs": [
    {
     "data": {
      "text/plain": [
       "'clhrju'"
      ]
     },
     "execution_count": 10,
     "metadata": {},
     "output_type": "execute_result"
    }
   ],
   "source": [
    "K=np.array([[1,0,12],[25,2,1],[0,1,1]])\n",
    "crypt(K,\"wahlau\")\n"
   ]
  },
  {
   "cell_type": "markdown",
   "metadata": {},
   "source": [
    "The function should return the string `clhrju`, i.e. the result we got in our example before.\n",
    "\n",
    "## Exercise: Decrypt a message\n",
    "Your next exercise is to decrypt one message from another team. Find a message (not your own) in the <a href=\"https://entuedu.sharepoint.com/:w:/r/teams/CY160102AY2021/Shared%20Documents/Application%20Exercises/AE2-shared.docx?d=wb4b17de1f246447c9dcb2e34b54e7303&csf=1&web=1&e=OBEg1s\">shared document</a>. It should have been encrypted with the key\n",
    "$$K=\\begin{bmatrix}\n",
    "  1  & 4 & 0\\\\\n",
    "  1 & 1 &  0\\\\\n",
    "  1  & 1 & 3 \n",
    "\\end{bmatrix}.$$\n",
    "Decrypt the message and add the decrypted message and your team name to the table."
   ]
  },
  {
   "cell_type": "code",
   "execution_count": 4,
   "metadata": {},
   "outputs": [],
   "source": [
    "K = np.array([[1,4,0],[1,1,0],[1,1,3]])"
   ]
  },
  {
   "cell_type": "code",
   "execution_count": 5,
   "metadata": {},
   "outputs": [],
   "source": [
    "K_inv = np.linalg.inv(K)"
   ]
  },
  {
   "cell_type": "code",
   "execution_count": 8,
   "metadata": {},
   "outputs": [
    {
     "data": {
      "text/plain": [
       "array([[-0.33333333,  1.33333333,  0.        ],\n",
       "       [ 0.33333333, -0.33333333, -0.        ],\n",
       "       [ 0.        , -0.33333333,  0.33333333]])"
      ]
     },
     "execution_count": 8,
     "metadata": {},
     "output_type": "execute_result"
    }
   ],
   "source": [
    "K_inv"
   ]
  },
  {
   "cell_type": "code",
   "execution_count": 16,
   "metadata": {},
   "outputs": [],
   "source": [
    "shit = np.array([[-9,36,0],[9,-9,0],[0,-9,9]])\n",
    "crypted = np.array([[2,17],[11,9],[7,20]])"
   ]
  },
  {
   "cell_type": "code",
   "execution_count": 22,
   "metadata": {},
   "outputs": [
    {
     "data": {
      "text/plain": [
       "array([[14, 15],\n",
       "       [23, 20],\n",
       "       [16, 21]], dtype=int32)"
      ]
     },
     "execution_count": 22,
     "metadata": {},
     "output_type": "execute_result"
    }
   ],
   "source": [
    "shit@crypted % 26"
   ]
  },
  {
   "cell_type": "code",
   "execution_count": 24,
   "metadata": {},
   "outputs": [
    {
     "data": {
      "text/plain": [
       "'poopie'"
      ]
     },
     "execution_count": 24,
     "metadata": {},
     "output_type": "execute_result"
    }
   ],
   "source": [
    "crypt(shit, 'tdtvxj')"
   ]
  },
  {
   "cell_type": "code",
   "execution_count": null,
   "metadata": {},
   "outputs": [],
   "source": []
  }
 ],
 "metadata": {
  "kernelspec": {
   "display_name": "Python 3",
   "language": "python",
   "name": "python3"
  },
  "language_info": {
   "codemirror_mode": {
    "name": "ipython",
    "version": 3
   },
   "file_extension": ".py",
   "mimetype": "text/x-python",
   "name": "python",
   "nbconvert_exporter": "python",
   "pygments_lexer": "ipython3",
   "version": "3.9.1"
  }
 },
 "nbformat": 4,
 "nbformat_minor": 4
}
