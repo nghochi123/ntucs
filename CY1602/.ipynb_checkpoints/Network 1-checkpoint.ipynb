{
 "cells": [
  {
   "cell_type": "markdown",
   "metadata": {},
   "source": [
    "# AE 2 - Network 1\n",
    "\n",
    "To save you some work, here is the matrix $M$ from the first exercise."
   ]
  },
  {
   "cell_type": "code",
   "execution_count": null,
   "metadata": {},
   "outputs": [],
   "source": [
    "import numpy as np\n",
    "M = np.array([[0,1/3,1,1/2,0],[1/3,0,0,0,0],[0,1/3,0,0,1],[1/3,0,0,0,0],[1/3,1/3,0,1/2,0]])"
   ]
  },
  {
   "cell_type": "markdown",
   "metadata": {},
   "source": [
    "If you want to calculate an integer power of $M$ you can do it like this. Below we have calculated $M^2$:"
   ]
  },
  {
   "cell_type": "code",
   "execution_count": null,
   "metadata": {},
   "outputs": [],
   "source": [
    "np.linalg.matrix_power(M,2)"
   ]
  },
  {
   "cell_type": "markdown",
   "metadata": {},
   "source": [
    "If you want to experiment with some random surfers, you can start with some initial population, e.g."
   ]
  },
  {
   "cell_type": "code",
   "execution_count": null,
   "metadata": {},
   "outputs": [],
   "source": [
    "p = np.array([[100],[100],[100],[100],[100]])"
   ]
  },
  {
   "cell_type": "markdown",
   "metadata": {},
   "source": [
    "(Please feel free to try some other initial `p`).\n",
    "\n",
    "Then you can calculate the recursive sequence $\\mathbf{p}_j=M\\mathbf{p}_{j-1}$, simply by repeatedly running the cell below, over and over, and observe how its output changes (and how it converges)."
   ]
  },
  {
   "cell_type": "code",
   "execution_count": null,
   "metadata": {},
   "outputs": [],
   "source": [
    "p = np.matmul(M,p)\n",
    "print(p)"
   ]
  },
  {
   "cell_type": "markdown",
   "metadata": {},
   "source": [
    "Alternatively (or both) you might alse want to calculate the eigenvectors of $M$ with eigenvalue 1. To get the eigenvalues and eigenvectors we can run"
   ]
  },
  {
   "cell_type": "code",
   "execution_count": null,
   "metadata": {},
   "outputs": [],
   "source": [
    "l,P = np.linalg.eig(M)\n",
    "print(\"Eigenvalues = \\n\",np.round(l,2),\"\\n\")\n",
    "print(\"Corresponging basis vectors for eigenspace = \\n\",np.round(P,2))"
   ]
  },
  {
   "cell_type": "markdown",
   "metadata": {},
   "source": [
    "The above tells us that the eigenspace associated with the eigenvalue 1 is:\n",
    "\n",
    "$$\\mathbf{x}\\approx t(0.69,0.23,0.5,0.23,0.42),\\quad t\\in\\mathbb{R}.$$\n",
    "\n",
    "(we could multiply the given basis vector with -1, because anyway the eigenspace consists of all *multiples* of the same vector)."
   ]
  },
  {
   "cell_type": "code",
   "execution_count": null,
   "metadata": {},
   "outputs": [],
   "source": []
  }
 ],
 "metadata": {
  "kernelspec": {
   "display_name": "Python 3",
   "language": "python",
   "name": "python3"
  },
  "language_info": {
   "codemirror_mode": {
    "name": "ipython",
    "version": 3
   },
   "file_extension": ".py",
   "mimetype": "text/x-python",
   "name": "python",
   "nbconvert_exporter": "python",
   "pygments_lexer": "ipython3",
   "version": "3.8.1"
  }
 },
 "nbformat": 4,
 "nbformat_minor": 2
}
