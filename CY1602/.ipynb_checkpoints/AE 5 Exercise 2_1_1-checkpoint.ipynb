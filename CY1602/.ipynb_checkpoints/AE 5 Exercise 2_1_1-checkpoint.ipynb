{
 "cells": [
  {
   "cell_type": "code",
   "execution_count": null,
   "metadata": {},
   "outputs": [],
   "source": [
    "import numpy as np                # We always need this\n",
    "import pandas as pd               # Pandas is a library for working with tables of data \n",
    "                                  # called Data Frames\n",
    "import matplotlib.pyplot as plt   # We also want to plot stuff..."
   ]
  },
  {
   "cell_type": "markdown",
   "metadata": {},
   "source": [
    "# Diagnosing tumours.\n",
    "\n",
    "The .csv file \"wdbc.csv\" contains a large data set (the \"Breast Cancer Wisconsin (Diagnostic) Data Set (WDBC)\"). It can be obtained from https://www.openml.org/d/1510 .\n",
    "\n",
    "This is a real data set (i.e. not simulated but contains actual data). It contains various measurements on breast cancer cells, totally 30 different variables such as \"radius\", \"texture\", \"perimeter\", \"area\", \"smoothness\", \"compactness\", \"concavity\", etc.\n",
    "\n",
    "In our data frame they are just called Var 1, Var 2, etc. :)\n",
    "\n",
    "Each case also has a diagnosis: Malignant (M) or Benign (B).\n",
    "\n",
    "There are totally 569 observations. The patient id's are of course anonymized.\n",
    "\n",
    "Let's read the data frame and take a look at the content:"
   ]
  },
  {
   "cell_type": "code",
   "execution_count": null,
   "metadata": {},
   "outputs": [],
   "source": [
    "df = pd.read_csv(\"wdbc.csv\",index_col=0)"
   ]
  },
  {
   "cell_type": "code",
   "execution_count": null,
   "metadata": {},
   "outputs": [],
   "source": [
    "df         # Let's look at the Data Frame"
   ]
  },
  {
   "cell_type": "markdown",
   "metadata": {},
   "source": [
    "# Problem:\n",
    "\n",
    "Would it be possible for us to use the 30 given variables to predict (diagnose) whether we are looking at a malignant or a benign case? Let's try!\n",
    "\n",
    "\n",
    "### Extracting the numerical data:\n",
    "\n",
    "Since you haven't been taught in detail how data frames work, I'll do most manipulations, just leaving the interpetation to you.\n",
    "\n",
    "First we extract the columns that contain numerical data (the 30 variables)."
   ]
  },
  {
   "cell_type": "code",
   "execution_count": null,
   "metadata": {},
   "outputs": [],
   "source": [
    "df_data = df.loc[:,'Var 1':'Var 30'] \n",
    "df_data"
   ]
  },
  {
   "cell_type": "markdown",
   "metadata": {},
   "source": [
    "As you can see, some variables contain much larger values than others (e.g. **Var 4** and **Var 5**). Because of this difference in scale, those variables with large numerical values will have larger variance and be overrepresented in our principal components. This introduces an undesireable bias that we would like to get rid of.\n",
    "\n",
    "To get rid of that effect, we will work with normalized data instead, i.e. after centralizing (subtracting the mean from each column) we also normalize (divide each column with its standard deviation). This is easily done:"
   ]
  },
  {
   "cell_type": "code",
   "execution_count": null,
   "metadata": {},
   "outputs": [],
   "source": [
    "N=(df_data-df_data.mean())/df_data.std()\n",
    "N"
   ]
  },
  {
   "cell_type": "markdown",
   "metadata": {},
   "source": [
    "As you can see, the numbers are now more comparable in size."
   ]
  },
  {
   "cell_type": "markdown",
   "metadata": {},
   "source": [
    "The covariance matrix can also be easily obtained. Note that since we're working with normalized data, the covariance matrix is actually the correlation coefficient matrix $R$:"
   ]
  },
  {
   "cell_type": "code",
   "execution_count": null,
   "metadata": {
    "scrolled": true
   },
   "outputs": [],
   "source": [
    "R = N.cov()\n",
    "np.round(R,3)"
   ]
  },
  {
   "cell_type": "markdown",
   "metadata": {},
   "source": [
    "# Visualization\n",
    "\n",
    "Now let's do a bit of plotting. From our original dataframe `df`, let's say we want to plot the observations of **Var 2** against the observations of **Var 1**. Easy!"
   ]
  },
  {
   "cell_type": "code",
   "execution_count": null,
   "metadata": {},
   "outputs": [],
   "source": [
    "df.plot.scatter('Var 1','Var 2',marker='.')\n",
    "plt.show()"
   ]
  },
  {
   "cell_type": "markdown",
   "metadata": {},
   "source": [
    "Hmm, it would also be nice to see which data points represent malignant cases and which ones represent the benign ones.\n",
    "\n",
    "Below is a small trick that assigns a red color to the malignant cases and a green color to the benign ones. You don't have to understand how it's done."
   ]
  },
  {
   "cell_type": "code",
   "execution_count": null,
   "metadata": {},
   "outputs": [],
   "source": [
    "colors = {'M':'red','B':'green'}\n",
    "colorlist = df[\"Diagnosis\"].apply(lambda x : colors[x])"
   ]
  },
  {
   "cell_type": "code",
   "execution_count": null,
   "metadata": {},
   "outputs": [],
   "source": [
    "df.plot.scatter('Var 1','Var 2',c=colorlist,marker='.')\n",
    "plt.show()"
   ]
  },
  {
   "cell_type": "markdown",
   "metadata": {},
   "source": [
    "Or, we could plot the first two normalized variables from our normalized dataframe `N`. The picture is the same, but the numbers are different."
   ]
  },
  {
   "cell_type": "code",
   "execution_count": null,
   "metadata": {},
   "outputs": [],
   "source": [
    "N.plot.scatter('Var 1','Var 2',c=colorlist,marker='.')\n",
    "plt.show()"
   ]
  },
  {
   "cell_type": "markdown",
   "metadata": {},
   "source": [
    "From a visual inspection, we see that in these two variables, there is no clear separation between the malignant and benign cases. In other words, we can't use only these two variables to make a meaningful diagnosis."
   ]
  },
  {
   "cell_type": "markdown",
   "metadata": {},
   "source": [
    "# Exercise 2(a)\n",
    "\n",
    "Look at the correlation coefficient matrix that we calculated above and pick three pairs of variables:\n",
    "\n",
    "- Pick one pair that is highly positively correlated ($r>0.95$).\n",
    "- Pick one pair that is somewhat negatively correlated ($r< -0.3$).\n",
    "- Pick one pair that seem uncorrelated ($r\\in (-0.05,0.05)$).\n",
    "\n",
    "For each pair, make a plot like the one above. Use the same trick as above to assign a red/green color to the malignant/benign cases.\n",
    "\n",
    "Submit all three plots in LAMS."
   ]
  },
  {
   "cell_type": "code",
   "execution_count": null,
   "metadata": {},
   "outputs": [],
   "source": [
    "# Go ahead"
   ]
  },
  {
   "cell_type": "markdown",
   "metadata": {},
   "source": [
    "# Performing PCA\n",
    "\n",
    "As you have seen now, out of the 30 given variables, many are highly correlated with each other. This means that the data set actully contains a lot of redundancy (many variables are determined by each other) and doing a PCA should enable us to reduce the data set to a smaller number of uncorrelated variables. Let's try it:\n",
    "\n",
    "As mentioned above, we want to do our analysis on the normalized variables, so we should look at eigenvalues and eigenvectors of the correlation coefficient matrix $R$."
   ]
  },
  {
   "cell_type": "code",
   "execution_count": null,
   "metadata": {},
   "outputs": [],
   "source": [
    "l, Q = np.linalg.eig(R)   # Create arrays l, and Q with eigenvalues and eigenvectors\n",
    "# Then we sort in descending order.\n",
    "idx = l.argsort()[::-1]\n",
    "l = l[idx]\n",
    "Q = Q[:,idx]"
   ]
  },
  {
   "cell_type": "markdown",
   "metadata": {},
   "source": [
    "Let's take a look at the eigenvalues"
   ]
  },
  {
   "cell_type": "code",
   "execution_count": null,
   "metadata": {},
   "outputs": [],
   "source": [
    "print(np.round(l,1))   # Let's look at our sorted list of eigenvalues."
   ]
  },
  {
   "cell_type": "markdown",
   "metadata": {},
   "source": [
    "As explained previously, each eigenvalue denotes the variance of the corresponding principal component. \n",
    "\n",
    "Recall also that in the original but normalized data set, each variable has variance 1 (since the variables were normalized), but the principal components may have a larger or smaller variance (the eigenvalues above). The total variance of the 30 components is the same though:"
   ]
  },
  {
   "cell_type": "code",
   "execution_count": null,
   "metadata": {},
   "outputs": [],
   "source": [
    "sum(l)  # Calculate the sum of the eigenvalues \n",
    "        # (i.e. the sum of the variance of the 30 principal components)"
   ]
  },
  {
   "cell_type": "markdown",
   "metadata": {},
   "source": [
    "# Exercise 2(b)\n",
    "\n",
    "1. How much of the total variance is attributed by the first two principal components.\n",
    "2. How many principal components do we need to attribute for at least 90% of the total variance?\n",
    "\n",
    "Submit your answers in LAMS.\n",
    " \n",
    "- Recall that for example `l[0:3]` will give you the first three entries `l[0]`, `l[1]` and `l[2]` of `l`. \n",
    "- To get the sum of the three first entries you can use `sum(l[0:3])`.\n",
    "- The sum of all eigenvalues is simply `sum(l)`\n"
   ]
  },
  {
   "cell_type": "code",
   "execution_count": null,
   "metadata": {},
   "outputs": [],
   "source": [
    "# Go ahead"
   ]
  },
  {
   "cell_type": "markdown",
   "metadata": {},
   "source": [
    "# Exercise 2(c)\n",
    "\n",
    "1. Create a new dataframe `Np` containing the principal components of your nomalized data `N`.\n",
    "2. Create a scatter plot of two first principal components against each other. If the columns of `Np` have no labels, you can access them by index instead. Just remember that the first column has index 0. Also, use the same trick as before, to assign a red color to malignant cases and green color to benign cases.\n",
    "3. Does it look like we could use the first two principal components to guess whether an observation comes from a malignant or a benign case. Explain with a few words (just the idea, no detail needed)."
   ]
  },
  {
   "cell_type": "code",
   "execution_count": null,
   "metadata": {},
   "outputs": [],
   "source": []
  },
  {
   "cell_type": "code",
   "execution_count": null,
   "metadata": {},
   "outputs": [],
   "source": []
  },
  {
   "cell_type": "code",
   "execution_count": null,
   "metadata": {},
   "outputs": [],
   "source": []
  }
 ],
 "metadata": {
  "kernelspec": {
   "display_name": "Python 3",
   "language": "python",
   "name": "python3"
  },
  "language_info": {
   "codemirror_mode": {
    "name": "ipython",
    "version": 3
   },
   "file_extension": ".py",
   "mimetype": "text/x-python",
   "name": "python",
   "nbconvert_exporter": "python",
   "pygments_lexer": "ipython3",
   "version": "3.9.2"
  }
 },
 "nbformat": 4,
 "nbformat_minor": 2
}
