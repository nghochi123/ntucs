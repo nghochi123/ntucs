{
 "cells": [
  {
   "cell_type": "code",
   "execution_count": null,
   "metadata": {},
   "outputs": [],
   "source": [
    "import numpy as np\n",
    "import matplotlib.pyplot as plt\n",
    "import pandas as pd"
   ]
  },
  {
   "cell_type": "markdown",
   "metadata": {},
   "source": [
    "Let's import the dataset `exercise.csv` into a Pandas dataframe `df`:"
   ]
  },
  {
   "cell_type": "code",
   "execution_count": null,
   "metadata": {},
   "outputs": [],
   "source": [
    "df = pd.read_csv(\"exercise.csv\")"
   ]
  },
  {
   "cell_type": "markdown",
   "metadata": {},
   "source": [
    "And let's also take a look at what we have"
   ]
  },
  {
   "cell_type": "code",
   "execution_count": null,
   "metadata": {},
   "outputs": [],
   "source": [
    "df"
   ]
  },
  {
   "cell_type": "markdown",
   "metadata": {},
   "source": [
    "Ok, so we have three variables, `Var1`, `Var2`, `Var3` and 190 observations.\n",
    "\n",
    "Is there any structure to this? Let's plot!\n",
    "\n",
    "## Exercise 1a\n",
    "Plot each pair of variables against each other. You *could* extract the three columns from the data frame and plot each pair against each other with `plt.plot`, but I recommend that you try the following instead:\n",
    "\n",
    "- You can directly plot, for example `Var2` against `Var1`, from the dataframe `df` using `df.plot.scatter('Var1','Var2')`. You might want to make the points smaller by adding the optional argument `marker='.'`), i.e. `df.plot.scatter('Var1','Var2',marker='.')`. An advantage with this is that you will automatically get appropriate axis labels.\n",
    "\n",
    "Plot all three pairs of variables against each other, i.e. `Var1-Var2`, `Var1-Var3`, `Var2-Var3`, and submit all three plots."
   ]
  },
  {
   "cell_type": "code",
   "execution_count": null,
   "metadata": {},
   "outputs": [],
   "source": [
    "# Do what you gotta do."
   ]
  },
  {
   "cell_type": "markdown",
   "metadata": {},
   "source": [
    "## Exercise 1b\n",
    "1. Create a new dataframe `Yp` with the three principal components as columns. Label the columns `Pc1`, `Pc2` and `Pc3`.\n",
    "2. Plot each pair of principal components against each other. You can do it like you did in Part (a), but I recommend that you add the line `plt.axis('equal')` to adjust the aspect ratio of your plot. This way you get a better sense of the difference in variance between the three principal components. Submit all three plots in LAMS.\n",
    "3. Calculate how much (how many percent) of the total variance that is contained in the first *two* principal components, and submit your answer in LAMS. Recall that the variance of the principal components is found in the eigenvalues."
   ]
  },
  {
   "cell_type": "code",
   "execution_count": null,
   "metadata": {},
   "outputs": [],
   "source": [
    "# Do it!\n",
    "# You can pretty much copy what was done in the notebook accompanying the lectures,\n",
    "# but even if you are just mimicking what was done there, try to understand what's going on.\n",
    "# If you are confused by something, you can always ask me.\n"
   ]
  },
  {
   "cell_type": "code",
   "execution_count": null,
   "metadata": {},
   "outputs": [],
   "source": []
  }
 ],
 "metadata": {
  "kernelspec": {
   "display_name": "Python 3",
   "language": "python",
   "name": "python3"
  },
  "language_info": {
   "codemirror_mode": {
    "name": "ipython",
    "version": 3
   },
   "file_extension": ".py",
   "mimetype": "text/x-python",
   "name": "python",
   "nbconvert_exporter": "python",
   "pygments_lexer": "ipython3",
   "version": "3.9.2"
  }
 },
 "nbformat": 4,
 "nbformat_minor": 4
}
