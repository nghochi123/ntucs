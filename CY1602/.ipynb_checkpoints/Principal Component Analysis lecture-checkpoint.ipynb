{
 "cells": [
  {
   "cell_type": "code",
   "execution_count": null,
   "metadata": {},
   "outputs": [],
   "source": [
    "import numpy as np\n",
    "import pandas as pd\n",
    "import matplotlib.pyplot as plt"
   ]
  },
  {
   "cell_type": "markdown",
   "metadata": {},
   "source": [
    "# Reding an external file with data\n",
    "\n",
    "The .csv file \"weight-height.csv\" contains a biggish data set with the height and length of some population (propaply American, becaue of the units used).\n",
    "\n",
    "We will import the data from this file into a \"Pandas data frame\":"
   ]
  },
  {
   "cell_type": "code",
   "execution_count": null,
   "metadata": {},
   "outputs": [],
   "source": [
    "df = pd.read_csv(\"weight-height.csv\",index_col=None)"
   ]
  },
  {
   "cell_type": "markdown",
   "metadata": {},
   "source": [
    "Pandas is a library of functions that help us handle with tabular data sets like this. Essentially, a Pandas data frame is like a matrix (2d Numpy array), but unlike Numpy arrays which only allow numerical data, a data frame can contain columns with different types of data. Let's look at the one we just imported:  "
   ]
  },
  {
   "cell_type": "code",
   "execution_count": null,
   "metadata": {
    "scrolled": true
   },
   "outputs": [],
   "source": [
    "df"
   ]
  },
  {
   "cell_type": "markdown",
   "metadata": {},
   "source": [
    "As you can see, the data frame has 10000 observations on three different variables ($n=10000$, $p=3$). The first variable is non-numerical.\n",
    "\n",
    "A neat feature of data frames is that we can assign labels to the columns (in this example \"Gender\", \"Height\" and \"Weight\"), and use these labels to access individual columns, e.g.:"
   ]
  },
  {
   "cell_type": "code",
   "execution_count": null,
   "metadata": {},
   "outputs": [],
   "source": [
    "df['Height']"
   ]
  },
  {
   "cell_type": "markdown",
   "metadata": {},
   "source": [
    "Let's add two columns that are easier for us to interpret :)"
   ]
  },
  {
   "cell_type": "code",
   "execution_count": null,
   "metadata": {},
   "outputs": [],
   "source": [
    "df['Height_cm']=df['Height']*2.54\n",
    "df['Weight_kg']=df['Weight']/2.20462"
   ]
  },
  {
   "cell_type": "code",
   "execution_count": null,
   "metadata": {},
   "outputs": [],
   "source": [
    "df"
   ]
  },
  {
   "cell_type": "markdown",
   "metadata": {},
   "source": [
    "Let's extract the numerical columns we're interested in. That would be the 4th and 5th column (index 3 and 4)."
   ]
  },
  {
   "cell_type": "markdown",
   "metadata": {},
   "source": [
    "#### How about we plot the data points:"
   ]
  },
  {
   "cell_type": "code",
   "execution_count": null,
   "metadata": {
    "scrolled": true
   },
   "outputs": [],
   "source": [
    "df.plot.scatter('Height_cm','Weight_kg')\n",
    "plt.axis('Equal')\n",
    "plt.show()"
   ]
  },
  {
   "cell_type": "markdown",
   "metadata": {},
   "source": [
    "#### Let's also look at the correlation coefficients. \n",
    "\n",
    "For a Pandas dataframe the correlation coefficient matrix $R$ can be easily calculated. Let's calculate the correlation matrix for the `Height_cm` and `Weight_cm` columns:"
   ]
  },
  {
   "cell_type": "code",
   "execution_count": null,
   "metadata": {},
   "outputs": [],
   "source": [
    "X = df.loc[:,['Height_cm','Weight_kg']] # This extracts the given columns from the dataframe\n",
    "                                        # and assigns them to a new datafram called X\n",
    "S = X.cov()                             # Covariance matrix for X\n",
    "R = X.corr()                            # Correlation matrix for X\n",
    "print(S,'\\n')\n",
    "print(R)"
   ]
  },
  {
   "cell_type": "markdown",
   "metadata": {},
   "source": [
    "As the plot above (and common sense) suggests, the height and weight of a person are highly correlated ($r\\approx 0.92$)."
   ]
  },
  {
   "cell_type": "markdown",
   "metadata": {},
   "source": [
    "We see that the Height variance is about 95 (standard deviation $\\approx 9.78$) while the Weight variance is about 212 (standard deviation $\\approx 14.56$).\n",
    "\n",
    "## Calculating principal components\n",
    "\n",
    "First, let's centralize!\n",
    "The `X.mean()` calculates the mean for each column of the dataframe `X` so we can subtract that."
   ]
  },
  {
   "cell_type": "code",
   "execution_count": null,
   "metadata": {},
   "outputs": [],
   "source": [
    "Y = X-X.mean()\n",
    "print(Y)"
   ]
  },
  {
   "cell_type": "markdown",
   "metadata": {},
   "source": [
    "The lecture tells us that we need the eigenvalues and eigenvectors of the covariance matrix `S`."
   ]
  },
  {
   "cell_type": "code",
   "execution_count": null,
   "metadata": {},
   "outputs": [],
   "source": [
    "l, Q = np.linalg.eig(S)\n",
    "# The following code sorts the eigenvalues by decreasing size and rearranges the columns of Q accordingly:\n",
    "idx = l.argsort()[::-1]\n",
    "l = l[idx]\n",
    "Q = Q[:,idx]"
   ]
  },
  {
   "cell_type": "markdown",
   "metadata": {},
   "source": [
    "Let's take a look:"
   ]
  },
  {
   "cell_type": "code",
   "execution_count": null,
   "metadata": {},
   "outputs": [],
   "source": [
    "print(l)\n",
    "print(Q)"
   ]
  },
  {
   "cell_type": "markdown",
   "metadata": {},
   "source": [
    "Let's check that `Q` is an orthogonal matrix:"
   ]
  },
  {
   "cell_type": "code",
   "execution_count": null,
   "metadata": {},
   "outputs": [],
   "source": [
    "Q.transpose() @ Q"
   ]
  },
  {
   "cell_type": "markdown",
   "metadata": {},
   "source": [
    "The lecture tells us that the matrix\n",
    "$$Y'=YQ$$\n",
    "will contain our new variables (our principal components)."
   ]
  },
  {
   "cell_type": "code",
   "execution_count": null,
   "metadata": {},
   "outputs": [],
   "source": [
    "Yp = Y @ Q\n",
    "Yp.columns=['Pc. 1','Pc. 2']  # We're also giving appropriate names to the columns."
   ]
  },
  {
   "cell_type": "code",
   "execution_count": null,
   "metadata": {},
   "outputs": [],
   "source": [
    "Yp.plot.scatter('Pc. 1','Pc. 2')\n",
    "plt.axis('Equal')\n",
    "plt.show()"
   ]
  },
  {
   "cell_type": "markdown",
   "metadata": {},
   "source": [
    "Note that the eigenvalues are the same as the variances of the principal components (diagonal entries of $S'$):"
   ]
  },
  {
   "cell_type": "code",
   "execution_count": null,
   "metadata": {},
   "outputs": [],
   "source": [
    "print(l)\n",
    "print(Yp.cov())"
   ]
  },
  {
   "cell_type": "markdown",
   "metadata": {},
   "source": [
    "Note that the total variance (sum of diagonal entries of covariance matrix) is the same for the original variables as for the principal components."
   ]
  },
  {
   "cell_type": "code",
   "execution_count": null,
   "metadata": {},
   "outputs": [],
   "source": [
    "print(np.trace(Y.cov()))\n",
    "print(np.trace(Yp.cov()))"
   ]
  },
  {
   "cell_type": "markdown",
   "metadata": {},
   "source": [
    "But for the principal components, most of the variance is found in the first principal component."
   ]
  },
  {
   "cell_type": "code",
   "execution_count": null,
   "metadata": {},
   "outputs": [],
   "source": [
    "l"
   ]
  },
  {
   "cell_type": "code",
   "execution_count": null,
   "metadata": {},
   "outputs": [],
   "source": [
    "l[0]/sum(l)"
   ]
  },
  {
   "cell_type": "markdown",
   "metadata": {},
   "source": [
    "More than 96%"
   ]
  },
  {
   "cell_type": "code",
   "execution_count": null,
   "metadata": {},
   "outputs": [],
   "source": []
  }
 ],
 "metadata": {
  "kernelspec": {
   "display_name": "Python 3",
   "language": "python",
   "name": "python3"
  },
  "language_info": {
   "codemirror_mode": {
    "name": "ipython",
    "version": 3
   },
   "file_extension": ".py",
   "mimetype": "text/x-python",
   "name": "python",
   "nbconvert_exporter": "python",
   "pygments_lexer": "ipython3",
   "version": "3.9.2"
  }
 },
 "nbformat": 4,
 "nbformat_minor": 2
}
