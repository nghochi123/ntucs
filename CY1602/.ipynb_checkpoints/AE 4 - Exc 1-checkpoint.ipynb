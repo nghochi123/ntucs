{
 "cells": [
  {
   "cell_type": "markdown",
   "metadata": {},
   "source": [
    "# Calculating Fourier Polynomials\n",
    "\n",
    "In this exercise you will create a function that evaluates the $n$th degree Fourier Polynomial for a supplied function $f$.\n",
    "\n",
    "As usual, we need some imports:"
   ]
  },
  {
   "cell_type": "code",
   "execution_count": 11,
   "metadata": {},
   "outputs": [],
   "source": [
    "import numpy as np\n",
    "import matplotlib.pyplot as plt\n",
    "from scipy.integrate import quad"
   ]
  },
  {
   "cell_type": "code",
   "execution_count": 12,
   "metadata": {},
   "outputs": [
    {
     "data": {
      "text/plain": [
       "(0.0, 1.106084004151732e-14)"
      ]
     },
     "execution_count": 12,
     "metadata": {},
     "output_type": "execute_result"
    }
   ],
   "source": [
    "quad(lambda x:x, -1, 1)"
   ]
  },
  {
   "cell_type": "markdown",
   "metadata": {},
   "source": [
    "## Exercise\n",
    "\n",
    "In the cell below create a Python function called Fpoly according to the following specifications:\n",
    "\n",
    "#### Spec for `Fpoly()`:\n",
    "- As already specified in the function header it should take three arguments, `f`,`n` and `x`.\n",
    "- It should return the value of the Fourier polynomial\n",
    "$$\\frac{a_0}{2}+\\sum_{k=1}^n \\left(a_k\\cos{kx}+b_k\\sin{kx}\\right)$$\n",
    "where\n",
    "$$a_k=\\frac{1}{\\pi}\\int_{-\\pi}^\\pi f(t)\\cos{kt}\\,dt,\\quad b_k=\\frac{1}{\\pi}\\int_{-\\pi}^\\pi f(t)\\sin{kt}\\,dt.$$"
   ]
  },
  {
   "cell_type": "code",
   "execution_count": 31,
   "metadata": {},
   "outputs": [],
   "source": [
    "def Fpoly(f,n,x) :\n",
    "    # Supply the missing code such that the function follows the specifications.\n",
    "    T = ((1/np.pi) * quad(lambda t : f(t)*np.cos(0), -np.pi, np.pi)[0])/2   # Let T be the first term a0/2 (use quad to calculate the integral).\n",
    "    for k in range(1,n+1) :\n",
    "        ak = quad(lambda t : f(t)*np.cos(k*t),-np.pi,np.pi)[0]/np.pi # Coefficient a_k\n",
    "        bk = quad(lambda t : f(t)*np.cos(k*t),-np.pi,np.pi)[0]/np.pi # Coefficient b_k\n",
    "        T = T + ak*np.cos(k*x) + bk*np.sin(k*x)\n",
    "    return T"
   ]
  },
  {
   "cell_type": "markdown",
   "metadata": {},
   "source": [
    "*Suggestion*: I would do something like this:\n",
    "1. Let `T`=the value of the first term $a_0/2$.\n",
    "2. Create a `for`-loop where the value of the remaining terms (for $k=1,\\ldots,n$) is added to `T`. \n",
    "3. After the loop, return the value of `T`."
   ]
  },
  {
   "cell_type": "markdown",
   "metadata": {},
   "source": [
    "## Testing your function\n",
    "\n",
    "Let's test your function by plotting Fourier polynomials for two different functions.\n",
    "\n",
    "Let's on one hand consider $g:[-\\pi,\\pi]\\to\\mathbb{R}$ given by\n",
    "$$g(x)=\\begin{cases}\n",
    "-\\frac{x}{\\pi} & \\text{ for }x\\in [-\\pi,0),\\\\\n",
    "\\frac{x}{\\pi}+1 & \\text{ for }x\\in [0,\\pi],\n",
    "\\end{cases}$$\n",
    "and on the other hand, $h:[-\\pi,\\pi]\\to\\mathbb{R}$ given by\n",
    "$$h(x)=\\pi-|x|.$$\n",
    "\n",
    "Let's take a look at those functions first. Running the cell below will define and plot them:"
   ]
  },
  {
   "cell_type": "code",
   "execution_count": 32,
   "metadata": {},
   "outputs": [
    {
     "data": {
      "image/png": "[encoded data removed]",
      "text/plain": [
       "<Figure size 432x288 with 2 Axes>"
      ]
     },
     "metadata": {
      "needs_background": "light"
     },
     "output_type": "display_data"
    }
   ],
   "source": [
    "# You don't have to edit this cell. Just run it. (Unless you want to experiment)\n",
    "%matplotlib inline\n",
    "\n",
    "def g(x) :\n",
    "    if x< 0 :\n",
    "        return -x/np.pi\n",
    "    else :\n",
    "        return x/np.pi+1\n",
    "\n",
    "def h(x) :\n",
    "    return np.pi-abs(x)\n",
    "    \n",
    "gv = np.vectorize(g)\n",
    "x = np.linspace(-np.pi,np.pi,1000)\n",
    "y1 = gv(x)\n",
    "y2 = h(x)\n",
    "\n",
    "plt.subplot(121)\n",
    "plt.plot(x,y1,'r.',markersize=1)\n",
    "plt.title(r\"$y=g(x)$\")\n",
    "plt.subplot(122)\n",
    "plt.plot(x,y2,'r.',markersize=1)\n",
    "plt.title(r\"$y=h(x)$\")\n",
    "plt.show()"
   ]
  },
  {
   "cell_type": "markdown",
   "metadata": {},
   "source": [
    "Next, let's see if your `Fpoly` function works. If it does, the cell below should plot the following:\n",
    "\n",
    "- The graphs of $g$ and $h$ (red).\n",
    "- The graphs of their periodic extensions (green, on $(-4\\pi,4\\pi)$).\n",
    "- The graphs of their third degree Fourier polynomials (blue, on $(-4\\pi,4\\pi)$).\n",
    "- The graphs of their fifteenth degree Fourier polynomials (black, on $(-4\\pi,4\\pi)$).\n",
    "\n",
    "The graphs will open in a separate window."
   ]
  },
  {
   "cell_type": "code",
   "execution_count": 33,
   "metadata": {},
   "outputs": [
    {
     "name": "stderr",
     "output_type": "stream",
     "text": [
      "C:\\Users\\nghoc\\AppData\\Local\\Temp\\ipykernel_28872\\2594915152.py:6: IntegrationWarning: The maximum number of subdivisions (50) has been achieved.\n",
      "  If increasing the limit yields no improvement it is advised to analyze \n",
      "  the integrand in order to determine the difficulties.  If the position of a \n",
      "  local difficulty can be determined (singularity, discontinuity) one will \n",
      "  probably gain from splitting up the interval and calling the integrator \n",
      "  on the subranges.  Perhaps a special-purpose integrator should be used.\n",
      "  ak = quad(lambda t : f(t)*np.cos(k*t),-np.pi,np.pi)[0]/np.pi # Coefficient a_k\n",
      "C:\\Users\\nghoc\\AppData\\Local\\Temp\\ipykernel_28872\\2594915152.py:7: IntegrationWarning: The maximum number of subdivisions (50) has been achieved.\n",
      "  If increasing the limit yields no improvement it is advised to analyze \n",
      "  the integrand in order to determine the difficulties.  If the position of a \n",
      "  local difficulty can be determined (singularity, discontinuity) one will \n",
      "  probably gain from splitting up the interval and calling the integrator \n",
      "  on the subranges.  Perhaps a special-purpose integrator should be used.\n",
      "  bk = quad(lambda t : f(t)*np.cos(k*t),-np.pi,np.pi)[0]/np.pi # Coefficient b_k\n",
      "C:\\Users\\nghoc\\AppData\\Local\\Temp\\ipykernel_28872\\2594915152.py:6: IntegrationWarning: The integral is probably divergent, or slowly convergent.\n",
      "  ak = quad(lambda t : f(t)*np.cos(k*t),-np.pi,np.pi)[0]/np.pi # Coefficient a_k\n",
      "C:\\Users\\nghoc\\AppData\\Local\\Temp\\ipykernel_28872\\2594915152.py:7: IntegrationWarning: The integral is probably divergent, or slowly convergent.\n",
      "  bk = quad(lambda t : f(t)*np.cos(k*t),-np.pi,np.pi)[0]/np.pi # Coefficient b_k\n"
     ]
    }
   ],
   "source": [
    "# You don't have to edit this cell. Just run it. (Unless you want to experiment)\n",
    "%matplotlib qt\n",
    "\n",
    "x = np.linspace(-np.pi,np.pi,1000)\n",
    "yg = gv(x)\n",
    "yh = h(x)\n",
    "\n",
    "xx = np.linspace(-4*np.pi,4*np.pi,10000)\n",
    "\n",
    "yG = gv((xx+np.pi) % (2*np.pi) - np.pi)\n",
    "yH = h((xx+np.pi) % (2*np.pi) - np.pi)\n",
    "ygF3 = Fpoly(g,3,xx)\n",
    "ygF15 = Fpoly(g,15,xx)\n",
    "yhF3 = Fpoly(h,3,xx)\n",
    "yhF15 = Fpoly(h,15,xx)\n",
    "\n",
    "print(xx)\n",
    "\n",
    "plt.subplot(211)\n",
    "plt.plot(x,yg,'r.',label=r'$y=g(x)$')\n",
    "plt.plot(xx,yG,'g.',label=r'$y=G(x)$',markersize=1)\n",
    "plt.plot(xx,ygF3,'b',label=r'$y=T_{3}(x)$')\n",
    "plt.plot(xx,ygF15,'k',label=r'$y=T_{15}(x)$')\n",
    "plt.title(r\"$g$, its extension and some of its Fourier polynomials\")\n",
    "plt.legend()\n",
    "plt.subplot(212)\n",
    "plt.plot(x,yh,'r.',label=r'$y=h(x)$')\n",
    "plt.plot(xx,yH,'g.',label=r'$y=H(x)$',markersize=1)\n",
    "plt.plot(xx,yhF3,'b',label=r'$y=T_{3}(x)$')\n",
    "plt.plot(xx,yhF15,'k',label=r'$y=T_{15}(x)$')\n",
    "plt.title(r\"$h$, its extension and some of its Fourier polynomials\")\n",
    "plt.legend()\n",
    "plt.show()"
   ]
  },
  {
   "cell_type": "markdown",
   "metadata": {},
   "source": [
    "## To submit in LAMS\n",
    "\n",
    "When you are somewhat confident that you got it right (you should be able to tell if the graphs make sense), you should submit:\n",
    "\n",
    "- The code for your `Fpoly` function.\n",
    "- The picture generated by the last cell. Maximise the graph window to get a clear picture.\n",
    "- There are also three questions about what the Fourier polynomials for $g$ converge to at different points. The following theorem (which was mentioned earlier) gives you the answer ($g$ is piecewise smooth so the theorem applies) but you should probably also look at the graph to confirm the answer.\n",
    "\n",
    "**Theorem**\n",
    "\n",
    "Suppose that\n",
    "- $f$ is piecewise smooth on $(-\\pi,\\pi)$.\n",
    "- $F$ is the periodic extension with period $2\\pi$ of $f$.\n",
    "Then, at each point $x\\in\\mathbb{R}$, the value $T_n(x)$ of the Fourier polynomials for $f$, converges as $n\\to\\infty$ to the mean value\n",
    "$$\\frac{F(x+)+F(x-)}{2}$$\n",
    "of the one-sided limits $F(x+)$ and $F(x-)$"
   ]
  },
  {
   "cell_type": "code",
   "execution_count": null,
   "metadata": {},
   "outputs": [],
   "source": []
  }
 ],
 "metadata": {
  "kernelspec": {
   "display_name": "Python 3 (ipykernel)",
   "language": "python",
   "name": "python3"
  },
  "language_info": {
   "codemirror_mode": {
    "name": "ipython",
    "version": 3
   },
   "file_extension": ".py",
   "mimetype": "text/x-python",
   "name": "python",
   "nbconvert_exporter": "python",
   "pygments_lexer": "ipython3",
   "version": "3.10.0"
  }
 },
 "nbformat": 4,
 "nbformat_minor": 4
}
