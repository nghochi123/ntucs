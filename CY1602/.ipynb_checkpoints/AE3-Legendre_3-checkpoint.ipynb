{
 "cells": [
  {
   "cell_type": "markdown",
   "metadata": {},
   "source": [
    "# Approximation with Legendre polynomials.\n",
    "\n",
    "In the previous exercises we use Fourier polynomials, which are *trigonometric* polynomials\n",
    "$$T_n(x)=\\frac{a_0}{2}+b_1\\sin{x}+a_1\\cos{x}+b_2\\sin{2x}+a_2\\cos{2x}+\\ldots+b_n\\sin{nx}+a_n\\cos{nx},$$\n",
    "to approximate other functions.\n",
    "\n",
    "In many situation we would rather approximate with a \"normal\" polynomial\n",
    "$$p_n(x)=c_0+c_1x+c_2x^2+\\ldots+c_nx^n.$$\n",
    "\n",
    "We can apply the same idea that lead us to Fourier series, using projections on a subspace:\n",
    "\n",
    "Consider the space $C([-1,1])$ (the space of continuous functions on $[-1,1]$) equipped with the inner product\n",
    "$$\\langle f,g\\rangle =\\int_{-1}^1 f(x)g(x)\\,dx,\\quad f,g\\in C([-1,1]),$$\n",
    "and consider the subspace\n",
    "$$\\mathcal{P}_n=\\{p(x)=a_0+a_1x+\\ldots+a_nx^n:a_0,a_1,\\ldots,a_n\\in\\mathbb{R}\\}.$$\n",
    "\n",
    "In other words, $\\mathcal{P}_n$ is the subspace of $C([-1,1])$ consisting of all polynomials of degree $\\leq n$.\n",
    "\n",
    "To find the polynomial $p\\in\\mathcal{P}_n$ that best approximates some given function $f\\in C([a,b])$ (in the sense that $p$ minimizes the distance $\\|p-f\\|$ among all $p\\in\\mathcal{P}_n$), we should of course choose the projection\n",
    "$$p=\\mathrm{proj}_{\\mathcal{P}_n}\\,f.$$\n",
    "\n",
    "To calculate the projection, we can use the projection formula\n",
    "$$\\mathrm{proj}_{\\mathcal{P}_n}f=\\frac{\\langle f,q_0\\rangle}{\\|q_0\\|^2}q_0+\\frac{\\langle f,q_1\\rangle}{\\|q_1\\|^2}q_1+\\ldots+\\frac{\\langle f,q_n\\rangle}{\\|q_n\\|^2}q_n,$$\n",
    "provided that\n",
    "$$\\{q_0,q_1,\\ldots,q_n\\}$$\n",
    "is an **orthogonal** basis for $\\mathcal{P}_n$.\n",
    "\n",
    "We have a simple basis for $\\mathcal{P}_n$:\n",
    "$$\\mathcal{B}=\\{1,x,x^2,\\ldots,x^n\\},$$\n",
    "but unfortunately, this is not an *orthogonal* basis. For example\n",
    "$$\\langle 1,x^2\\rangle = \\int_{-1}^1 1\\cdot x^2=\\frac{2}{3}\\neq 0,$$\n",
    "so $1$ and $x^2$ are not orthogonal.\n",
    "\n",
    "We can however obtain an orthogonal basis from the basis above by applying the Gram-Schmidt process. This involves quite a bit of work, but fortunately this has been done before. The orthogonal basis we get from the Gram-Schmidt process are called *Legendre polynomials* and the first few of them look like this:\n",
    "\n",
    "$$q_0(x)=1$$\n",
    "$$q_1(x)=x$$\n",
    "$$q_2(x)=\\frac{1}{2}(3x^2-1)$$\n",
    "$$q_3(x)=\\frac{1}{2}(5x^3-3x)$$\n",
    "$$\\vdots$$\n",
    "\n",
    "Let's just check that a few of them are indeed orthogonal:\n",
    "$$\\langle q_0,q_1\\rangle = \\int_{-1}^1 1\\cdot x\\,dx=0\\quad (\\text{odd integrand}).$$\n",
    "$$\\langle q_0,q_2\\rangle = \\int_{-1}^1 1\\cdot \\frac{1}{2}(3x^2-1)\\,dx=\\frac{1}{2}\\left[x^3-x\\right]_{-1}^1=\\frac{1}{2}((1-1)-(-1-(-1)))=0.$$\n",
    "$$\\langle q_1,q_2\\rangle = \\int_{-1}^1 x\\cdot \\frac{1}{2}(3x^2-1)\\,dx=\\frac{1}{2}\\int_{-1}^1 (3x^3-x)\\,dx=0\\quad (\\text{odd integrand}).$$\n",
    "$$\\text{etc.}$$\n",
    "$$\\vdots$$\n",
    "\n",
    "The Legendre polynomials are also available in Python, in the `scipy.special` library. The function for evaluating Legendre polynomials is called `eval_legendre(n,x)`, where `n` is the degree of the polynomial and `x` is the point we're evaluating at. Let's import it (and the other stuff we'll need)."
   ]
  },
  {
   "cell_type": "code",
   "execution_count": null,
   "metadata": {},
   "outputs": [],
   "source": [
    "import numpy as np\n",
    "import matplotlib.pyplot as plt\n",
    "from scipy.integrate import quad\n",
    "from scipy.special import eval_legendre"
   ]
  },
  {
   "cell_type": "markdown",
   "metadata": {},
   "source": [
    "First, let's plot the first four Legendre polynomials listed above."
   ]
  },
  {
   "cell_type": "code",
   "execution_count": null,
   "metadata": {},
   "outputs": [],
   "source": [
    "# You don't have to edit this cell. Just run it.\n",
    "\n",
    "x = np.linspace(-1,1,1000)\n",
    "y0 = eval_legendre(0,x)\n",
    "y1 = eval_legendre(1,x)\n",
    "y2 = eval_legendre(2,x)\n",
    "y3 = eval_legendre(3,x)\n",
    "\n",
    "plt.plot(x,y0,label=r\"$y=q_0(x)$\")\n",
    "plt.plot(x,y1,label=r\"$y=q_1(x)$\")\n",
    "plt.plot(x,y2,label=r\"$y=q_2(x)$\")\n",
    "plt.plot(x,y3,label=r\"$y=q_3(x)$\")\n",
    "plt.legend()\n",
    "plt.title(\"The first four Legendre polynomials\")\n",
    "plt.show()"
   ]
  },
  {
   "cell_type": "markdown",
   "metadata": {},
   "source": [
    "## Exercise\n",
    "\n",
    "Create a function `Lapprox(f,n,x)` that evaluates the projection\n",
    "$$\\mathrm{proj}_{\\mathcal{P}_n}f=\\frac{\\langle f,q_0\\rangle}{\\|q_0\\|^2}q_0+\\frac{\\langle f,q_1\\rangle}{\\|q_1\\|^2}q_1+\\ldots+\\frac{\\langle f,q_n\\rangle}{\\|q_n\\|^2}q_n.$$\n",
    "\n",
    "This is very similar to the `Fpoly` function from your first exercise, with the difference that instead of using trigonometric functions on $[-\\pi,\\pi]$, we are now using Legendre polynomials on $[-1,1]$. \n",
    "\n",
    "Another slight difference to take note of is that although the Legendre polynomials listed above are *orthogonal* they are not *orthonormal*, so you must remember to divide each term (according to the formula above) with\n",
    "$$\\|q_k\\|^2=\\langle q_k,q_k\\rangle = \\int_{-1}^1 (q_k(t))^2\\,dt.$$\n",
    "\n",
    "If you want you can copy and paste your `Fpoly` function and edit the necessary details, or you can just directly edit the cell below."
   ]
  },
  {
   "cell_type": "code",
   "execution_count": null,
   "metadata": {},
   "outputs": [],
   "source": [
    "def Lapprox(f,n,x) :\n",
    "    s = 0\n",
    "    for k in range(0,n+1) :\n",
    "        c =      # Calculate the coefficient in front of q_k here.\n",
    "        s = s+   # Fill in the rest\n",
    "    return s        "
   ]
  },
  {
   "cell_type": "markdown",
   "metadata": {},
   "source": [
    "## Testing your code.\n",
    "\n",
    "Let's test your code by plotting some approximations of the function $f:[-1,1]\\to\\mathbb{R}$ defined and plotted below:"
   ]
  },
  {
   "cell_type": "code",
   "execution_count": null,
   "metadata": {},
   "outputs": [],
   "source": [
    "# Don't edit this cell. Just run it.\n",
    "\n",
    "def f(x) :\n",
    "    return abs(x-np.round(x))\n",
    "\n",
    "x = np.linspace(-1,1,1000)\n",
    "y = f(x)\n",
    "plt.plot(x,y)\n",
    "plt.show()"
   ]
  },
  {
   "cell_type": "markdown",
   "metadata": {},
   "source": [
    "So, let's calculate some approxiations using your function. How about the 4th, 9th and 30th degree:"
   ]
  },
  {
   "cell_type": "code",
   "execution_count": null,
   "metadata": {},
   "outputs": [],
   "source": [
    "# Don't edit this cell. Just run it.\n",
    "\n",
    "x = np.linspace(-1,1,1000)\n",
    "y = f(x)\n",
    "y4 = Lapprox(f,4,x)\n",
    "y9 = Lapprox(f,9,x)\n",
    "y30 = Lapprox(f,30,x)"
   ]
  },
  {
   "cell_type": "markdown",
   "metadata": {},
   "source": [
    "And let's plot...\n"
   ]
  },
  {
   "cell_type": "code",
   "execution_count": null,
   "metadata": {},
   "outputs": [],
   "source": [
    "# Don't edit this cell. Just run it.\n",
    "\n",
    "%matplotlib inline\n",
    "plt.plot(x,y,label=r\"$y=f(x)$\")\n",
    "plt.plot(x,y4,label=\"4th degree approx.\")\n",
    "plt.plot(x,y9,label=\"9th degree approx.\")\n",
    "plt.plot(x,y30,label=\"30th degree approx.\")\n",
    "plt.legend()\n",
    "plt.title(\"Some approximations with Legendre polynomials\")\n",
    "plt.show()"
   ]
  },
  {
   "cell_type": "markdown",
   "metadata": {},
   "source": [
    "## To submit in LAMS\n",
    "\n",
    "- Your code for `Lapprox`\n",
    "- The plot above."
   ]
  },
  {
   "cell_type": "code",
   "execution_count": null,
   "metadata": {},
   "outputs": [],
   "source": []
  }
 ],
 "metadata": {
  "kernelspec": {
   "display_name": "Python 3",
   "language": "python",
   "name": "python3"
  },
  "language_info": {
   "codemirror_mode": {
    "name": "ipython",
    "version": 3
   },
   "file_extension": ".py",
   "mimetype": "text/x-python",
   "name": "python",
   "nbconvert_exporter": "python",
   "pygments_lexer": "ipython3",
   "version": "3.8.1"
  }
 },
 "nbformat": 4,
 "nbformat_minor": 2
}
