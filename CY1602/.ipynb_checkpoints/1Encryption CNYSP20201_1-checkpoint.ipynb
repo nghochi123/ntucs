{
 "cells": [
  {
   "cell_type": "markdown",
   "metadata": {},
   "source": [
    "# A simple algorithm for encryption\n",
    "\n",
    "Here's a simple algorithm for encrypting a text message.\n",
    " \n",
    "1. **Encoding letters to numbers:** Identify each letter in the English alphabet with an integer from 0 to 25 in the following manner:\n",
    "$$\\begin{array}{c|c|c|c|c|c|c|c|c|c|c|c|c} A &  B &  C &  D &  E &  F & \n",
    "G &  H &  I &  J &  K &  L &  M \\\\ \\hline 0 &  1&  2 &  3 &  4 &  5 &  6 &  7 & \n",
    "8 &  9 &  10 &  11 &  12\n",
    "\\end{array} $$\n",
    "$$\\begin{array}{c|c|c|c|c|c|c|c|c|c|c|c|c}\n",
    "N &  O &  P &  Q &  R &  S &  T &  U &  V &  W &  X &  Y &  Z  \\\\ \\hline 13 & \n",
    "14&  15 &  16 &  17 &  18 &  19 &  20 &  21 &  22 &  23 &  24 &  25\n",
    "\\end{array} .$$  \n",
    "Let m be a positive integer and group the numbers into $m\\times 1$ matrices $P_1,P_2,\\ldots,P_k$. If the number of letters is not divisible by $m$, just add random letters at the beginning or end of your message until it is.  \n",
    "Let's say $m=3$, and our message is \"WAHLAU\". The corresponding numbers are 22 0 7 11 0 20 and grouping them into $3\\times 1$ matrices we obtain\n",
    "$$P_1=\\begin{bmatrix}22\\\\ 0\\\\ 7\\end{bmatrix},\\quad P_2=\\begin{bmatrix}11\\\\ 0\\\\ 20\\end{bmatrix}.$$\n",
    "\n",
    "2. **Encryption**\n",
    "Let $K$ be an $m\\times m$ matrix of integers between 0 and 25. Now the matrix $K$ will be your encryption key. To turn the \"plaintext message\" $P_j$ into an encrypted message $C_j$, let  \n",
    "$$C_j\\equiv KP_j \\pmod{26}.$$  \n",
    "To make the calculation more efficient, we can form a matrix $P$ whose columns are $P_j$. If we then let\n",
    "$$C\\equiv KP \\pmod{26},$$  \n",
    "the columns of $C$ will be $C_j$. (This works because the $j$th column $C_j$ of $KP$ is $K$ times the $j$th column of $P$, i.e. we get $C_j=KP_j$).  \n",
    "Using our example above, suppose we take \n",
    "$$K=\\begin{bmatrix}\n",
    "  1  & 0 & 12\\\\\n",
    " 25  & 2 &  1\\\\\n",
    "  0  & 1 & 1 \n",
    "\\end{bmatrix}.$$\n",
    "Since\n",
    "$$P_1=\\begin{bmatrix}22\\\\ 0\\\\ 7\\end{bmatrix},\\quad P_2=\\begin{bmatrix}11\\\\ 0\\\\ 20\\end{bmatrix},$$\n",
    "we get\n",
    "$$P=\\begin{bmatrix}\n",
    "22 & 11\\\\\n",
    "0 & 0\\\\\n",
    "7 & 20\n",
    "\\end{bmatrix}.$$\n",
    "\n",
    "Let's calculate $C\\equiv KP\\pmod{26}$ with Python (actually, you did this in the last exercise):"
   ]
  },
  {
   "cell_type": "code",
   "execution_count": 1,
   "metadata": {},
   "outputs": [
    {
     "name": "stdout",
     "output_type": "stream",
     "text": [
      "[[ 2 17]\n",
      " [11  9]\n",
      " [ 7 20]]\n"
     ]
    }
   ],
   "source": [
    "import numpy as np\n",
    "K=np.array([[1,0,12],[25,2,1],[0,1,1]])\n",
    "P=np.array([[22,11],[0,0],[7,20]])\n",
    "C = K@P % 26\n",
    "print(C)"
   ]
  },
  {
   "cell_type": "markdown",
   "metadata": {},
   "source": [
    "The calculation above (run it if you haven't already) shows us that\n",
    "$$C_1=\\begin{bmatrix}\n",
    "2\\\\\n",
    "11\\\\\n",
    "7\n",
    "\\end{bmatrix},\\quad C_2=\\begin{bmatrix}\n",
    "17\\\\\n",
    "9\\\\\n",
    "20\n",
    "\\end{bmatrix}.$$"
   ]
  },
  {
   "cell_type": "markdown",
   "metadata": {},
   "source": [
    "\n",
    "3. **Translating numbers to letters:**  Finally, we convert the numbers 2 11 7 17 9 20 back to letters and get the encrypted message: \"CLHRJU\".  \n",
    "Of course, if our encrypted message is intended to be sent electronically there is no point in converting it to letters since it's anyway not inteded for human eyes. In that case we would skip this step and just send the numbers."
   ]
  },
  {
   "cell_type": "markdown",
   "metadata": {},
   "source": [
    "## Exercise\n",
    "\n",
    "Come up with your own short message,  at least 4 characters long, (but don't make it too long or you'll get bored by this exercise, I recommend at most 9 characters). Ignore any blank spaces, so instead of \"pen pineapple apple pen\", just say \"penpineappleapplepen\".  \n",
    "If necessary, add some letters such that the number of characters is divisible by 3. For example \"penpineappleapplepenr\" \n",
    " \n",
    "Using\n",
    "$$K=\\begin{bmatrix}\n",
    "  1  & 4 & 0\\\\\n",
    "  1 & 1 &  0\\\\\n",
    "  1  & 1 & 3 \n",
    "\\end{bmatrix},$$\n",
    "\n",
    "encrypt your message and submit the encrypted message (in letters, not numbers) in <a href=\"https://entuedu.sharepoint.com/:w:/r/teams/CY160102AY2021/Shared%20Documents/Application%20Exercises/AE2-shared.docx?d=wb4b17de1f246447c9dcb2e34b54e7303&csf=1&web=1&e=OBEg1s\">this shared document</a>."
   ]
  },
  {
   "cell_type": "code",
   "execution_count": 2,
   "metadata": {},
   "outputs": [],
   "source": [
    "x = 'nugget'"
   ]
  },
  {
   "cell_type": "code",
   "execution_count": 18,
   "metadata": {},
   "outputs": [],
   "source": [
    "P_new = np.array([[13,6],[20,4],[6,19]])"
   ]
  },
  {
   "cell_type": "code",
   "execution_count": 19,
   "metadata": {},
   "outputs": [],
   "source": [
    "K_new = np.array([[1,4,0],[1,1,0],[1,1,3]])"
   ]
  },
  {
   "cell_type": "code",
   "execution_count": 20,
   "metadata": {},
   "outputs": [],
   "source": [
    "C_new = K_new@P_new"
   ]
  },
  {
   "cell_type": "code",
   "execution_count": 21,
   "metadata": {},
   "outputs": [
    {
     "data": {
      "text/plain": [
       "(3, 3)"
      ]
     },
     "execution_count": 21,
     "metadata": {},
     "output_type": "execute_result"
    }
   ],
   "source": [
    "K_new.shape"
   ]
  },
  {
   "cell_type": "code",
   "execution_count": 22,
   "metadata": {},
   "outputs": [
    {
     "data": {
      "text/plain": [
       "(3, 2)"
      ]
     },
     "execution_count": 22,
     "metadata": {},
     "output_type": "execute_result"
    }
   ],
   "source": [
    "P_new.shape"
   ]
  },
  {
   "cell_type": "code",
   "execution_count": 23,
   "metadata": {},
   "outputs": [
    {
     "data": {
      "text/plain": [
       "array([[15, 22],\n",
       "       [ 7, 10],\n",
       "       [25, 15]], dtype=int32)"
      ]
     },
     "execution_count": 23,
     "metadata": {},
     "output_type": "execute_result"
    }
   ],
   "source": [
    "C_new%26"
   ]
  },
  {
   "cell_type": "code",
   "execution_count": null,
   "metadata": {},
   "outputs": [],
   "source": []
  }
 ],
 "metadata": {
  "kernelspec": {
   "display_name": "Python 3",
   "language": "python",
   "name": "python3"
  },
  "language_info": {
   "codemirror_mode": {
    "name": "ipython",
    "version": 3
   },
   "file_extension": ".py",
   "mimetype": "text/x-python",
   "name": "python",
   "nbconvert_exporter": "python",
   "pygments_lexer": "ipython3",
   "version": "3.9.1"
  }
 },
 "nbformat": 4,
 "nbformat_minor": 4
}
