{
 "cells": [
  {
   "cell_type": "markdown",
   "metadata": {},
   "source": [
    "# Changing interval\n",
    "\n",
    "With a change of variables argument, we can show that if the domain of $f$ is $[-c,c]$ ( instead of $[-\\pi,\\pi]$], the Fourier polynomials become\n",
    "$$T_n(x)=\\frac{a_0}{2}+\\sum_{k=1}^n \\left(a_k\\cos\\frac{k\\pi x}{c}+b_k\\sin\\frac{k\\pi x}{c}\\right),$$\n",
    "where\n",
    "$$a_k=\\frac{1}{c}\\int_{-c}^c f(t)\\cos\\frac{k\\pi t}{c}\\,dt,\\quad b_k=\\frac{1}{c}\\int_{-c}^c f(t)\\sin\\frac{k\\pi t}{c}\\,dt.$$\n",
    "\n",
    "Before doing the next exercise, let's import the usual stuff:"
   ]
  },
  {
   "cell_type": "code",
   "execution_count": 1,
   "metadata": {},
   "outputs": [],
   "source": [
    "import numpy as np\n",
    "import matplotlib.pyplot as plt\n",
    "from scipy.integrate import quad"
   ]
  },
  {
   "cell_type": "markdown",
   "metadata": {},
   "source": [
    "## Exercise\n",
    "\n",
    "Create a new function `Fpolyc` that evaluates the Fourier polynomial of degree $n$ of a function with domain $[-c,c]$. It should take 4 arguments, `f`, `c`, `n` and `x`. The function header is provided below:"
   ]
  },
  {
   "cell_type": "code",
   "execution_count": 5,
   "metadata": {},
   "outputs": [],
   "source": [
    "def Fpolyc(f,c,n,x) :\n",
    "    # Supply the missing code such that the function follows the specifications.\n",
    "    T = ((1/np.pi) * quad(lambda t : f(t)*np.cos(0), -c, c)[0])/2   # Let T be the first term a0/2 (use quad to calculate the integral).\n",
    "    for k in range(1,n+1) :\n",
    "        ak = quad(lambda t : f(t)*np.cos((k*np.pi*t)/c),-c,c)[0]/c # Coefficient a_k\n",
    "        bk = quad(lambda t : f(t)*np.sin((k*np.pi*t)/c),-c,c)[0]/c # Coefficient b_k\n",
    "        T = T + ak*np.cos((k*np.pi*x)/c) + bk*np.sin((k*np.pi*x)/c)\n",
    "    return T"
   ]
  },
  {
   "cell_type": "markdown",
   "metadata": {},
   "source": [
    "When you're done, run the cell below. It does the following:\n",
    "\n",
    "Using the function $\\mathrm{sign}:[-1,1]\\to\\mathbb{R}$ defined by\n",
    "$$\\mathrm{sign}(x)=\\begin{cases}\n",
    "-1  & ; \\text{ for }x<0,\\\\\n",
    " 0 & ; \\text{ for }x=0,\\\\\n",
    "1 & ; \\text{ for }x> 0,\n",
    "\\end{cases}$$\n",
    "which is available in Numpy, the cell below plots the following on the interval $(-4,4)$:\n",
    "\n",
    "- The periodic extension with period $2$ of the $\\mathrm{sign}$ function above in red. This creates a square wave function.\n",
    "- The corresponding Fourier polynomials (calculated with the function you wrote) of degree 10, 30 and 70 (blue, black, green).\n"
   ]
  },
  {
   "cell_type": "code",
   "execution_count": 9,
   "metadata": {},
   "outputs": [],
   "source": [
    "# You don't have to edit this cell. Just run it.\n",
    "%matplotlib qt\n",
    "x = np.linspace(-4,4,10000)\n",
    "\n",
    "y1 = np.sign((x+1) % 2 - 1)\n",
    "y2 = Fpolyc(np.sign,1,10,x)\n",
    "y3 = Fpolyc(np.sign,1,30,x)\n",
    "y4 = Fpolyc(np.sign,1,70,x)\n",
    "\n",
    "plt.plot(x,y1,'r.',label=r'$y=S(x)$',markersize=1)\n",
    "plt.plot(x,y2,'b',label=r'$y=T_{10}(x)$')\n",
    "plt.plot(x,y3,'k',label=r'$y=T_{30}(x)$')\n",
    "plt.plot(x,y4,'g',label=r'$y=T_{70}(x)$')\n",
    "\n",
    "plt.legend()\n",
    "plt.show()"
   ]
  },
  {
   "cell_type": "markdown",
   "metadata": {},
   "source": [
    "Hmmm, the Fourier polynomials seem to behave a bit weirdly near a discontinuity of the function. Let's zoom in on the interval $(0,1)$ where the function is 1, but jumps at both endpoints."
   ]
  },
  {
   "cell_type": "code",
   "execution_count": 10,
   "metadata": {},
   "outputs": [],
   "source": [
    "# You don't have to edit this cell. Just run it.\n",
    "%matplotlib qt\n",
    "x = np.linspace(-0.05,1.05,10000)\n",
    "\n",
    "y1 = np.sign((x+1) % 2 - 1)\n",
    "y2 = Fpolyc(np.sign,1,10,x)\n",
    "y3 = Fpolyc(np.sign,1,30,x)\n",
    "y4 = Fpolyc(np.sign,1,70,x)\n",
    "\n",
    "plt.plot(x,y1,'r.',label=r'$y=S(x)$',markersize=1)\n",
    "plt.plot(x,y2,'b',label=r'$y=T_{10}(x)$')\n",
    "plt.plot(x,y3,'k',label=r'$y=T_{30}(x)$')\n",
    "plt.plot(x,y4,'g',label=r'$y=T_{70}(x)$')\n",
    "plt.ylim(0.8,1.2)\n",
    "plt.legend()\n",
    "plt.show()"
   ]
  },
  {
   "cell_type": "markdown",
   "metadata": {},
   "source": [
    "If you study the graphs you should be able to see different kind of behaviour in the middle of the interval as opposed to near the endpoints.\n",
    "\n",
    "- In the middle of the interval (away from the discontinuities), as $n$ increases, the amplitude of the error decreases.\n",
    "- Near the discontinuities (near the endpoints of $(0,1)$), the amplitude of the error seems unaffected by $n$ increasing.\n",
    "\n",
    "You could see this behaviour in the previous exercise as well, although we didn't draw attention to it.\n",
    "\n",
    "This odd behaviour has a name.\n",
    "\n",
    "## Exercise:\n",
    "Practice some Google-fu and find out what this odd behaviour of Fourier polynomials near a discontinuity is called.\n",
    "\n",
    "## To submit in LAMS\n",
    "- Both pictures generated by this notebook.\n",
    "- The name of the odd behaviour discussed above."
   ]
  },
  {
   "cell_type": "code",
   "execution_count": null,
   "metadata": {},
   "outputs": [],
   "source": []
  },
  {
   "cell_type": "code",
   "execution_count": null,
   "metadata": {},
   "outputs": [],
   "source": []
  }
 ],
 "metadata": {
  "kernelspec": {
   "display_name": "Python 3 (ipykernel)",
   "language": "python",
   "name": "python3"
  },
  "language_info": {
   "codemirror_mode": {
    "name": "ipython",
    "version": 3
   },
   "file_extension": ".py",
   "mimetype": "text/x-python",
   "name": "python",
   "nbconvert_exporter": "python",
   "pygments_lexer": "ipython3",
   "version": "3.10.0"
  }
 },
 "nbformat": 4,
 "nbformat_minor": 4
}
