{
 "cells": [
  {
   "cell_type": "markdown",
   "metadata": {},
   "source": [
    "# AE 2 - Network 2\n",
    "\n",
    "To save you some work, here are the three suggested matrices from the exercise:"
   ]
  },
  {
   "cell_type": "code",
   "execution_count": 31,
   "metadata": {},
   "outputs": [
    {
     "name": "stdout",
     "output_type": "stream",
     "text": [
      "[[0.         0.33333333 0.         0.5        0.        ]\n",
      " [0.33333333 0.         0.         0.         0.        ]\n",
      " [0.         0.33333333 0.         0.         1.        ]\n",
      " [0.33333333 0.         0.         0.         0.        ]\n",
      " [0.33333333 0.33333333 0.         0.5        0.        ]]\n"
     ]
    }
   ],
   "source": [
    "import numpy as np\n",
    "M1 = np.array([[0,1/3,0,1/2,0],[1/3,0,0,0,0],[0,1/3,0,0,1],[1/3,0,0,0,0],[1/3,1/3,0,1/2,0]])\n",
    "print(M1)"
   ]
  },
  {
   "cell_type": "code",
   "execution_count": 32,
   "metadata": {},
   "outputs": [
    {
     "name": "stdout",
     "output_type": "stream",
     "text": [
      "[[0.         0.33333333 0.         0.5        0.        ]\n",
      " [0.33333333 0.         0.         0.         0.        ]\n",
      " [0.         0.33333333 1.         0.         1.        ]\n",
      " [0.33333333 0.         0.         0.         0.        ]\n",
      " [0.33333333 0.33333333 0.         0.5        0.        ]]\n"
     ]
    }
   ],
   "source": [
    "M2 = M1.copy()\n",
    "M2[:,2]=np.array([0,0,1,0,0])\n",
    "print(M2)"
   ]
  },
  {
   "cell_type": "code",
   "execution_count": 33,
   "metadata": {},
   "outputs": [
    {
     "name": "stdout",
     "output_type": "stream",
     "text": [
      "[[0.         0.33333333 0.2        0.5        0.        ]\n",
      " [0.33333333 0.         0.2        0.         0.        ]\n",
      " [0.         0.33333333 0.2        0.         1.        ]\n",
      " [0.33333333 0.         0.2        0.         0.        ]\n",
      " [0.33333333 0.33333333 0.2        0.5        0.        ]]\n"
     ]
    }
   ],
   "source": [
    "M3 = M1.copy()\n",
    "M3[:,2]=np.array([0.2,0.2,0.2,0.2,0.2])\n",
    "print(M3)"
   ]
  },
  {
   "cell_type": "markdown",
   "metadata": {},
   "source": [
    "If you want to experiment with some random surfers, you can start with some initial population, e.g."
   ]
  },
  {
   "cell_type": "code",
   "execution_count": 34,
   "metadata": {},
   "outputs": [],
   "source": [
    "p = np.array([[100],[100],[100],[100],[100]])"
   ]
  },
  {
   "cell_type": "markdown",
   "metadata": {},
   "source": [
    " and try repeating the formulas below.\n",
    " **I recommend resetting `p` above between experiments, or it might get confusing.**"
   ]
  },
  {
   "cell_type": "code",
   "execution_count": 22,
   "metadata": {},
   "outputs": [
    {
     "name": "stdout",
     "output_type": "stream",
     "text": [
      "[[0.]\n",
      " [0.]\n",
      " [0.]\n",
      " [0.]\n",
      " [0.]]\n"
     ]
    }
   ],
   "source": [
    "# Experiment with \n",
    "\n",
    "p = np.matmul(M1,p)\n",
    "print(np.round(p,2))"
   ]
  },
  {
   "cell_type": "code",
   "execution_count": 46,
   "metadata": {},
   "outputs": [
    {
     "name": "stdout",
     "output_type": "stream",
     "text": [
      "[[5.0000e-02]\n",
      " [5.0000e-02]\n",
      " [4.9977e+02]\n",
      " [5.0000e-02]\n",
      " [9.0000e-02]]\n"
     ]
    }
   ],
   "source": [
    "# Experiment with M2\n",
    "p = np.matmul(M2,p)\n",
    "print(np.round(p,2))\n"
   ]
  },
  {
   "cell_type": "code",
   "execution_count": 72,
   "metadata": {},
   "outputs": [
    {
     "name": "stdout",
     "output_type": "stream",
     "text": [
      "[[ 86.84218224]\n",
      " [ 63.15785162]\n",
      " [171.05261388]\n",
      " [ 63.15785162]\n",
      " [115.78950064]]\n"
     ]
    }
   ],
   "source": [
    "# Experiment with M3\n",
    "p = np.matmul(M3,p)\n",
    "print(p)"
   ]
  },
  {
   "cell_type": "markdown",
   "metadata": {},
   "source": [
    "Alternatively you might want to calculate the eigenvalues and eigenvectors."
   ]
  },
  {
   "cell_type": "code",
   "execution_count": 57,
   "metadata": {},
   "outputs": [],
   "source": [
    "l1, P1= np.linalg.eig(M1)\n",
    "l2, P2= np.linalg.eig(M2)\n",
    "l3, P3= np.linalg.eig(M3)"
   ]
  },
  {
   "cell_type": "code",
   "execution_count": 58,
   "metadata": {},
   "outputs": [
    {
     "name": "stdout",
     "output_type": "stream",
     "text": [
      "[ 0.    0.    0.53 -0.53  0.  ]\n"
     ]
    }
   ],
   "source": [
    "print(np.round(l1,2))"
   ]
  },
  {
   "cell_type": "code",
   "execution_count": 59,
   "metadata": {},
   "outputs": [
    {
     "name": "stdout",
     "output_type": "stream",
     "text": [
      "[ 1.    0.    0.53 -0.53  0.  ]\n"
     ]
    }
   ],
   "source": [
    "print(np.round(l2,2))"
   ]
  },
  {
   "cell_type": "code",
   "execution_count": 60,
   "metadata": {},
   "outputs": [
    {
     "name": "stdout",
     "output_type": "stream",
     "text": [
      "[[ 0.    0.    0.23  0.72  0.  ]\n",
      " [ 0.    0.    0.14 -0.45  0.  ]\n",
      " [ 1.   -0.71 -0.88 -0.07 -0.71]\n",
      " [ 0.    0.    0.14 -0.45 -0.  ]\n",
      " [ 0.    0.71  0.37  0.26  0.71]]\n"
     ]
    }
   ],
   "source": [
    "print(np.round(P2,2))"
   ]
  },
  {
   "cell_type": "code",
   "execution_count": 61,
   "metadata": {},
   "outputs": [
    {
     "name": "stdout",
     "output_type": "stream",
     "text": [
      "[ 1.  +0.j  -0.51+0.j  -0.14+0.3j -0.14-0.3j -0.  +0.j ]\n"
     ]
    }
   ],
   "source": [
    "print(np.round(l3,2))"
   ]
  },
  {
   "cell_type": "code",
   "execution_count": 62,
   "metadata": {},
   "outputs": [
    {
     "name": "stdout",
     "output_type": "stream",
     "text": [
      "[[ 0.36+0.j    0.74+0.j   -0.34-0.06j -0.34+0.06j -0.  +0.j  ]\n",
      " [ 0.26+0.j   -0.42+0.j   -0.12-0.11j -0.12+0.11j -0.8 +0.j  ]\n",
      " [ 0.71+0.j   -0.17+0.j    0.83+0.j    0.83-0.j    0.  +0.j  ]\n",
      " [ 0.26+0.j   -0.42+0.j   -0.12-0.11j -0.12+0.11j  0.53+0.j  ]\n",
      " [ 0.48+0.j    0.26+0.j   -0.24+0.28j -0.24-0.28j  0.27+0.j  ]]\n"
     ]
    }
   ],
   "source": [
    "print(np.round(P3,2))"
   ]
  },
  {
   "cell_type": "code",
   "execution_count": null,
   "metadata": {},
   "outputs": [],
   "source": []
  }
 ],
 "metadata": {
  "kernelspec": {
   "display_name": "Python 3 (ipykernel)",
   "language": "python",
   "name": "python3"
  },
  "language_info": {
   "codemirror_mode": {
    "name": "ipython",
    "version": 3
   },
   "file_extension": ".py",
   "mimetype": "text/x-python",
   "name": "python",
   "nbconvert_exporter": "python",
   "pygments_lexer": "ipython3",
   "version": "3.10.0"
  }
 },
 "nbformat": 4,
 "nbformat_minor": 4
}
