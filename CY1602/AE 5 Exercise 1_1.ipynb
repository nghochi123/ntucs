{
 "cells": [
  {
   "cell_type": "code",
   "execution_count": 1,
   "metadata": {},
   "outputs": [],
   "source": [
    "import numpy as np\n",
    "import matplotlib.pyplot as plt\n",
    "import pandas as pd"
   ]
  },
  {
   "cell_type": "markdown",
   "metadata": {},
   "source": [
    "Let's import the dataset `exercise.csv` into a Pandas dataframe `df`:"
   ]
  },
  {
   "cell_type": "code",
   "execution_count": 2,
   "metadata": {},
   "outputs": [],
   "source": [
    "df = pd.read_csv(\"exercise.csv\")"
   ]
  },
  {
   "cell_type": "markdown",
   "metadata": {},
   "source": [
    "And let's also take a look at what we have"
   ]
  },
  {
   "cell_type": "code",
   "execution_count": 3,
   "metadata": {},
   "outputs": [
    {
     "data": {
      "text/html": [
       "<div>\n",
       "<style scoped>\n",
       "    .dataframe tbody tr th:only-of-type {\n",
       "        vertical-align: middle;\n",
       "    }\n",
       "\n",
       "    .dataframe tbody tr th {\n",
       "        vertical-align: top;\n",
       "    }\n",
       "\n",
       "    .dataframe thead th {\n",
       "        text-align: right;\n",
       "    }\n",
       "</style>\n",
       "<table border=\"1\" class=\"dataframe\">\n",
       "  <thead>\n",
       "    <tr style=\"text-align: right;\">\n",
       "      <th></th>\n",
       "      <th>Var1</th>\n",
       "      <th>Var2</th>\n",
       "      <th>Var3</th>\n",
       "    </tr>\n",
       "  </thead>\n",
       "  <tbody>\n",
       "    <tr>\n",
       "      <th>0</th>\n",
       "      <td>1.391307</td>\n",
       "      <td>1.437120</td>\n",
       "      <td>-0.099913</td>\n",
       "    </tr>\n",
       "    <tr>\n",
       "      <th>1</th>\n",
       "      <td>1.485588</td>\n",
       "      <td>1.337144</td>\n",
       "      <td>0.223548</td>\n",
       "    </tr>\n",
       "    <tr>\n",
       "      <th>2</th>\n",
       "      <td>1.203553</td>\n",
       "      <td>1.602119</td>\n",
       "      <td>-0.114064</td>\n",
       "    </tr>\n",
       "    <tr>\n",
       "      <th>3</th>\n",
       "      <td>1.189041</td>\n",
       "      <td>1.588273</td>\n",
       "      <td>-0.116481</td>\n",
       "    </tr>\n",
       "    <tr>\n",
       "      <th>4</th>\n",
       "      <td>1.301933</td>\n",
       "      <td>1.435839</td>\n",
       "      <td>0.311574</td>\n",
       "    </tr>\n",
       "    <tr>\n",
       "      <th>...</th>\n",
       "      <td>...</td>\n",
       "      <td>...</td>\n",
       "      <td>...</td>\n",
       "    </tr>\n",
       "    <tr>\n",
       "      <th>185</th>\n",
       "      <td>1.218505</td>\n",
       "      <td>0.833437</td>\n",
       "      <td>0.091165</td>\n",
       "    </tr>\n",
       "    <tr>\n",
       "      <th>186</th>\n",
       "      <td>1.033752</td>\n",
       "      <td>1.048449</td>\n",
       "      <td>-0.168816</td>\n",
       "    </tr>\n",
       "    <tr>\n",
       "      <th>187</th>\n",
       "      <td>1.139916</td>\n",
       "      <td>0.963989</td>\n",
       "      <td>-0.033512</td>\n",
       "    </tr>\n",
       "    <tr>\n",
       "      <th>188</th>\n",
       "      <td>1.029995</td>\n",
       "      <td>1.086967</td>\n",
       "      <td>-0.044282</td>\n",
       "    </tr>\n",
       "    <tr>\n",
       "      <th>189</th>\n",
       "      <td>1.197402</td>\n",
       "      <td>0.923918</td>\n",
       "      <td>0.176647</td>\n",
       "    </tr>\n",
       "  </tbody>\n",
       "</table>\n",
       "<p>190 rows × 3 columns</p>\n",
       "</div>"
      ],
      "text/plain": [
       "         Var1      Var2      Var3\n",
       "0    1.391307  1.437120 -0.099913\n",
       "1    1.485588  1.337144  0.223548\n",
       "2    1.203553  1.602119 -0.114064\n",
       "3    1.189041  1.588273 -0.116481\n",
       "4    1.301933  1.435839  0.311574\n",
       "..        ...       ...       ...\n",
       "185  1.218505  0.833437  0.091165\n",
       "186  1.033752  1.048449 -0.168816\n",
       "187  1.139916  0.963989 -0.033512\n",
       "188  1.029995  1.086967 -0.044282\n",
       "189  1.197402  0.923918  0.176647\n",
       "\n",
       "[190 rows x 3 columns]"
      ]
     },
     "execution_count": 3,
     "metadata": {},
     "output_type": "execute_result"
    }
   ],
   "source": [
    "df"
   ]
  },
  {
   "cell_type": "markdown",
   "metadata": {},
   "source": [
    "Ok, so we have three variables, `Var1`, `Var2`, `Var3` and 190 observations.\n",
    "\n",
    "Is there any structure to this? Let's plot!\n",
    "\n",
    "## Exercise 1a\n",
    "Plot each pair of variables against each other. You *could* extract the three columns from the data frame and plot each pair against each other with `plt.plot`, but I recommend that you try the following instead:\n",
    "\n",
    "- You can directly plot, for example `Var2` against `Var1`, from the dataframe `df` using `df.plot.scatter('Var1','Var2')`. You might want to make the points smaller by adding the optional argument `marker='.'`), i.e. `df.plot.scatter('Var1','Var2',marker='.')`. An advantage with this is that you will automatically get appropriate axis labels.\n",
    "\n",
    "Plot all three pairs of variables against each other, i.e. `Var1-Var2`, `Var1-Var3`, `Var2-Var3`, and submit all three plots."
   ]
  },
  {
   "cell_type": "code",
   "execution_count": 24,
   "metadata": {},
   "outputs": [
    {
     "data": {
      "text/plain": [
       "<AxesSubplot:xlabel='Var3', ylabel='Var2'>"
      ]
     },
     "execution_count": 24,
     "metadata": {},
     "output_type": "execute_result"
    },
    {
     "data": {
      "image/png": "[encoded data removed]",
      "text/plain": [
       "<Figure size 432x288 with 1 Axes>"
      ]
     },
     "metadata": {
      "needs_background": "light"
     },
     "output_type": "display_data"
    },
    {
     "data": {
      "image/png": "[encoded data removed]",
      "text/plain": [
       "<Figure size 432x288 with 1 Axes>"
      ]
     },
     "metadata": {
      "needs_background": "light"
     },
     "output_type": "display_data"
    },
    {
     "data": {
      "image/png": "[encoded data removed]",
      "text/plain": [
       "<Figure size 432x288 with 1 Axes>"
      ]
     },
     "metadata": {
      "needs_background": "light"
     },
     "output_type": "display_data"
    }
   ],
   "source": [
    "# Do what you gotta do.\n",
    "df.plot.scatter('Var2', 'Var1', marker='.')\n",
    "df.plot.scatter('Var3', 'Var1', marker='.')\n",
    "df.plot.scatter('Var3', 'Var2', marker='.')"
   ]
  },
  {
   "cell_type": "markdown",
   "metadata": {},
   "source": [
    "## Exercise 1b\n",
    "1. Create a new dataframe `Yp` with the three principal components as columns. Label the columns `Pc1`, `Pc2` and `Pc3`.\n",
    "2. Plot each pair of principal components against each other. You can do it like you did in Part (a), but I recommend that you add the line `plt.axis('equal')` to adjust the aspect ratio of your plot. This way you get a better sense of the difference in variance between the three principal components. Submit all three plots in LAMS.\n",
    "3. Calculate how much (how many percent) of the total variance that is contained in the first *two* principal components, and submit your answer in LAMS. Recall that the variance of the principal components is found in the eigenvalues."
   ]
  },
  {
   "cell_type": "code",
   "execution_count": 17,
   "metadata": {},
   "outputs": [
    {
     "data": {
      "text/html": [
       "<div>\n",
       "<style scoped>\n",
       "    .dataframe tbody tr th:only-of-type {\n",
       "        vertical-align: middle;\n",
       "    }\n",
       "\n",
       "    .dataframe tbody tr th {\n",
       "        vertical-align: top;\n",
       "    }\n",
       "\n",
       "    .dataframe thead th {\n",
       "        text-align: right;\n",
       "    }\n",
       "</style>\n",
       "<table border=\"1\" class=\"dataframe\">\n",
       "  <thead>\n",
       "    <tr style=\"text-align: right;\">\n",
       "      <th></th>\n",
       "      <th>Var1</th>\n",
       "      <th>Var2</th>\n",
       "      <th>Var3</th>\n",
       "    </tr>\n",
       "  </thead>\n",
       "  <tbody>\n",
       "    <tr>\n",
       "      <th>0</th>\n",
       "      <td>1.391307</td>\n",
       "      <td>1.437120</td>\n",
       "      <td>-0.099913</td>\n",
       "    </tr>\n",
       "    <tr>\n",
       "      <th>1</th>\n",
       "      <td>1.485588</td>\n",
       "      <td>1.337144</td>\n",
       "      <td>0.223548</td>\n",
       "    </tr>\n",
       "    <tr>\n",
       "      <th>2</th>\n",
       "      <td>1.203553</td>\n",
       "      <td>1.602119</td>\n",
       "      <td>-0.114064</td>\n",
       "    </tr>\n",
       "    <tr>\n",
       "      <th>3</th>\n",
       "      <td>1.189041</td>\n",
       "      <td>1.588273</td>\n",
       "      <td>-0.116481</td>\n",
       "    </tr>\n",
       "    <tr>\n",
       "      <th>4</th>\n",
       "      <td>1.301933</td>\n",
       "      <td>1.435839</td>\n",
       "      <td>0.311574</td>\n",
       "    </tr>\n",
       "    <tr>\n",
       "      <th>...</th>\n",
       "      <td>...</td>\n",
       "      <td>...</td>\n",
       "      <td>...</td>\n",
       "    </tr>\n",
       "    <tr>\n",
       "      <th>185</th>\n",
       "      <td>1.218505</td>\n",
       "      <td>0.833437</td>\n",
       "      <td>0.091165</td>\n",
       "    </tr>\n",
       "    <tr>\n",
       "      <th>186</th>\n",
       "      <td>1.033752</td>\n",
       "      <td>1.048449</td>\n",
       "      <td>-0.168816</td>\n",
       "    </tr>\n",
       "    <tr>\n",
       "      <th>187</th>\n",
       "      <td>1.139916</td>\n",
       "      <td>0.963989</td>\n",
       "      <td>-0.033512</td>\n",
       "    </tr>\n",
       "    <tr>\n",
       "      <th>188</th>\n",
       "      <td>1.029995</td>\n",
       "      <td>1.086967</td>\n",
       "      <td>-0.044282</td>\n",
       "    </tr>\n",
       "    <tr>\n",
       "      <th>189</th>\n",
       "      <td>1.197402</td>\n",
       "      <td>0.923918</td>\n",
       "      <td>0.176647</td>\n",
       "    </tr>\n",
       "  </tbody>\n",
       "</table>\n",
       "<p>190 rows × 3 columns</p>\n",
       "</div>"
      ],
      "text/plain": [
       "         Var1      Var2      Var3\n",
       "0    1.391307  1.437120 -0.099913\n",
       "1    1.485588  1.337144  0.223548\n",
       "2    1.203553  1.602119 -0.114064\n",
       "3    1.189041  1.588273 -0.116481\n",
       "4    1.301933  1.435839  0.311574\n",
       "..        ...       ...       ...\n",
       "185  1.218505  0.833437  0.091165\n",
       "186  1.033752  1.048449 -0.168816\n",
       "187  1.139916  0.963989 -0.033512\n",
       "188  1.029995  1.086967 -0.044282\n",
       "189  1.197402  0.923918  0.176647\n",
       "\n",
       "[190 rows x 3 columns]"
      ]
     },
     "execution_count": 17,
     "metadata": {},
     "output_type": "execute_result"
    }
   ],
   "source": [
    "# Do it!\n",
    "# You can pretty much copy what was done in the notebook accompanying the lectures,\n",
    "# but even if you are just mimicking what was done there, try to understand what's going on.\n",
    "# If you are confused by something, you can always ask me.\n",
    "X"
   ]
  },
  {
   "cell_type": "code",
   "execution_count": 9,
   "metadata": {},
   "outputs": [
    {
     "name": "stdout",
     "output_type": "stream",
     "text": [
      "          Var1      Var2      Var3\n",
      "Var1  0.829701  0.651682 -0.099554\n",
      "Var2  0.651682  0.827619  0.099318\n",
      "Var3 -0.099554  0.099318  0.163955 \n",
      "           Var1      Var2      Var3\n",
      "Var1  1.000000  0.786430 -0.269922\n",
      "Var2  0.786430  1.000000  0.269618\n",
      "Var3 -0.269922  0.269618  1.000000\n"
     ]
    }
   ],
   "source": [
    "X = df.loc[:, ['Var1', 'Var2', 'Var3']]\n",
    "\n",
    "S = X.cov()\n",
    "R = X.corr()\n",
    "print(S, '\\n', R)"
   ]
  },
  {
   "cell_type": "code",
   "execution_count": 10,
   "metadata": {},
   "outputs": [
    {
     "data": {
      "text/html": [
       "<div>\n",
       "<style scoped>\n",
       "    .dataframe tbody tr th:only-of-type {\n",
       "        vertical-align: middle;\n",
       "    }\n",
       "\n",
       "    .dataframe tbody tr th {\n",
       "        vertical-align: top;\n",
       "    }\n",
       "\n",
       "    .dataframe thead th {\n",
       "        text-align: right;\n",
       "    }\n",
       "</style>\n",
       "<table border=\"1\" class=\"dataframe\">\n",
       "  <thead>\n",
       "    <tr style=\"text-align: right;\">\n",
       "      <th></th>\n",
       "      <th>Var1</th>\n",
       "      <th>Var2</th>\n",
       "      <th>Var3</th>\n",
       "    </tr>\n",
       "  </thead>\n",
       "  <tbody>\n",
       "    <tr>\n",
       "      <th>0</th>\n",
       "      <td>1.393566</td>\n",
       "      <td>1.416998</td>\n",
       "      <td>-0.108243</td>\n",
       "    </tr>\n",
       "    <tr>\n",
       "      <th>1</th>\n",
       "      <td>1.487847</td>\n",
       "      <td>1.317022</td>\n",
       "      <td>0.215218</td>\n",
       "    </tr>\n",
       "    <tr>\n",
       "      <th>2</th>\n",
       "      <td>1.205812</td>\n",
       "      <td>1.581997</td>\n",
       "      <td>-0.122394</td>\n",
       "    </tr>\n",
       "    <tr>\n",
       "      <th>3</th>\n",
       "      <td>1.191300</td>\n",
       "      <td>1.568150</td>\n",
       "      <td>-0.124811</td>\n",
       "    </tr>\n",
       "    <tr>\n",
       "      <th>4</th>\n",
       "      <td>1.304192</td>\n",
       "      <td>1.415717</td>\n",
       "      <td>0.303244</td>\n",
       "    </tr>\n",
       "    <tr>\n",
       "      <th>...</th>\n",
       "      <td>...</td>\n",
       "      <td>...</td>\n",
       "      <td>...</td>\n",
       "    </tr>\n",
       "    <tr>\n",
       "      <th>185</th>\n",
       "      <td>1.220764</td>\n",
       "      <td>0.813315</td>\n",
       "      <td>0.082835</td>\n",
       "    </tr>\n",
       "    <tr>\n",
       "      <th>186</th>\n",
       "      <td>1.036011</td>\n",
       "      <td>1.028327</td>\n",
       "      <td>-0.177146</td>\n",
       "    </tr>\n",
       "    <tr>\n",
       "      <th>187</th>\n",
       "      <td>1.142175</td>\n",
       "      <td>0.943866</td>\n",
       "      <td>-0.041842</td>\n",
       "    </tr>\n",
       "    <tr>\n",
       "      <th>188</th>\n",
       "      <td>1.032253</td>\n",
       "      <td>1.066845</td>\n",
       "      <td>-0.052612</td>\n",
       "    </tr>\n",
       "    <tr>\n",
       "      <th>189</th>\n",
       "      <td>1.199661</td>\n",
       "      <td>0.903796</td>\n",
       "      <td>0.168316</td>\n",
       "    </tr>\n",
       "  </tbody>\n",
       "</table>\n",
       "<p>190 rows × 3 columns</p>\n",
       "</div>"
      ],
      "text/plain": [
       "         Var1      Var2      Var3\n",
       "0    1.393566  1.416998 -0.108243\n",
       "1    1.487847  1.317022  0.215218\n",
       "2    1.205812  1.581997 -0.122394\n",
       "3    1.191300  1.568150 -0.124811\n",
       "4    1.304192  1.415717  0.303244\n",
       "..        ...       ...       ...\n",
       "185  1.220764  0.813315  0.082835\n",
       "186  1.036011  1.028327 -0.177146\n",
       "187  1.142175  0.943866 -0.041842\n",
       "188  1.032253  1.066845 -0.052612\n",
       "189  1.199661  0.903796  0.168316\n",
       "\n",
       "[190 rows x 3 columns]"
      ]
     },
     "execution_count": 10,
     "metadata": {},
     "output_type": "execute_result"
    }
   ],
   "source": [
    "Y = X - X.mean()\n",
    "Y"
   ]
  },
  {
   "cell_type": "code",
   "execution_count": 11,
   "metadata": {},
   "outputs": [],
   "source": [
    "l, Q = np.linalg.eig(S)\n",
    "idx = l.argsort()[::-1]\n",
    "l = l[idx]\n",
    "Q = Q[:, idx]"
   ]
  },
  {
   "cell_type": "code",
   "execution_count": 12,
   "metadata": {},
   "outputs": [
    {
     "name": "stdout",
     "output_type": "stream",
     "text": [
      "[1.48034314 0.31123996 0.02969149] \n",
      " [[-7.07687746e-01 -5.10906749e-01  4.88008554e-01]\n",
      " [-7.06525306e-01  5.11957558e-01 -4.88591291e-01]\n",
      " [ 2.15079262e-04  6.90560463e-01  7.23274638e-01]]\n"
     ]
    }
   ],
   "source": [
    "print(l, '\\n', Q)"
   ]
  },
  {
   "cell_type": "code",
   "execution_count": 14,
   "metadata": {},
   "outputs": [],
   "source": [
    "Yp = Y @ Q\n",
    "Yp.columns = ['Pc1', 'Pc2', 'Pc3']"
   ]
  },
  {
   "cell_type": "code",
   "execution_count": 27,
   "metadata": {},
   "outputs": [
    {
     "data": {
      "text/plain": [
       "(-1.1481727422173935,\n",
       " 1.1344394170052223,\n",
       " -0.33086634233405754,\n",
       " 0.3394268906379864)"
      ]
     },
     "execution_count": 27,
     "metadata": {},
     "output_type": "execute_result"
    },
    {
     "data": {
      "image/png": "[encoded data removed]",
      "text/plain": [
       "<Figure size 432x288 with 1 Axes>"
      ]
     },
     "metadata": {
      "needs_background": "light"
     },
     "output_type": "display_data"
    },
    {
     "data": {
      "image/png": "[encoded data removed]",
      "text/plain": [
       "<Figure size 432x288 with 1 Axes>"
      ]
     },
     "metadata": {
      "needs_background": "light"
     },
     "output_type": "display_data"
    },
    {
     "data": {
      "image/png": "[encoded data removed]",
      "text/plain": [
       "<Figure size 432x288 with 1 Axes>"
      ]
     },
     "metadata": {
      "needs_background": "light"
     },
     "output_type": "display_data"
    }
   ],
   "source": [
    "Yp.plot.scatter('Pc1', 'Pc2', marker='.')\n",
    "plt.axis('Equal')\n",
    "Yp.plot.scatter('Pc1', 'Pc3', marker='.')\n",
    "plt.axis('Equal')\n",
    "Yp.plot.scatter('Pc2', 'Pc3', marker='.')\n",
    "plt.axis('Equal')"
   ]
  },
  {
   "cell_type": "code",
   "execution_count": 23,
   "metadata": {},
   "outputs": [
    {
     "data": {
      "text/plain": [
       "98.36974103077247"
      ]
     },
     "execution_count": 23,
     "metadata": {},
     "output_type": "execute_result"
    }
   ],
   "source": [
    "pct = sum(l[:2])/sum(l)\n",
    "pct * 100"
   ]
  },
  {
   "cell_type": "code",
   "execution_count": null,
   "metadata": {},
   "outputs": [],
   "source": []
  }
 ],
 "metadata": {
  "kernelspec": {
   "display_name": "Python 3 (ipykernel)",
   "language": "python",
   "name": "python3"
  },
  "language_info": {
   "codemirror_mode": {
    "name": "ipython",
    "version": 3
   },
   "file_extension": ".py",
   "mimetype": "text/x-python",
   "name": "python",
   "nbconvert_exporter": "python",
   "pygments_lexer": "ipython3",
   "version": "3.10.0"
  }
 },
 "nbformat": 4,
 "nbformat_minor": 4
}
